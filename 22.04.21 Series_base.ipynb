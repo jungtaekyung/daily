{
 "cells": [
  {
   "cell_type": "code",
   "execution_count": 1,
   "id": "1a2bbd59",
   "metadata": {},
   "outputs": [],
   "source": [
    "import numpy as np\n",
    "import pandas as pd"
   ]
  },
  {
   "cell_type": "code",
   "execution_count": 3,
   "id": "a023c1e2",
   "metadata": {},
   "outputs": [],
   "source": [
    "# 시리즈는 1차원데이터, \n",
    "#직접 생성하는건 아니고 데이터 연산 결과 출력 폼이라는 느낌\n",
    "#왼쪽이 index, 오른쪽이 value(값)"
   ]
  },
  {
   "cell_type": "code",
   "execution_count": null,
   "id": "531235fe",
   "metadata": {},
   "outputs": [],
   "source": [
    "# pd.Series(\n",
    "#     data=None, 첫번째 data\n",
    "#     index=None,두번째 index\n",
    "#     dtype: 'Dtype | None' = None,\n",
    "#     name=None,\n",
    "#     copy: 'bool' = False,\n",
    "#     fastpath: 'bool' = False,\n",
    "# )"
   ]
  },
  {
   "cell_type": "code",
   "execution_count": 4,
   "id": "ac774374",
   "metadata": {},
   "outputs": [
    {
     "data": {
      "text/plain": [
       "0    1\n",
       "1    2\n",
       "2    3\n",
       "dtype: int64"
      ]
     },
     "execution_count": 4,
     "metadata": {},
     "output_type": "execute_result"
    }
   ],
   "source": [
    "s1 = pd.Series([1,2,3])\n",
    "s1 "
   ]
  },
  {
   "cell_type": "code",
   "execution_count": 5,
   "id": "735a2f59",
   "metadata": {},
   "outputs": [
    {
     "data": {
      "text/plain": [
       "(RangeIndex(start=0, stop=3, step=1), dtype('int64'))"
      ]
     },
     "execution_count": 5,
     "metadata": {},
     "output_type": "execute_result"
    }
   ],
   "source": [
    "s1.index,s1.dtype"
   ]
  },
  {
   "cell_type": "code",
   "execution_count": 7,
   "id": "5017598b",
   "metadata": {},
   "outputs": [
    {
     "data": {
      "text/plain": [
       "11    10\n",
       "22    20\n",
       "33    30\n",
       "dtype: int64"
      ]
     },
     "execution_count": 7,
     "metadata": {},
     "output_type": "execute_result"
    }
   ],
   "source": [
    "s2 = pd.Series([10,20,30],[11,22,33])\n",
    "s2"
   ]
  },
  {
   "cell_type": "code",
   "execution_count": 8,
   "id": "0e3af0ce",
   "metadata": {},
   "outputs": [
    {
     "data": {
      "text/plain": [
       "20"
      ]
     },
     "execution_count": 8,
     "metadata": {},
     "output_type": "execute_result"
    }
   ],
   "source": [
    "s2[22]"
   ]
  },
  {
   "cell_type": "code",
   "execution_count": 10,
   "id": "64a28a74",
   "metadata": {},
   "outputs": [
    {
     "data": {
      "text/plain": [
       "Int64Index([11, 22, 33], dtype='int64')"
      ]
     },
     "execution_count": 10,
     "metadata": {},
     "output_type": "execute_result"
    }
   ],
   "source": [
    "s2.index"
   ]
  },
  {
   "cell_type": "code",
   "execution_count": 11,
   "id": "4b49f421",
   "metadata": {},
   "outputs": [
    {
     "data": {
      "text/plain": [
       "딸기    1\n",
       "포도    2\n",
       "귤     3\n",
       "메론    4\n",
       "dtype: int64"
      ]
     },
     "execution_count": 11,
     "metadata": {},
     "output_type": "execute_result"
    }
   ],
   "source": [
    "s3 = pd.Series([1,2,3,4],['딸기','포도','귤','메론'])\n",
    "s3 #index가 정수인거만은 아님"
   ]
  },
  {
   "cell_type": "code",
   "execution_count": 12,
   "id": "85bfc263",
   "metadata": {},
   "outputs": [
    {
     "data": {
      "text/plain": [
       "딸기    1\n",
       "귤     2\n",
       "귤     3\n",
       "메론    4\n",
       "dtype: int64"
      ]
     },
     "execution_count": 12,
     "metadata": {},
     "output_type": "execute_result"
    }
   ],
   "source": [
    "s3 = pd.Series([1,2,3,4],['딸기','귤','귤','메론'])\n",
    "s3 #index 중복 허용 가능"
   ]
  },
  {
   "cell_type": "code",
   "execution_count": 14,
   "id": "345f77d7",
   "metadata": {},
   "outputs": [],
   "source": [
    "s3['귤']=5"
   ]
  },
  {
   "cell_type": "code",
   "execution_count": 15,
   "id": "b3d9d869",
   "metadata": {},
   "outputs": [
    {
     "data": {
      "text/plain": [
       "딸기    1\n",
       "귤     5\n",
       "귤     5\n",
       "메론    4\n",
       "dtype: int64"
      ]
     },
     "execution_count": 15,
     "metadata": {},
     "output_type": "execute_result"
    }
   ],
   "source": [
    "s3 #중복인덱싱의 값을 바꾸면 해당인덱싱의 값이 모두 바뀜"
   ]
  },
  {
   "cell_type": "code",
   "execution_count": 16,
   "id": "6c7f09b5",
   "metadata": {},
   "outputs": [
    {
     "data": {
      "text/plain": [
       "귤    5\n",
       "귤    5\n",
       "dtype: int64"
      ]
     },
     "execution_count": 16,
     "metadata": {},
     "output_type": "execute_result"
    }
   ],
   "source": [
    "s3['귤']"
   ]
  },
  {
   "cell_type": "code",
   "execution_count": 24,
   "id": "947d716b",
   "metadata": {},
   "outputs": [],
   "source": [
    "sdict = {'딸기': 300, '포도': 600,'귤':120,'메론':40}"
   ]
  },
  {
   "cell_type": "code",
   "execution_count": 25,
   "id": "8099d70e",
   "metadata": {},
   "outputs": [
    {
     "data": {
      "text/plain": [
       "딸기    300\n",
       "포도    600\n",
       "귤     120\n",
       "메론     40\n",
       "dtype: int64"
      ]
     },
     "execution_count": 25,
     "metadata": {},
     "output_type": "execute_result"
    }
   ],
   "source": [
    "s4=pd.Series(sdict)\n",
    "s4 #dict형태로 넣어 잘들어간다"
   ]
  },
  {
   "cell_type": "code",
   "execution_count": 26,
   "id": "7b3133b5",
   "metadata": {},
   "outputs": [
    {
     "data": {
      "text/plain": [
       "Index(['딸기', '포도', '귤', '메론'], dtype='object')"
      ]
     },
     "execution_count": 26,
     "metadata": {},
     "output_type": "execute_result"
    }
   ],
   "source": [
    "s4.index"
   ]
  },
  {
   "cell_type": "code",
   "execution_count": 27,
   "id": "619edee6",
   "metadata": {},
   "outputs": [
    {
     "data": {
      "text/plain": [
       "array(['딸기', '포도', '귤', '메론'], dtype=object)"
      ]
     },
     "execution_count": 27,
     "metadata": {},
     "output_type": "execute_result"
    }
   ],
   "source": [
    "s4.index.values #array형태로"
   ]
  },
  {
   "cell_type": "code",
   "execution_count": 28,
   "id": "47492aa6",
   "metadata": {},
   "outputs": [
    {
     "data": {
      "text/plain": [
       "array([300, 600, 120,  40], dtype=int64)"
      ]
     },
     "execution_count": 28,
     "metadata": {},
     "output_type": "execute_result"
    }
   ],
   "source": [
    "s4.values #array형태"
   ]
  },
  {
   "cell_type": "code",
   "execution_count": 31,
   "id": "478b9a54",
   "metadata": {},
   "outputs": [
    {
     "data": {
      "text/plain": [
       "(300,\n",
       " 딸기    300\n",
       " 귤     120\n",
       " dtype: int64)"
      ]
     },
     "execution_count": 31,
     "metadata": {},
     "output_type": "execute_result"
    }
   ],
   "source": [
    "s4['딸기'],s4[['딸기','귤']] #s4['딸기','귤']에러"
   ]
  },
  {
   "cell_type": "code",
   "execution_count": 32,
   "id": "7fa4b6a9",
   "metadata": {},
   "outputs": [
    {
     "data": {
      "text/plain": [
       "300"
      ]
     },
     "execution_count": 32,
     "metadata": {},
     "output_type": "execute_result"
    }
   ],
   "source": [
    "s4['딸기'] #value"
   ]
  },
  {
   "cell_type": "code",
   "execution_count": 33,
   "id": "6e35ca00",
   "metadata": {},
   "outputs": [
    {
     "data": {
      "text/plain": [
       "딸기    300\n",
       "dtype: int64"
      ]
     },
     "execution_count": 33,
     "metadata": {},
     "output_type": "execute_result"
    }
   ],
   "source": [
    "s4[['딸기']] #Series"
   ]
  },
  {
   "cell_type": "code",
   "execution_count": 35,
   "id": "d2616ee3",
   "metadata": {},
   "outputs": [
    {
     "data": {
      "text/plain": [
       "메론     40\n",
       "귤     120\n",
       "딸기    300\n",
       "dtype: int64"
      ]
     },
     "execution_count": 35,
     "metadata": {},
     "output_type": "execute_result"
    }
   ],
   "source": [
    "s4[['메론','귤','딸기']] #인덱스 적은 순서대로 시리즈에 나타남"
   ]
  },
  {
   "cell_type": "code",
   "execution_count": 36,
   "id": "911b8903",
   "metadata": {},
   "outputs": [
    {
     "data": {
      "text/plain": [
       "메론     40\n",
       "귤     120\n",
       "메론     40\n",
       "귤     120\n",
       "dtype: int64"
      ]
     },
     "execution_count": 36,
     "metadata": {},
     "output_type": "execute_result"
    }
   ],
   "source": [
    "s4[['메론','귤','메론','귤']] #동일한 인덱스 여러번 사용 가능"
   ]
  },
  {
   "cell_type": "code",
   "execution_count": 37,
   "id": "6c29f69b",
   "metadata": {},
   "outputs": [
    {
     "data": {
      "text/plain": [
       "딸기     300\n",
       "포도     600\n",
       "귤      120\n",
       "메론      40\n",
       "파파야     52\n",
       "dtype: int64"
      ]
     },
     "execution_count": 37,
     "metadata": {},
     "output_type": "execute_result"
    }
   ],
   "source": [
    "s4['파파야']=52 #없는 인덱스에 새로 값줄 경우 새로 추가시킴\n",
    "s4"
   ]
  },
  {
   "cell_type": "code",
   "execution_count": 39,
   "id": "c93d3dc1",
   "metadata": {},
   "outputs": [
    {
     "data": {
      "text/plain": [
       "딸기     300\n",
       "포도     600\n",
       "귤       90\n",
       "메론      40\n",
       "파파야    100\n",
       "dtype: int64"
      ]
     },
     "execution_count": 39,
     "metadata": {},
     "output_type": "execute_result"
    }
   ],
   "source": [
    "s4[['귤','파파야']]=90,100 #복수의 값 수정 가능\n",
    "s4"
   ]
  },
  {
   "cell_type": "code",
   "execution_count": 40,
   "id": "d182ac71",
   "metadata": {},
   "outputs": [
    {
     "data": {
      "text/plain": [
       "Index(['딸기', '포도', '귤', '메론', '파파야'], dtype='object')"
      ]
     },
     "execution_count": 40,
     "metadata": {},
     "output_type": "execute_result"
    }
   ],
   "source": [
    "s4.index"
   ]
  },
  {
   "cell_type": "code",
   "execution_count": 42,
   "id": "69ec4f07",
   "metadata": {},
   "outputs": [
    {
     "data": {
      "text/plain": [
       "딸기     0\n",
       "포도     1\n",
       "귤      2\n",
       "메론     3\n",
       "파파야    4\n",
       "dtype: int32"
      ]
     },
     "execution_count": 42,
     "metadata": {},
     "output_type": "execute_result"
    }
   ],
   "source": [
    "s5 = pd.Series(np.arange(5),s4.index)\n",
    "s5 #s4의 인덱스를 재사용하여 새로운 Series 생성"
   ]
  },
  {
   "cell_type": "code",
   "execution_count": 43,
   "id": "a860e1e1",
   "metadata": {},
   "outputs": [
    {
     "data": {
      "text/plain": [
       "딸기     300\n",
       "포도     600\n",
       "귤       90\n",
       "메론      40\n",
       "파파야    100\n",
       "Name: 과일가격, dtype: int64"
      ]
     },
     "execution_count": 43,
     "metadata": {},
     "output_type": "execute_result"
    }
   ],
   "source": [
    "s4.name='과일가격' #시리즈의 이름 추가\n",
    "s4"
   ]
  },
  {
   "cell_type": "code",
   "execution_count": 44,
   "id": "fdecee8f",
   "metadata": {},
   "outputs": [
    {
     "data": {
      "text/plain": [
       "Index(['딸기', '포도', '귤', '메론', '파파야'], dtype='object')"
      ]
     },
     "execution_count": 44,
     "metadata": {},
     "output_type": "execute_result"
    }
   ],
   "source": [
    "s4.index"
   ]
  },
  {
   "cell_type": "code",
   "execution_count": 45,
   "id": "414eb880",
   "metadata": {},
   "outputs": [
    {
     "data": {
      "text/plain": [
       "과일명\n",
       "딸기     300\n",
       "포도     600\n",
       "귤       90\n",
       "메론      40\n",
       "파파야    100\n",
       "Name: 과일가격, dtype: int64"
      ]
     },
     "execution_count": 45,
     "metadata": {},
     "output_type": "execute_result"
    }
   ],
   "source": [
    "s4.index.name = '과일명' #인덱스에도 name을 줄 수 있다\n",
    "s4"
   ]
  },
  {
   "cell_type": "code",
   "execution_count": 47,
   "id": "cfb7de40",
   "metadata": {},
   "outputs": [
    {
     "data": {
      "text/plain": [
       "오렌지      300\n",
       "스타후르츠    600\n",
       "키위        90\n",
       "망고        40\n",
       "참외       100\n",
       "Name: 과일가격, dtype: int64"
      ]
     },
     "execution_count": 47,
     "metadata": {},
     "output_type": "execute_result"
    }
   ],
   "source": [
    "s4.index=['오렌지','스타후르츠','키위','망고','참외']\n",
    "s4 #인덱스 변경가능"
   ]
  },
  {
   "cell_type": "code",
   "execution_count": 48,
   "id": "cb4825a8",
   "metadata": {},
   "outputs": [
    {
     "data": {
      "text/plain": [
       "(1, (5,), 5, 5)"
      ]
     },
     "execution_count": 48,
     "metadata": {},
     "output_type": "execute_result"
    }
   ],
   "source": [
    "s4.ndim,s4.shape,s4.size,len(s4)"
   ]
  },
  {
   "cell_type": "code",
   "execution_count": 49,
   "id": "83dc85ac",
   "metadata": {},
   "outputs": [],
   "source": [
    "s4['키위']=100\n",
    "s4['수박']=np.NaN"
   ]
  },
  {
   "cell_type": "code",
   "execution_count": 50,
   "id": "fb469748",
   "metadata": {},
   "outputs": [
    {
     "data": {
      "text/plain": [
       "array([300, 600, 100,  40], dtype=int64)"
      ]
     },
     "execution_count": 50,
     "metadata": {},
     "output_type": "execute_result"
    }
   ],
   "source": [
    "s4.unique()#고유한값만 추출,nan도 나오는 모습"
   ]
  },
  {
   "cell_type": "code",
   "execution_count": 56,
   "id": "9085a9aa",
   "metadata": {},
   "outputs": [
    {
     "data": {
      "text/plain": [
       "5"
      ]
     },
     "execution_count": 56,
     "metadata": {},
     "output_type": "execute_result"
    }
   ],
   "source": [
    "s4.count() #NaN은 카운트 하지 않는다"
   ]
  },
  {
   "cell_type": "code",
   "execution_count": 57,
   "id": "c08d8e88",
   "metadata": {},
   "outputs": [
    {
     "data": {
      "text/plain": [
       "nan"
      ]
     },
     "execution_count": 57,
     "metadata": {},
     "output_type": "execute_result"
    }
   ],
   "source": [
    "a1= np.array([2,2,2,2,np.NaN])\n",
    "a1.mean() #array는 nan도 연산을 하여 결과값이 nan"
   ]
  },
  {
   "cell_type": "code",
   "execution_count": 58,
   "id": "5cac5af5",
   "metadata": {},
   "outputs": [
    {
     "data": {
      "text/plain": [
       "228.0"
      ]
     },
     "execution_count": 58,
     "metadata": {},
     "output_type": "execute_result"
    }
   ],
   "source": [
    "s4.mean() #Series는 NaN을 연산에 포함시키지 않는다."
   ]
  },
  {
   "cell_type": "code",
   "execution_count": 63,
   "id": "b2dccb63",
   "metadata": {},
   "outputs": [
    {
     "data": {
      "text/plain": [
       "0    0\n",
       "1    1\n",
       "2    2\n",
       "3    3\n",
       "4    4\n",
       "5    5\n",
       "6    6\n",
       "7    7\n",
       "8    8\n",
       "9    9\n",
       "dtype: int32"
      ]
     },
     "execution_count": 63,
     "metadata": {},
     "output_type": "execute_result"
    }
   ],
   "source": [
    "s6=pd.Series(np.arange(10))\n",
    "s6"
   ]
  },
  {
   "cell_type": "code",
   "execution_count": 64,
   "id": "69742553",
   "metadata": {},
   "outputs": [
    {
     "data": {
      "text/plain": [
       "0    0\n",
       "1    1\n",
       "2    2\n",
       "3    3\n",
       "4    4\n",
       "dtype: int32"
      ]
     },
     "execution_count": 64,
     "metadata": {},
     "output_type": "execute_result"
    }
   ],
   "source": [
    "s6.head() #맨위의 5개만 보여줌"
   ]
  },
  {
   "cell_type": "code",
   "execution_count": 65,
   "id": "590a32df",
   "metadata": {},
   "outputs": [
    {
     "data": {
      "text/plain": [
       "0    0\n",
       "1    1\n",
       "2    2\n",
       "dtype: int32"
      ]
     },
     "execution_count": 65,
     "metadata": {},
     "output_type": "execute_result"
    }
   ],
   "source": [
    "s6.head(3) #숫자 지정가능"
   ]
  },
  {
   "cell_type": "code",
   "execution_count": 66,
   "id": "06faa68e",
   "metadata": {},
   "outputs": [
    {
     "data": {
      "text/plain": [
       "5    5\n",
       "6    6\n",
       "7    7\n",
       "8    8\n",
       "9    9\n",
       "dtype: int32"
      ]
     },
     "execution_count": 66,
     "metadata": {},
     "output_type": "execute_result"
    }
   ],
   "source": [
    "s6.tail() #맨밑의 5개만 보여줌"
   ]
  },
  {
   "cell_type": "code",
   "execution_count": 67,
   "id": "4b713ba7",
   "metadata": {},
   "outputs": [
    {
     "data": {
      "text/plain": [
       "0    0\n",
       "1    1\n",
       "2    2\n",
       "dtype: int32"
      ]
     },
     "execution_count": 67,
     "metadata": {},
     "output_type": "execute_result"
    }
   ],
   "source": [
    "s6.head(3) #숫자 지정가능"
   ]
  },
  {
   "cell_type": "code",
   "execution_count": 68,
   "id": "6b781ccd",
   "metadata": {},
   "outputs": [],
   "source": [
    "s7 = pd.Series([1, 2, 3, 4], ['a', 'b', 'c', 'd'])\n",
    "s8 = pd.Series([6, 3, 2, 1], ['d', 'c', 'b', 'a']) "
   ]
  },
  {
   "cell_type": "code",
   "execution_count": 69,
   "id": "5e950d21",
   "metadata": {},
   "outputs": [
    {
     "data": {
      "text/plain": [
       "a    1\n",
       "b    2\n",
       "c    3\n",
       "d    4\n",
       "dtype: int64"
      ]
     },
     "execution_count": 69,
     "metadata": {},
     "output_type": "execute_result"
    }
   ],
   "source": [
    "s7"
   ]
  },
  {
   "cell_type": "code",
   "execution_count": 70,
   "id": "d375b29b",
   "metadata": {},
   "outputs": [
    {
     "data": {
      "text/plain": [
       "d    6\n",
       "c    3\n",
       "b    2\n",
       "a    1\n",
       "dtype: int64"
      ]
     },
     "execution_count": 70,
     "metadata": {},
     "output_type": "execute_result"
    }
   ],
   "source": [
    "s8"
   ]
  },
  {
   "cell_type": "code",
   "execution_count": 71,
   "id": "408a3572",
   "metadata": {},
   "outputs": [
    {
     "data": {
      "text/plain": [
       "a     2\n",
       "b     4\n",
       "c     6\n",
       "d    10\n",
       "dtype: int64"
      ]
     },
     "execution_count": 71,
     "metadata": {},
     "output_type": "execute_result"
    }
   ],
   "source": [
    "s7+s8 #같은 인덱스 끼리 연산"
   ]
  },
  {
   "cell_type": "code",
   "execution_count": 72,
   "id": "d5eebe19",
   "metadata": {},
   "outputs": [
    {
     "data": {
      "text/plain": [
       "a     1\n",
       "b     4\n",
       "c     9\n",
       "d    16\n",
       "dtype: int64"
      ]
     },
     "execution_count": 72,
     "metadata": {},
     "output_type": "execute_result"
    }
   ],
   "source": [
    "s7 ** 2"
   ]
  },
  {
   "cell_type": "code",
   "execution_count": 73,
   "id": "c5c6069f",
   "metadata": {},
   "outputs": [
    {
     "data": {
      "text/plain": [
       "a       1\n",
       "b       4\n",
       "c      27\n",
       "d    4096\n",
       "dtype: int64"
      ]
     },
     "execution_count": 73,
     "metadata": {},
     "output_type": "execute_result"
    }
   ],
   "source": [
    "s7 ** s8 #역시나 같은 인덱스 끼리 연산"
   ]
  },
  {
   "cell_type": "code",
   "execution_count": 74,
   "id": "187cbf09",
   "metadata": {},
   "outputs": [],
   "source": [
    "s7['k']=7\n",
    "s7['e']=9"
   ]
  },
  {
   "cell_type": "code",
   "execution_count": 75,
   "id": "d1ef0e6f",
   "metadata": {},
   "outputs": [
    {
     "data": {
      "text/plain": [
       "a    1\n",
       "b    2\n",
       "c    3\n",
       "d    4\n",
       "k    7\n",
       "e    9\n",
       "dtype: int64"
      ]
     },
     "execution_count": 75,
     "metadata": {},
     "output_type": "execute_result"
    }
   ],
   "source": [
    "s7"
   ]
  },
  {
   "cell_type": "code",
   "execution_count": 76,
   "id": "457ccc1c",
   "metadata": {},
   "outputs": [
    {
     "data": {
      "text/plain": [
       "a     2.0\n",
       "b     4.0\n",
       "c     6.0\n",
       "d    10.0\n",
       "e     NaN\n",
       "k     NaN\n",
       "dtype: float64"
      ]
     },
     "execution_count": 76,
     "metadata": {},
     "output_type": "execute_result"
    }
   ],
   "source": [
    "s7+s8 # 인덱스가 맞지 않는 e와 k는 NaN 생성"
   ]
  },
  {
   "cell_type": "code",
   "execution_count": null,
   "id": "39d23c41",
   "metadata": {},
   "outputs": [],
   "source": []
  },
  {
   "cell_type": "code",
   "execution_count": null,
   "id": "6d4decf3",
   "metadata": {},
   "outputs": [],
   "source": []
  },
  {
   "cell_type": "code",
   "execution_count": null,
   "id": "9ceab3f8",
   "metadata": {},
   "outputs": [],
   "source": []
  },
  {
   "cell_type": "code",
   "execution_count": null,
   "id": "56427221",
   "metadata": {},
   "outputs": [],
   "source": []
  },
  {
   "cell_type": "code",
   "execution_count": null,
   "id": "b852dd98",
   "metadata": {},
   "outputs": [],
   "source": []
  },
  {
   "cell_type": "code",
   "execution_count": null,
   "id": "c9df5d64",
   "metadata": {},
   "outputs": [],
   "source": []
  },
  {
   "cell_type": "code",
   "execution_count": null,
   "id": "92352b87",
   "metadata": {},
   "outputs": [],
   "source": []
  },
  {
   "cell_type": "code",
   "execution_count": null,
   "id": "489f3a94",
   "metadata": {},
   "outputs": [],
   "source": []
  },
  {
   "cell_type": "code",
   "execution_count": null,
   "id": "992370d3",
   "metadata": {},
   "outputs": [],
   "source": []
  }
 ],
 "metadata": {
  "kernelspec": {
   "display_name": "Python 3 (ipykernel)",
   "language": "python",
   "name": "python3"
  },
  "language_info": {
   "codemirror_mode": {
    "name": "ipython",
    "version": 3
   },
   "file_extension": ".py",
   "mimetype": "text/x-python",
   "name": "python",
   "nbconvert_exporter": "python",
   "pygments_lexer": "ipython3",
   "version": "3.9.12"
  }
 },
 "nbformat": 4,
 "nbformat_minor": 5
}
