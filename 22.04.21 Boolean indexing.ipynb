{
 "cells": [
  {
   "cell_type": "code",
   "execution_count": 5,
   "id": "47232a2a",
   "metadata": {},
   "outputs": [],
   "source": [
    "import numpy as np"
   ]
  },
  {
   "cell_type": "code",
   "execution_count": 18,
   "id": "a6cbd311",
   "metadata": {},
   "outputs": [
    {
     "data": {
      "text/plain": [
       "array([88, 15,  7, 86, 91, 14,  6, 57, 28, 90])"
      ]
     },
     "execution_count": 18,
     "metadata": {},
     "output_type": "execute_result"
    }
   ],
   "source": [
    "x= np.random.randint(1,100,size=10) #1 부터 100까지중 10개 랜덤 추출(중복허용)\n",
    "x"
   ]
  },
  {
   "cell_type": "code",
   "execution_count": 23,
   "id": "08cdec33",
   "metadata": {},
   "outputs": [],
   "source": [
    "x_mask = x % 2 == 0 #x_mask에 x가 짝수인지 가리는 boolean_mask 할당"
   ]
  },
  {
   "cell_type": "code",
   "execution_count": 24,
   "id": "eae4d30e",
   "metadata": {},
   "outputs": [
    {
     "data": {
      "text/plain": [
       "array([88, 86, 14,  6, 28, 90])"
      ]
     },
     "execution_count": 24,
     "metadata": {},
     "output_type": "execute_result"
    }
   ],
   "source": [
    "x[x_mask] #x인덱싱에 x_mask를 넣는 것으로 True인것만 나오는 모습"
   ]
  },
  {
   "cell_type": "code",
   "execution_count": 25,
   "id": "0475db67",
   "metadata": {},
   "outputs": [
    {
     "data": {
      "text/plain": [
       "array([88, 86, 14,  6, 28, 90])"
      ]
     },
     "execution_count": 25,
     "metadata": {},
     "output_type": "execute_result"
    }
   ],
   "source": [
    "x[x%2 ==0] #바로 인덱싱해도 문제 x"
   ]
  },
  {
   "cell_type": "code",
   "execution_count": 30,
   "id": "9c7a14fa",
   "metadata": {},
   "outputs": [
    {
     "data": {
      "text/plain": [
       "array([88, 86, 90])"
      ]
     },
     "execution_count": 30,
     "metadata": {},
     "output_type": "execute_result"
    }
   ],
   "source": [
    "x[(x%2==0) & (x>50)] #조건에 괄호를 치고 다중조건 사용 가능"
   ]
  },
  {
   "cell_type": "code",
   "execution_count": 31,
   "id": "13805acf",
   "metadata": {},
   "outputs": [
    {
     "data": {
      "text/plain": [
       "array([88, 86, 91, 14,  6, 57, 28, 90])"
      ]
     },
     "execution_count": 31,
     "metadata": {},
     "output_type": "execute_result"
    }
   ],
   "source": [
    "x[(x%2==0) | (x>50)] "
   ]
  },
  {
   "cell_type": "code",
   "execution_count": 32,
   "id": "2d8c07a0",
   "metadata": {},
   "outputs": [
    {
     "data": {
      "text/plain": [
       "array([ True, False, False,  True, False,  True,  True, False,  True,\n",
       "        True])"
      ]
     },
     "execution_count": 32,
     "metadata": {},
     "output_type": "execute_result"
    }
   ],
   "source": [
    "x%2==0 #boolean type으로 이루어져 있음"
   ]
  },
  {
   "cell_type": "code",
   "execution_count": 34,
   "id": "a489e3f6",
   "metadata": {},
   "outputs": [
    {
     "data": {
      "text/plain": [
       "array([1, 0, 0, 1, 0, 1, 1, 0, 1, 1])"
      ]
     },
     "execution_count": 34,
     "metadata": {},
     "output_type": "execute_result"
    }
   ],
   "source": [
    "(x%2==0).astype(int) #int type으로 변경 가능 \n",
    "    #머신러닝에서 onehot encoding으로 변환 시 자주 사용"
   ]
  },
  {
   "cell_type": "code",
   "execution_count": 36,
   "id": "1801811c",
   "metadata": {},
   "outputs": [
    {
     "data": {
      "text/plain": [
       "array([15, 88, 88, 15, 88, 15, 15, 88, 15, 15])"
      ]
     },
     "execution_count": 36,
     "metadata": {},
     "output_type": "execute_result"
    }
   ],
   "source": [
    "x[(x%2==0).astype(int)] #onehot encoding 후에는 동일하게 사용 불가"
   ]
  },
  {
   "cell_type": "code",
   "execution_count": 37,
   "id": "b2a6ceb8",
   "metadata": {},
   "outputs": [
    {
     "data": {
      "text/plain": [
       "6"
      ]
     },
     "execution_count": 37,
     "metadata": {},
     "output_type": "execute_result"
    }
   ],
   "source": [
    "np.sum(x%2==0) #True=1 False=0이기 때문에 개수 세는 데 용이"
   ]
  },
  {
   "cell_type": "code",
   "execution_count": null,
   "id": "20d04d5a",
   "metadata": {},
   "outputs": [],
   "source": []
  },
  {
   "cell_type": "code",
   "execution_count": null,
   "id": "67027e8b",
   "metadata": {},
   "outputs": [],
   "source": []
  },
  {
   "cell_type": "code",
   "execution_count": null,
   "id": "2c9f8a46",
   "metadata": {},
   "outputs": [],
   "source": []
  },
  {
   "cell_type": "code",
   "execution_count": null,
   "id": "530bd7d1",
   "metadata": {},
   "outputs": [],
   "source": []
  },
  {
   "cell_type": "code",
   "execution_count": null,
   "id": "76de5193",
   "metadata": {},
   "outputs": [],
   "source": []
  },
  {
   "cell_type": "code",
   "execution_count": null,
   "id": "f5837080",
   "metadata": {},
   "outputs": [],
   "source": []
  },
  {
   "cell_type": "code",
   "execution_count": null,
   "id": "49d82fe9",
   "metadata": {},
   "outputs": [],
   "source": []
  },
  {
   "cell_type": "code",
   "execution_count": null,
   "id": "162a42a6",
   "metadata": {},
   "outputs": [],
   "source": []
  }
 ],
 "metadata": {
  "kernelspec": {
   "display_name": "Python 3 (ipykernel)",
   "language": "python",
   "name": "python3"
  },
  "language_info": {
   "codemirror_mode": {
    "name": "ipython",
    "version": 3
   },
   "file_extension": ".py",
   "mimetype": "text/x-python",
   "name": "python",
   "nbconvert_exporter": "python",
   "pygments_lexer": "ipython3",
   "version": "3.9.12"
  }
 },
 "nbformat": 4,
 "nbformat_minor": 5
}
