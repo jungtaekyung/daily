{
 "cells": [
  {
   "cell_type": "code",
   "execution_count": 1,
   "id": "69cc8e83",
   "metadata": {},
   "outputs": [],
   "source": [
    "import numpy as np"
   ]
  },
  {
   "cell_type": "markdown",
   "id": "ed3ca790",
   "metadata": {},
   "source": [
    "ndarray의 기본연산,기본함수"
   ]
  },
  {
   "cell_type": "code",
   "execution_count": 2,
   "id": "00970702",
   "metadata": {},
   "outputs": [],
   "source": [
    "x = np.arange(15).reshape(3, 5)\n",
    "y = np.arange(0, 150, 10).reshape(3, 5)\n",
    "y2 = np.random.rand(15).reshape(3, 5)\n",
    "y3 = np.arange(15).reshape(5, 3)"
   ]
  },
  {
   "cell_type": "code",
   "execution_count": 3,
   "id": "dfef57dc",
   "metadata": {},
   "outputs": [
    {
     "data": {
      "text/plain": [
       "array([[ 0,  1,  2,  3,  4],\n",
       "       [ 5,  6,  7,  8,  9],\n",
       "       [10, 11, 12, 13, 14]])"
      ]
     },
     "execution_count": 3,
     "metadata": {},
     "output_type": "execute_result"
    }
   ],
   "source": [
    "x"
   ]
  },
  {
   "cell_type": "code",
   "execution_count": 4,
   "id": "3cd4ea0b",
   "metadata": {},
   "outputs": [
    {
     "data": {
      "text/plain": [
       "array([[  0,  10,  20,  30,  40],\n",
       "       [ 50,  60,  70,  80,  90],\n",
       "       [100, 110, 120, 130, 140]])"
      ]
     },
     "execution_count": 4,
     "metadata": {},
     "output_type": "execute_result"
    }
   ],
   "source": [
    "y"
   ]
  },
  {
   "cell_type": "code",
   "execution_count": 5,
   "id": "bc1d094c",
   "metadata": {},
   "outputs": [
    {
     "data": {
      "text/plain": [
       "array([[0.81567356, 0.32721672, 0.0906572 , 0.00723005, 0.34293   ],\n",
       "       [0.20345617, 0.40169821, 0.07948816, 0.49304946, 0.46400982],\n",
       "       [0.31747887, 0.63386921, 0.28175994, 0.46858296, 0.44460131]])"
      ]
     },
     "execution_count": 5,
     "metadata": {},
     "output_type": "execute_result"
    }
   ],
   "source": [
    "y2"
   ]
  },
  {
   "cell_type": "code",
   "execution_count": 6,
   "id": "7b1767fa",
   "metadata": {},
   "outputs": [
    {
     "data": {
      "text/plain": [
       "array([[ 0,  1,  2],\n",
       "       [ 3,  4,  5],\n",
       "       [ 6,  7,  8],\n",
       "       [ 9, 10, 11],\n",
       "       [12, 13, 14]])"
      ]
     },
     "execution_count": 6,
     "metadata": {},
     "output_type": "execute_result"
    }
   ],
   "source": [
    "y3"
   ]
  },
  {
   "cell_type": "markdown",
   "id": "4ee623f5",
   "metadata": {},
   "source": [
    "array간 연산자"
   ]
  },
  {
   "cell_type": "code",
   "execution_count": 8,
   "id": "95b5b73b",
   "metadata": {},
   "outputs": [
    {
     "data": {
      "text/plain": [
       "[10, 20, 30, 40]"
      ]
     },
     "execution_count": 8,
     "metadata": {},
     "output_type": "execute_result"
    }
   ],
   "source": [
    "a= [10,20,30,40]\n",
    "a"
   ]
  },
  {
   "cell_type": "code",
   "execution_count": 9,
   "id": "cbeacb76",
   "metadata": {},
   "outputs": [],
   "source": [
    "b=2"
   ]
  },
  {
   "cell_type": "code",
   "execution_count": 10,
   "id": "dec9e983",
   "metadata": {},
   "outputs": [],
   "source": [
    "c=[100,200,300,400]"
   ]
  },
  {
   "cell_type": "code",
   "execution_count": 12,
   "id": "244adcb3",
   "metadata": {},
   "outputs": [
    {
     "data": {
      "text/plain": [
       "[10, 20, 30, 40, 10, 20, 30, 40]"
      ]
     },
     "execution_count": 12,
     "metadata": {},
     "output_type": "execute_result"
    }
   ],
   "source": [
    "a*b #a라는 list를 두번 반복"
   ]
  },
  {
   "cell_type": "code",
   "execution_count": 15,
   "id": "204ed57e",
   "metadata": {},
   "outputs": [
    {
     "data": {
      "text/plain": [
       "[10, 20, 30, 40, 100, 200, 300, 400]"
      ]
     },
     "execution_count": 15,
     "metadata": {},
     "output_type": "execute_result"
    }
   ],
   "source": [
    "a+c #a와 c의 원소를 더하는게 아닌 원소를 순서대로 배치"
   ]
  },
  {
   "cell_type": "code",
   "execution_count": 16,
   "id": "45bf1a6e",
   "metadata": {},
   "outputs": [
    {
     "data": {
      "text/plain": [
       "array([[  0,  11,  22,  33,  44],\n",
       "       [ 55,  66,  77,  88,  99],\n",
       "       [110, 121, 132, 143, 154]])"
      ]
     },
     "execution_count": 16,
     "metadata": {},
     "output_type": "execute_result"
    }
   ],
   "source": [
    "x+y #리스트와는 달리 같은 위치의 원소끼리 연산 실행"
   ]
  },
  {
   "cell_type": "code",
   "execution_count": 17,
   "id": "e61ebb2a",
   "metadata": {},
   "outputs": [
    {
     "data": {
      "text/plain": [
       "array([[   0,   -9,  -18,  -27,  -36],\n",
       "       [ -45,  -54,  -63,  -72,  -81],\n",
       "       [ -90,  -99, -108, -117, -126]])"
      ]
     },
     "execution_count": 17,
     "metadata": {},
     "output_type": "execute_result"
    }
   ],
   "source": [
    "x-y"
   ]
  },
  {
   "cell_type": "code",
   "execution_count": 18,
   "id": "9863adbe",
   "metadata": {},
   "outputs": [
    {
     "data": {
      "text/plain": [
       "array([[   0,   10,   40,   90,  160],\n",
       "       [ 250,  360,  490,  640,  810],\n",
       "       [1000, 1210, 1440, 1690, 1960]])"
      ]
     },
     "execution_count": 18,
     "metadata": {},
     "output_type": "execute_result"
    }
   ],
   "source": [
    "x*y"
   ]
  },
  {
   "cell_type": "code",
   "execution_count": 19,
   "id": "519613fe",
   "metadata": {},
   "outputs": [
    {
     "name": "stderr",
     "output_type": "stream",
     "text": [
      "C:\\Users\\user\\AppData\\Local\\Temp\\ipykernel_17764\\1719814938.py:1: RuntimeWarning: invalid value encountered in true_divide\n",
      "  x/y\n"
     ]
    },
    {
     "data": {
      "text/plain": [
       "array([[nan, 0.1, 0.1, 0.1, 0.1],\n",
       "       [0.1, 0.1, 0.1, 0.1, 0.1],\n",
       "       [0.1, 0.1, 0.1, 0.1, 0.1]])"
      ]
     },
     "execution_count": 19,
     "metadata": {},
     "output_type": "execute_result"
    }
   ],
   "source": [
    "x/y #y에 0이 있어서 nan값 생성 오류가 아님"
   ]
  },
  {
   "cell_type": "code",
   "execution_count": 20,
   "id": "47cdb0e4",
   "metadata": {},
   "outputs": [
    {
     "data": {
      "text/plain": [
       "array([[10, 11, 12, 13, 14],\n",
       "       [15, 16, 17, 18, 19],\n",
       "       [20, 21, 22, 23, 24]])"
      ]
     },
     "execution_count": 20,
     "metadata": {},
     "output_type": "execute_result"
    }
   ],
   "source": [
    "x + 10  #array에 스칼라 값을 연산시키면 모든원소에 연산 실시"
   ]
  },
  {
   "cell_type": "code",
   "execution_count": 21,
   "id": "6a4642b3",
   "metadata": {},
   "outputs": [
    {
     "data": {
      "text/plain": [
       "array([[10, 11, 12, 13, 14],\n",
       "       [15, 16, 17, 18, 19],\n",
       "       [20, 21, 22, 23, 24]])"
      ]
     },
     "execution_count": 21,
     "metadata": {},
     "output_type": "execute_result"
    }
   ],
   "source": [
    "10 + x #교환법칙 적용"
   ]
  },
  {
   "cell_type": "code",
   "execution_count": 22,
   "id": "9b1f55ec",
   "metadata": {},
   "outputs": [
    {
     "data": {
      "text/plain": [
       "array(10)"
      ]
     },
     "execution_count": 22,
     "metadata": {},
     "output_type": "execute_result"
    }
   ],
   "source": [
    "np.array(10)"
   ]
  },
  {
   "cell_type": "code",
   "execution_count": 23,
   "id": "767a7149",
   "metadata": {},
   "outputs": [
    {
     "data": {
      "text/plain": [
       "array([[10, 11, 12, 13, 14],\n",
       "       [15, 16, 17, 18, 19],\n",
       "       [20, 21, 22, 23, 24]])"
      ]
     },
     "execution_count": 23,
     "metadata": {},
     "output_type": "execute_result"
    }
   ],
   "source": [
    "x+np.array(10) #np.array(10)의 shape가 ()이니까 스칼라와 동일하게 연산"
   ]
  },
  {
   "cell_type": "code",
   "execution_count": 24,
   "id": "76774ecb",
   "metadata": {},
   "outputs": [
    {
     "data": {
      "text/plain": [
       "array([[10, 11, 12, 13, 14],\n",
       "       [15, 16, 17, 18, 19],\n",
       "       [20, 21, 22, 23, 24]])"
      ]
     },
     "execution_count": 24,
     "metadata": {},
     "output_type": "execute_result"
    }
   ],
   "source": [
    "x + np.array([10]) # 동일한 결과"
   ]
  },
  {
   "cell_type": "code",
   "execution_count": 25,
   "id": "fdcfe568",
   "metadata": {},
   "outputs": [
    {
     "data": {
      "text/plain": [
       "array([[10, 11, 12, 13, 14],\n",
       "       [15, 16, 17, 18, 19],\n",
       "       [20, 21, 22, 23, 24]])"
      ]
     },
     "execution_count": 25,
     "metadata": {},
     "output_type": "execute_result"
    }
   ],
   "source": [
    "x + [10]"
   ]
  },
  {
   "cell_type": "code",
   "execution_count": 26,
   "id": "bb5bf190",
   "metadata": {},
   "outputs": [
    {
     "data": {
      "text/plain": [
       "array([[10, 11, 12, 13, 14],\n",
       "       [15, 16, 17, 18, 19],\n",
       "       [20, 21, 22, 23, 24]])"
      ]
     },
     "execution_count": 26,
     "metadata": {},
     "output_type": "execute_result"
    }
   ],
   "source": [
    "x + (10,)"
   ]
  },
  {
   "cell_type": "markdown",
   "id": "2b3e02a9",
   "metadata": {},
   "source": [
    "기본 함수"
   ]
  },
  {
   "cell_type": "code",
   "execution_count": 27,
   "id": "2200460f",
   "metadata": {},
   "outputs": [
    {
     "data": {
      "text/plain": [
       "array([[  0,  11,  22,  33,  44],\n",
       "       [ 55,  66,  77,  88,  99],\n",
       "       [110, 121, 132, 143, 154]])"
      ]
     },
     "execution_count": 27,
     "metadata": {},
     "output_type": "execute_result"
    }
   ],
   "source": [
    "np.add(x,y)"
   ]
  },
  {
   "cell_type": "code",
   "execution_count": 28,
   "id": "e8ed5adc",
   "metadata": {},
   "outputs": [
    {
     "data": {
      "text/plain": [
       "array([[  0,  11,  22,  33,  44],\n",
       "       [ 55,  66,  77,  88,  99],\n",
       "       [110, 121, 132, 143, 154]])"
      ]
     },
     "execution_count": 28,
     "metadata": {},
     "output_type": "execute_result"
    }
   ],
   "source": [
    "x+y #위와 동일"
   ]
  },
  {
   "cell_type": "code",
   "execution_count": 29,
   "id": "b323bae9",
   "metadata": {},
   "outputs": [
    {
     "ename": "ValueError",
     "evalue": "operands could not be broadcast together with shapes (3,5) (5,3) ",
     "output_type": "error",
     "traceback": [
      "\u001b[1;31m---------------------------------------------------------------------------\u001b[0m",
      "\u001b[1;31mValueError\u001b[0m                                Traceback (most recent call last)",
      "Input \u001b[1;32mIn [29]\u001b[0m, in \u001b[0;36m<cell line: 1>\u001b[1;34m()\u001b[0m\n\u001b[1;32m----> 1\u001b[0m \u001b[43mnp\u001b[49m\u001b[38;5;241;43m.\u001b[39;49m\u001b[43madd\u001b[49m\u001b[43m(\u001b[49m\u001b[43mx\u001b[49m\u001b[43m,\u001b[49m\u001b[43my3\u001b[49m\u001b[43m)\u001b[49m\n",
      "\u001b[1;31mValueError\u001b[0m: operands could not be broadcast together with shapes (3,5) (5,3) "
     ]
    }
   ],
   "source": [
    "# np.add(x,y3) #shape이 달라서 안됨 broacast 시켜야됨"
   ]
  },
  {
   "cell_type": "code",
   "execution_count": 31,
   "id": "60345d9b",
   "metadata": {},
   "outputs": [
    {
     "data": {
      "text/plain": [
       "array([[   0,   -9,  -18,  -27,  -36],\n",
       "       [ -45,  -54,  -63,  -72,  -81],\n",
       "       [ -90,  -99, -108, -117, -126]])"
      ]
     },
     "execution_count": 31,
     "metadata": {},
     "output_type": "execute_result"
    }
   ],
   "source": [
    "np.subtract(x,y) #x-y"
   ]
  },
  {
   "cell_type": "code",
   "execution_count": 32,
   "id": "42d3a110",
   "metadata": {},
   "outputs": [
    {
     "data": {
      "text/plain": [
       "array([[   0,   10,   40,   90,  160],\n",
       "       [ 250,  360,  490,  640,  810],\n",
       "       [1000, 1210, 1440, 1690, 1960]])"
      ]
     },
     "execution_count": 32,
     "metadata": {},
     "output_type": "execute_result"
    }
   ],
   "source": [
    "np.multiply(x,y) #x*y"
   ]
  },
  {
   "cell_type": "code",
   "execution_count": 33,
   "id": "da0a1ed7",
   "metadata": {},
   "outputs": [
    {
     "name": "stderr",
     "output_type": "stream",
     "text": [
      "C:\\Users\\user\\AppData\\Local\\Temp\\ipykernel_17764\\3307111101.py:1: RuntimeWarning: invalid value encountered in true_divide\n",
      "  np.divide(x,y) #x/y\n"
     ]
    },
    {
     "data": {
      "text/plain": [
       "array([[nan, 0.1, 0.1, 0.1, 0.1],\n",
       "       [0.1, 0.1, 0.1, 0.1, 0.1],\n",
       "       [0.1, 0.1, 0.1, 0.1, 0.1]])"
      ]
     },
     "execution_count": 33,
     "metadata": {},
     "output_type": "execute_result"
    }
   ],
   "source": [
    "np.divide(x,y) #x/y"
   ]
  },
  {
   "cell_type": "markdown",
   "id": "0027b5ca",
   "metadata": {},
   "source": [
    "shape이 다른 경우 연산"
   ]
  },
  {
   "cell_type": "code",
   "execution_count": 34,
   "id": "79af36fb",
   "metadata": {},
   "outputs": [],
   "source": [
    "a= np.arange(12).reshape(4,3)\n",
    "b=np.arange(100,103)"
   ]
  },
  {
   "cell_type": "code",
   "execution_count": 35,
   "id": "e938610b",
   "metadata": {},
   "outputs": [
    {
     "data": {
      "text/plain": [
       "(array([[ 0,  1,  2],\n",
       "        [ 3,  4,  5],\n",
       "        [ 6,  7,  8],\n",
       "        [ 9, 10, 11]]),\n",
       " array([100, 101, 102]))"
      ]
     },
     "execution_count": 35,
     "metadata": {},
     "output_type": "execute_result"
    }
   ],
   "source": [
    "a,b"
   ]
  },
  {
   "cell_type": "code",
   "execution_count": 36,
   "id": "bb14fc86",
   "metadata": {},
   "outputs": [
    {
     "data": {
      "text/plain": [
       "array([[100, 102, 104],\n",
       "       [103, 105, 107],\n",
       "       [106, 108, 110],\n",
       "       [109, 111, 113]])"
      ]
     },
     "execution_count": 36,
     "metadata": {},
     "output_type": "execute_result"
    }
   ],
   "source": [
    "a+b #a와 b의 shape이 다르지만 맨 마지막의 차원값이 일치하면 연산을 할수 있다"
   ]
  },
  {
   "cell_type": "code",
   "execution_count": 37,
   "id": "53ed7e13",
   "metadata": {},
   "outputs": [
    {
     "data": {
      "text/plain": [
       "((4, 3), (3,))"
      ]
     },
     "execution_count": 37,
     "metadata": {},
     "output_type": "execute_result"
    }
   ],
   "source": [
    "a.shape,b.shape"
   ]
  },
  {
   "cell_type": "code",
   "execution_count": 38,
   "id": "a8f52479",
   "metadata": {},
   "outputs": [
    {
     "data": {
      "text/plain": [
       "array([100, 101, 102, 103])"
      ]
     },
     "execution_count": 38,
     "metadata": {},
     "output_type": "execute_result"
    }
   ],
   "source": [
    "c= np.arange(100,104)\n",
    "c"
   ]
  },
  {
   "cell_type": "code",
   "execution_count": 39,
   "id": "e7925384",
   "metadata": {},
   "outputs": [
    {
     "ename": "ValueError",
     "evalue": "operands could not be broadcast together with shapes (4,3) (4,) ",
     "output_type": "error",
     "traceback": [
      "\u001b[1;31m---------------------------------------------------------------------------\u001b[0m",
      "\u001b[1;31mValueError\u001b[0m                                Traceback (most recent call last)",
      "Input \u001b[1;32mIn [39]\u001b[0m, in \u001b[0;36m<cell line: 1>\u001b[1;34m()\u001b[0m\n\u001b[1;32m----> 1\u001b[0m \u001b[43ma\u001b[49m\u001b[38;5;241;43m+\u001b[39;49m\u001b[43mc\u001b[49m\n",
      "\u001b[1;31mValueError\u001b[0m: operands could not be broadcast together with shapes (4,3) (4,) "
     ]
    }
   ],
   "source": [
    "# a+c #에러"
   ]
  },
  {
   "cell_type": "markdown",
   "id": "b2a6c55a",
   "metadata": {},
   "source": [
    "통계함수"
   ]
  },
  {
   "cell_type": "code",
   "execution_count": 40,
   "id": "88c29b2b",
   "metadata": {},
   "outputs": [
    {
     "data": {
      "text/plain": [
       "array([[0.81567356, 0.32721672, 0.0906572 , 0.00723005, 0.34293   ],\n",
       "       [0.20345617, 0.40169821, 0.07948816, 0.49304946, 0.46400982],\n",
       "       [0.31747887, 0.63386921, 0.28175994, 0.46858296, 0.44460131]])"
      ]
     },
     "execution_count": 40,
     "metadata": {},
     "output_type": "execute_result"
    }
   ],
   "source": [
    "y2"
   ]
  },
  {
   "cell_type": "code",
   "execution_count": 41,
   "id": "7aea60cb",
   "metadata": {},
   "outputs": [
    {
     "data": {
      "text/plain": [
       "(0.35811344303746384, 0.35811344303746384)"
      ]
     },
     "execution_count": 41,
     "metadata": {},
     "output_type": "execute_result"
    }
   ],
   "source": [
    "np.mean(y2),y2.mean()"
   ]
  },
  {
   "cell_type": "code",
   "execution_count": 42,
   "id": "b5c2e83b",
   "metadata": {},
   "outputs": [
    {
     "data": {
      "text/plain": [
       "(140, 140)"
      ]
     },
     "execution_count": 42,
     "metadata": {},
     "output_type": "execute_result"
    }
   ],
   "source": [
    "np.max(y),y.max()"
   ]
  },
  {
   "cell_type": "code",
   "execution_count": 43,
   "id": "4415bb67",
   "metadata": {},
   "outputs": [
    {
     "data": {
      "text/plain": [
       "(0, 0)"
      ]
     },
     "execution_count": 43,
     "metadata": {},
     "output_type": "execute_result"
    }
   ],
   "source": [
    "np.min(y),y.min()"
   ]
  },
  {
   "cell_type": "code",
   "execution_count": 48,
   "id": "8edda1f5",
   "metadata": {},
   "outputs": [
    {
     "data": {
      "text/plain": [
       "0"
      ]
     },
     "execution_count": 48,
     "metadata": {},
     "output_type": "execute_result"
    }
   ],
   "source": [
    "np.argmax(y2) #index 14번째의 값이 가장크다"
   ]
  },
  {
   "cell_type": "code",
   "execution_count": 50,
   "id": "01886487",
   "metadata": {},
   "outputs": [
    {
     "data": {
      "text/plain": [
       "3"
      ]
     },
     "execution_count": 50,
     "metadata": {},
     "output_type": "execute_result"
    }
   ],
   "source": [
    "np.argmin(y2) #index 3번째의 값이 가장작다"
   ]
  },
  {
   "cell_type": "code",
   "execution_count": 51,
   "id": "6a21998b",
   "metadata": {},
   "outputs": [
    {
     "data": {
      "text/plain": [
       "(1866.6666666666667, 43.20493798938573, 70.0)"
      ]
     },
     "execution_count": 51,
     "metadata": {},
     "output_type": "execute_result"
    }
   ],
   "source": [
    "np.var(y), np.std(y),np.median(y) #분산, 표준편차, 중앙값"
   ]
  },
  {
   "cell_type": "code",
   "execution_count": 52,
   "id": "4af773a0",
   "metadata": {},
   "outputs": [
    {
     "data": {
      "text/plain": [
       "array([0.81567356, 1.14289028, 1.23354748, 1.24077753, 1.58370754,\n",
       "       1.7871637 , 2.18886191, 2.26835008, 2.76139954, 3.22540937,\n",
       "       3.54288823, 4.17675745, 4.45851738, 4.92710034, 5.37170165])"
      ]
     },
     "execution_count": 52,
     "metadata": {},
     "output_type": "execute_result"
    }
   ],
   "source": [
    "np.cumsum(y2) #누적함수 -> 피보나치 수열 느낌"
   ]
  },
  {
   "cell_type": "code",
   "execution_count": 53,
   "id": "801c1525",
   "metadata": {},
   "outputs": [
    {
     "data": {
      "text/plain": [
       "array([ 0.33860609,  1.81554942, -1.22391618,  0.45967896, -1.11919486,\n",
       "       -0.15875253,  1.10866559, -0.68159281,  0.42867084,  1.8040716 ])"
      ]
     },
     "execution_count": 53,
     "metadata": {},
     "output_type": "execute_result"
    }
   ],
   "source": [
    "z = np.random.randn(10)\n",
    "z"
   ]
  },
  {
   "cell_type": "code",
   "execution_count": 54,
   "id": "03f444cb",
   "metadata": {},
   "outputs": [
    {
     "data": {
      "text/plain": [
       "(array([ True,  True, False,  True, False, False,  True, False,  True,\n",
       "         True]),\n",
       " array([False, False,  True, False,  True,  True, False,  True, False,\n",
       "        False]))"
      ]
     },
     "execution_count": 54,
     "metadata": {},
     "output_type": "execute_result"
    }
   ],
   "source": [
    "z>0 , z<0 #조건에 해당하면 True, 아니면 False"
   ]
  },
  {
   "cell_type": "code",
   "execution_count": 55,
   "id": "914eeb19",
   "metadata": {},
   "outputs": [
    {
     "data": {
      "text/plain": [
       "(6, 4, 5)"
      ]
     },
     "execution_count": 55,
     "metadata": {},
     "output_type": "execute_result"
    }
   ],
   "source": [
    "5+True,5-True,5+False #True는 연산에 참여하면 1로 계산되고 False는 0으로 계산된다"
   ]
  },
  {
   "cell_type": "code",
   "execution_count": 56,
   "id": "5382c8a9",
   "metadata": {},
   "outputs": [
    {
     "data": {
      "text/plain": [
       "6"
      ]
     },
     "execution_count": 56,
     "metadata": {},
     "output_type": "execute_result"
    }
   ],
   "source": [
    "np.sum(z>0) #0이 넘는 z값의 개수"
   ]
  },
  {
   "cell_type": "code",
   "execution_count": 58,
   "id": "0661fdce",
   "metadata": {},
   "outputs": [
    {
     "data": {
      "text/plain": [
       "True"
      ]
     },
     "execution_count": 58,
     "metadata": {},
     "output_type": "execute_result"
    }
   ],
   "source": [
    "np.any(z>0) #z 중 무언가는 0보다 크다 -> True"
   ]
  },
  {
   "cell_type": "code",
   "execution_count": 59,
   "id": "8a25dfcd",
   "metadata": {},
   "outputs": [
    {
     "data": {
      "text/plain": [
       "False"
      ]
     },
     "execution_count": 59,
     "metadata": {},
     "output_type": "execute_result"
    }
   ],
   "source": [
    "np.all(z>0) # z는 전부 0보다 크다 -> False"
   ]
  },
  {
   "cell_type": "code",
   "execution_count": 60,
   "id": "8a766a2e",
   "metadata": {},
   "outputs": [
    {
     "data": {
      "text/plain": [
       "True"
      ]
     },
     "execution_count": 60,
     "metadata": {},
     "output_type": "execute_result"
    }
   ],
   "source": [
    "np.all(z!=0) # z는 전부 0이 아니다 -> True"
   ]
  },
  {
   "cell_type": "code",
   "execution_count": 61,
   "id": "79f152e8",
   "metadata": {},
   "outputs": [
    {
     "data": {
      "text/plain": [
       "array([0.33860609, 1.81554942, 0.        , 0.45967896, 0.        ,\n",
       "       0.        , 1.10866559, 0.        , 0.42867084, 1.8040716 ])"
      ]
     },
     "execution_count": 61,
     "metadata": {},
     "output_type": "execute_result"
    }
   ],
   "source": [
    "np.where(z>0, z, 0) #z에서 0보다 큰거는 그대로 두고 그렇지 않은 것은 0으로"
   ]
  },
  {
   "cell_type": "code",
   "execution_count": null,
   "id": "c7516f58",
   "metadata": {},
   "outputs": [],
   "source": []
  },
  {
   "cell_type": "code",
   "execution_count": null,
   "id": "61dcc3a6",
   "metadata": {},
   "outputs": [],
   "source": []
  },
  {
   "cell_type": "code",
   "execution_count": null,
   "id": "742c82b6",
   "metadata": {},
   "outputs": [],
   "source": []
  },
  {
   "cell_type": "code",
   "execution_count": null,
   "id": "7c8a9153",
   "metadata": {},
   "outputs": [],
   "source": []
  },
  {
   "cell_type": "code",
   "execution_count": null,
   "id": "d7eecbca",
   "metadata": {},
   "outputs": [],
   "source": []
  },
  {
   "cell_type": "code",
   "execution_count": null,
   "id": "4a62aee2",
   "metadata": {},
   "outputs": [],
   "source": []
  },
  {
   "cell_type": "code",
   "execution_count": null,
   "id": "8a910a33",
   "metadata": {},
   "outputs": [],
   "source": []
  },
  {
   "cell_type": "code",
   "execution_count": null,
   "id": "4a515503",
   "metadata": {},
   "outputs": [],
   "source": []
  },
  {
   "cell_type": "code",
   "execution_count": null,
   "id": "3a48b0c9",
   "metadata": {},
   "outputs": [],
   "source": []
  },
  {
   "cell_type": "code",
   "execution_count": null,
   "id": "ebbe9384",
   "metadata": {},
   "outputs": [],
   "source": []
  },
  {
   "cell_type": "code",
   "execution_count": null,
   "id": "f4c6404c",
   "metadata": {},
   "outputs": [],
   "source": []
  },
  {
   "cell_type": "code",
   "execution_count": null,
   "id": "9241d76e",
   "metadata": {},
   "outputs": [],
   "source": []
  }
 ],
 "metadata": {
  "kernelspec": {
   "display_name": "Python 3 (ipykernel)",
   "language": "python",
   "name": "python3"
  },
  "language_info": {
   "codemirror_mode": {
    "name": "ipython",
    "version": 3
   },
   "file_extension": ".py",
   "mimetype": "text/x-python",
   "name": "python",
   "nbconvert_exporter": "python",
   "pygments_lexer": "ipython3",
   "version": "3.9.12"
  }
 },
 "nbformat": 4,
 "nbformat_minor": 5
}
