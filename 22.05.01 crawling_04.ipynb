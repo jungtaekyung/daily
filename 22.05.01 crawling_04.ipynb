{
 "cells": [
  {
   "cell_type": "markdown",
   "id": "9710361a",
   "metadata": {},
   "source": [
    "# json, xml 크롤링"
   ]
  },
  {
   "cell_type": "markdown",
   "id": "124bcb98",
   "metadata": {},
   "source": [
    "#### 서울시 지하철 승하차 데이터 \n",
    "http://data.seoul.go.kr/dataList/datasetView.do?infId=OA-12914&srvType=A&serviceKind=1&currentPageNo=1\n",
    "\n",
    "XML 버젼\n",
    "http://openapi.seoul.go.kr:8088/4d46796d7366726f3833774a774955/xml/CardSubwayStatsNew/1/5/20151101  \n",
    "\n",
    "JSON 버젼\n",
    "http://openapi.seoul.go.kr:8088/4d46796d7366726f3833774a774955/json/CardSubwayStatsNew/1/5/20151101"
   ]
  },
  {
   "cell_type": "code",
   "execution_count": 1,
   "id": "b787ac3e",
   "metadata": {},
   "outputs": [],
   "source": [
    "# list안의 리스트 형태\n",
    "#[호선, 역이름, 승차인원, 하차인원]\n",
    "'''\n",
    "[\n",
    "    [1호선, 시청역, 12342, 12345],\n",
    "    [1호선, 서울역, 12342, 12345],\n",
    "    [1호선, 금정역, 12342, 12345],\n",
    "]\n",
    "'''\n",
    "None"
   ]
  },
  {
   "cell_type": "code",
   "execution_count": 2,
   "id": "09b61e54",
   "metadata": {},
   "outputs": [],
   "source": [
    "import requests\n",
    "from bs4 import BeautifulSoup"
   ]
  },
  {
   "cell_type": "code",
   "execution_count": 3,
   "id": "c9e44bcf",
   "metadata": {},
   "outputs": [],
   "source": [
    "key = \"4d46796d7366726f3833774a774955\"\n",
    "date = \"20220401\" #검색할 날짜\n",
    "end_index = 20    #내리는 역 번호"
   ]
  },
  {
   "cell_type": "markdown",
   "id": "1765c7ba",
   "metadata": {},
   "source": [
    "# JSON"
   ]
  },
  {
   "cell_type": "code",
   "execution_count": 4,
   "id": "94f9c741",
   "metadata": {},
   "outputs": [
    {
     "data": {
      "text/plain": [
       "'http://openapi.seoul.go.kr:8088/4d46796d7366726f3833774a774955/json/CardSubwayStatsNew/1/20/20220401'"
      ]
     },
     "execution_count": 4,
     "metadata": {},
     "output_type": "execute_result"
    }
   ],
   "source": [
    "req_type = \"json\"\n",
    "url = f'http://openapi.seoul.go.kr:8088/{key}/{req_type}/CardSubwayStatsNew/1/{end_index}/{date}'\n",
    "url"
   ]
  },
  {
   "cell_type": "code",
   "execution_count": 6,
   "id": "c84429f4",
   "metadata": {},
   "outputs": [
    {
     "data": {
      "text/plain": [
       "<Response [200]>"
      ]
     },
     "execution_count": 6,
     "metadata": {},
     "output_type": "execute_result"
    }
   ],
   "source": [
    "response = requests.get(url)\n",
    "response"
   ]
  },
  {
   "cell_type": "code",
   "execution_count": 8,
   "id": "fabbe2d3",
   "metadata": {},
   "outputs": [
    {
     "data": {
      "text/plain": [
       "{'CardSubwayStatsNew': {'list_total_count': 594,\n",
       "  'RESULT': {'CODE': 'INFO-000', 'MESSAGE': '정상 처리되었습니다'},\n",
       "  'row': [{'USE_DT': '20220401',\n",
       "    'LINE_NUM': '1호선',\n",
       "    'SUB_STA_NM': '서울역',\n",
       "    'RIDE_PASGR_NUM': 43089.0,\n",
       "    'ALIGHT_PASGR_NUM': 43731.0,\n",
       "    'WORK_DT': '20220404'},\n",
       "   {'USE_DT': '20220401',\n",
       "    'LINE_NUM': '1호선',\n",
       "    'SUB_STA_NM': '시청',\n",
       "    'RIDE_PASGR_NUM': 20773.0,\n",
       "    'ALIGHT_PASGR_NUM': 21177.0,\n",
       "    'WORK_DT': '20220404'},\n",
       "   {'USE_DT': '20220401',\n",
       "    'LINE_NUM': '1호선',\n",
       "    'SUB_STA_NM': '종각',\n",
       "    'RIDE_PASGR_NUM': 31866.0,\n",
       "    'ALIGHT_PASGR_NUM': 30795.0,\n",
       "    'WORK_DT': '20220404'},\n",
       "   {'USE_DT': '20220401',\n",
       "    'LINE_NUM': '1호선',\n",
       "    'SUB_STA_NM': '종로3가',\n",
       "    'RIDE_PASGR_NUM': 24279.0,\n",
       "    'ALIGHT_PASGR_NUM': 22331.0,\n",
       "    'WORK_DT': '20220404'},\n",
       "   {'USE_DT': '20220401',\n",
       "    'LINE_NUM': '1호선',\n",
       "    'SUB_STA_NM': '종로5가',\n",
       "    'RIDE_PASGR_NUM': 22217.0,\n",
       "    'ALIGHT_PASGR_NUM': 22157.0,\n",
       "    'WORK_DT': '20220404'},\n",
       "   {'USE_DT': '20220401',\n",
       "    'LINE_NUM': '1호선',\n",
       "    'SUB_STA_NM': '동대문',\n",
       "    'RIDE_PASGR_NUM': 10776.0,\n",
       "    'ALIGHT_PASGR_NUM': 9652.0,\n",
       "    'WORK_DT': '20220404'},\n",
       "   {'USE_DT': '20220401',\n",
       "    'LINE_NUM': '1호선',\n",
       "    'SUB_STA_NM': '신설동',\n",
       "    'RIDE_PASGR_NUM': 13637.0,\n",
       "    'ALIGHT_PASGR_NUM': 13185.0,\n",
       "    'WORK_DT': '20220404'},\n",
       "   {'USE_DT': '20220401',\n",
       "    'LINE_NUM': '1호선',\n",
       "    'SUB_STA_NM': '제기동',\n",
       "    'RIDE_PASGR_NUM': 17133.0,\n",
       "    'ALIGHT_PASGR_NUM': 17426.0,\n",
       "    'WORK_DT': '20220404'},\n",
       "   {'USE_DT': '20220401',\n",
       "    'LINE_NUM': '1호선',\n",
       "    'SUB_STA_NM': '청량리(서울시립대입구)',\n",
       "    'RIDE_PASGR_NUM': 19844.0,\n",
       "    'ALIGHT_PASGR_NUM': 19618.0,\n",
       "    'WORK_DT': '20220404'},\n",
       "   {'USE_DT': '20220401',\n",
       "    'LINE_NUM': '1호선',\n",
       "    'SUB_STA_NM': '동묘앞',\n",
       "    'RIDE_PASGR_NUM': 8297.0,\n",
       "    'ALIGHT_PASGR_NUM': 8644.0,\n",
       "    'WORK_DT': '20220404'},\n",
       "   {'USE_DT': '20220401',\n",
       "    'LINE_NUM': '2호선',\n",
       "    'SUB_STA_NM': '시청',\n",
       "    'RIDE_PASGR_NUM': 21848.0,\n",
       "    'ALIGHT_PASGR_NUM': 21331.0,\n",
       "    'WORK_DT': '20220404'},\n",
       "   {'USE_DT': '20220401',\n",
       "    'LINE_NUM': '2호선',\n",
       "    'SUB_STA_NM': '을지로입구',\n",
       "    'RIDE_PASGR_NUM': 36620.0,\n",
       "    'ALIGHT_PASGR_NUM': 37857.0,\n",
       "    'WORK_DT': '20220404'},\n",
       "   {'USE_DT': '20220401',\n",
       "    'LINE_NUM': '2호선',\n",
       "    'SUB_STA_NM': '을지로3가',\n",
       "    'RIDE_PASGR_NUM': 21663.0,\n",
       "    'ALIGHT_PASGR_NUM': 22050.0,\n",
       "    'WORK_DT': '20220404'},\n",
       "   {'USE_DT': '20220401',\n",
       "    'LINE_NUM': '2호선',\n",
       "    'SUB_STA_NM': '을지로4가',\n",
       "    'RIDE_PASGR_NUM': 12527.0,\n",
       "    'ALIGHT_PASGR_NUM': 12724.0,\n",
       "    'WORK_DT': '20220404'},\n",
       "   {'USE_DT': '20220401',\n",
       "    'LINE_NUM': '2호선',\n",
       "    'SUB_STA_NM': '동대문역사문화공원(DDP)',\n",
       "    'RIDE_PASGR_NUM': 12146.0,\n",
       "    'ALIGHT_PASGR_NUM': 13895.0,\n",
       "    'WORK_DT': '20220404'},\n",
       "   {'USE_DT': '20220401',\n",
       "    'LINE_NUM': '2호선',\n",
       "    'SUB_STA_NM': '신당',\n",
       "    'RIDE_PASGR_NUM': 13793.0,\n",
       "    'ALIGHT_PASGR_NUM': 14238.0,\n",
       "    'WORK_DT': '20220404'},\n",
       "   {'USE_DT': '20220401',\n",
       "    'LINE_NUM': '2호선',\n",
       "    'SUB_STA_NM': '상왕십리',\n",
       "    'RIDE_PASGR_NUM': 13993.0,\n",
       "    'ALIGHT_PASGR_NUM': 13510.0,\n",
       "    'WORK_DT': '20220404'},\n",
       "   {'USE_DT': '20220401',\n",
       "    'LINE_NUM': '2호선',\n",
       "    'SUB_STA_NM': '왕십리(성동구청)',\n",
       "    'RIDE_PASGR_NUM': 17569.0,\n",
       "    'ALIGHT_PASGR_NUM': 14423.0,\n",
       "    'WORK_DT': '20220404'},\n",
       "   {'USE_DT': '20220401',\n",
       "    'LINE_NUM': '2호선',\n",
       "    'SUB_STA_NM': '한양대',\n",
       "    'RIDE_PASGR_NUM': 12721.0,\n",
       "    'ALIGHT_PASGR_NUM': 13848.0,\n",
       "    'WORK_DT': '20220404'},\n",
       "   {'USE_DT': '20220401',\n",
       "    'LINE_NUM': '2호선',\n",
       "    'SUB_STA_NM': '뚝섬',\n",
       "    'RIDE_PASGR_NUM': 22608.0,\n",
       "    'ALIGHT_PASGR_NUM': 23885.0,\n",
       "    'WORK_DT': '20220404'}]}}"
      ]
     },
     "execution_count": 8,
     "metadata": {},
     "output_type": "execute_result"
    }
   ],
   "source": [
    "data= response.json()\n",
    "data"
   ]
  },
  {
   "cell_type": "code",
   "execution_count": 11,
   "id": "5f64bb19",
   "metadata": {},
   "outputs": [
    {
     "data": {
      "text/plain": [
       "[{'USE_DT': '20220401',\n",
       "  'LINE_NUM': '1호선',\n",
       "  'SUB_STA_NM': '서울역',\n",
       "  'RIDE_PASGR_NUM': 43089.0,\n",
       "  'ALIGHT_PASGR_NUM': 43731.0,\n",
       "  'WORK_DT': '20220404'},\n",
       " {'USE_DT': '20220401',\n",
       "  'LINE_NUM': '1호선',\n",
       "  'SUB_STA_NM': '시청',\n",
       "  'RIDE_PASGR_NUM': 20773.0,\n",
       "  'ALIGHT_PASGR_NUM': 21177.0,\n",
       "  'WORK_DT': '20220404'},\n",
       " {'USE_DT': '20220401',\n",
       "  'LINE_NUM': '1호선',\n",
       "  'SUB_STA_NM': '종각',\n",
       "  'RIDE_PASGR_NUM': 31866.0,\n",
       "  'ALIGHT_PASGR_NUM': 30795.0,\n",
       "  'WORK_DT': '20220404'},\n",
       " {'USE_DT': '20220401',\n",
       "  'LINE_NUM': '1호선',\n",
       "  'SUB_STA_NM': '종로3가',\n",
       "  'RIDE_PASGR_NUM': 24279.0,\n",
       "  'ALIGHT_PASGR_NUM': 22331.0,\n",
       "  'WORK_DT': '20220404'},\n",
       " {'USE_DT': '20220401',\n",
       "  'LINE_NUM': '1호선',\n",
       "  'SUB_STA_NM': '종로5가',\n",
       "  'RIDE_PASGR_NUM': 22217.0,\n",
       "  'ALIGHT_PASGR_NUM': 22157.0,\n",
       "  'WORK_DT': '20220404'},\n",
       " {'USE_DT': '20220401',\n",
       "  'LINE_NUM': '1호선',\n",
       "  'SUB_STA_NM': '동대문',\n",
       "  'RIDE_PASGR_NUM': 10776.0,\n",
       "  'ALIGHT_PASGR_NUM': 9652.0,\n",
       "  'WORK_DT': '20220404'},\n",
       " {'USE_DT': '20220401',\n",
       "  'LINE_NUM': '1호선',\n",
       "  'SUB_STA_NM': '신설동',\n",
       "  'RIDE_PASGR_NUM': 13637.0,\n",
       "  'ALIGHT_PASGR_NUM': 13185.0,\n",
       "  'WORK_DT': '20220404'},\n",
       " {'USE_DT': '20220401',\n",
       "  'LINE_NUM': '1호선',\n",
       "  'SUB_STA_NM': '제기동',\n",
       "  'RIDE_PASGR_NUM': 17133.0,\n",
       "  'ALIGHT_PASGR_NUM': 17426.0,\n",
       "  'WORK_DT': '20220404'},\n",
       " {'USE_DT': '20220401',\n",
       "  'LINE_NUM': '1호선',\n",
       "  'SUB_STA_NM': '청량리(서울시립대입구)',\n",
       "  'RIDE_PASGR_NUM': 19844.0,\n",
       "  'ALIGHT_PASGR_NUM': 19618.0,\n",
       "  'WORK_DT': '20220404'},\n",
       " {'USE_DT': '20220401',\n",
       "  'LINE_NUM': '1호선',\n",
       "  'SUB_STA_NM': '동묘앞',\n",
       "  'RIDE_PASGR_NUM': 8297.0,\n",
       "  'ALIGHT_PASGR_NUM': 8644.0,\n",
       "  'WORK_DT': '20220404'},\n",
       " {'USE_DT': '20220401',\n",
       "  'LINE_NUM': '2호선',\n",
       "  'SUB_STA_NM': '시청',\n",
       "  'RIDE_PASGR_NUM': 21848.0,\n",
       "  'ALIGHT_PASGR_NUM': 21331.0,\n",
       "  'WORK_DT': '20220404'},\n",
       " {'USE_DT': '20220401',\n",
       "  'LINE_NUM': '2호선',\n",
       "  'SUB_STA_NM': '을지로입구',\n",
       "  'RIDE_PASGR_NUM': 36620.0,\n",
       "  'ALIGHT_PASGR_NUM': 37857.0,\n",
       "  'WORK_DT': '20220404'},\n",
       " {'USE_DT': '20220401',\n",
       "  'LINE_NUM': '2호선',\n",
       "  'SUB_STA_NM': '을지로3가',\n",
       "  'RIDE_PASGR_NUM': 21663.0,\n",
       "  'ALIGHT_PASGR_NUM': 22050.0,\n",
       "  'WORK_DT': '20220404'},\n",
       " {'USE_DT': '20220401',\n",
       "  'LINE_NUM': '2호선',\n",
       "  'SUB_STA_NM': '을지로4가',\n",
       "  'RIDE_PASGR_NUM': 12527.0,\n",
       "  'ALIGHT_PASGR_NUM': 12724.0,\n",
       "  'WORK_DT': '20220404'},\n",
       " {'USE_DT': '20220401',\n",
       "  'LINE_NUM': '2호선',\n",
       "  'SUB_STA_NM': '동대문역사문화공원(DDP)',\n",
       "  'RIDE_PASGR_NUM': 12146.0,\n",
       "  'ALIGHT_PASGR_NUM': 13895.0,\n",
       "  'WORK_DT': '20220404'},\n",
       " {'USE_DT': '20220401',\n",
       "  'LINE_NUM': '2호선',\n",
       "  'SUB_STA_NM': '신당',\n",
       "  'RIDE_PASGR_NUM': 13793.0,\n",
       "  'ALIGHT_PASGR_NUM': 14238.0,\n",
       "  'WORK_DT': '20220404'},\n",
       " {'USE_DT': '20220401',\n",
       "  'LINE_NUM': '2호선',\n",
       "  'SUB_STA_NM': '상왕십리',\n",
       "  'RIDE_PASGR_NUM': 13993.0,\n",
       "  'ALIGHT_PASGR_NUM': 13510.0,\n",
       "  'WORK_DT': '20220404'},\n",
       " {'USE_DT': '20220401',\n",
       "  'LINE_NUM': '2호선',\n",
       "  'SUB_STA_NM': '왕십리(성동구청)',\n",
       "  'RIDE_PASGR_NUM': 17569.0,\n",
       "  'ALIGHT_PASGR_NUM': 14423.0,\n",
       "  'WORK_DT': '20220404'},\n",
       " {'USE_DT': '20220401',\n",
       "  'LINE_NUM': '2호선',\n",
       "  'SUB_STA_NM': '한양대',\n",
       "  'RIDE_PASGR_NUM': 12721.0,\n",
       "  'ALIGHT_PASGR_NUM': 13848.0,\n",
       "  'WORK_DT': '20220404'},\n",
       " {'USE_DT': '20220401',\n",
       "  'LINE_NUM': '2호선',\n",
       "  'SUB_STA_NM': '뚝섬',\n",
       "  'RIDE_PASGR_NUM': 22608.0,\n",
       "  'ALIGHT_PASGR_NUM': 23885.0,\n",
       "  'WORK_DT': '20220404'}]"
      ]
     },
     "execution_count": 11,
     "metadata": {},
     "output_type": "execute_result"
    }
   ],
   "source": [
    "rows = data['CardSubwayStatsNew']['row']\n",
    "rows"
   ]
  },
  {
   "cell_type": "code",
   "execution_count": 12,
   "id": "37480c93",
   "metadata": {},
   "outputs": [
    {
     "data": {
      "text/plain": [
       "{'USE_DT': '20220401',\n",
       " 'LINE_NUM': '1호선',\n",
       " 'SUB_STA_NM': '서울역',\n",
       " 'RIDE_PASGR_NUM': 43089.0,\n",
       " 'ALIGHT_PASGR_NUM': 43731.0,\n",
       " 'WORK_DT': '20220404'}"
      ]
     },
     "execution_count": 12,
     "metadata": {},
     "output_type": "execute_result"
    }
   ],
   "source": [
    "rows[0]"
   ]
  },
  {
   "cell_type": "code",
   "execution_count": 14,
   "id": "1517fedf",
   "metadata": {},
   "outputs": [
    {
     "data": {
      "text/plain": [
       "'1호선'"
      ]
     },
     "execution_count": 14,
     "metadata": {},
     "output_type": "execute_result"
    }
   ],
   "source": [
    "rows[0]['LINE_NUM']"
   ]
  },
  {
   "cell_type": "code",
   "execution_count": 20,
   "id": "aa286650",
   "metadata": {},
   "outputs": [
    {
     "data": {
      "text/plain": [
       "[['1호선', '서울역', 43089, 43731],\n",
       " ['1호선', '시청', 20773, 21177],\n",
       " ['1호선', '종각', 31866, 30795],\n",
       " ['1호선', '종로3가', 24279, 22331],\n",
       " ['1호선', '종로5가', 22217, 22157],\n",
       " ['1호선', '동대문', 10776, 9652],\n",
       " ['1호선', '신설동', 13637, 13185],\n",
       " ['1호선', '제기동', 17133, 17426],\n",
       " ['1호선', '청량리(서울시립대입구)', 19844, 19618],\n",
       " ['1호선', '동묘앞', 8297, 8644],\n",
       " ['2호선', '시청', 21848, 21331],\n",
       " ['2호선', '을지로입구', 36620, 37857],\n",
       " ['2호선', '을지로3가', 21663, 22050],\n",
       " ['2호선', '을지로4가', 12527, 12724],\n",
       " ['2호선', '동대문역사문화공원(DDP)', 12146, 13895],\n",
       " ['2호선', '신당', 13793, 14238],\n",
       " ['2호선', '상왕십리', 13993, 13510],\n",
       " ['2호선', '왕십리(성동구청)', 17569, 14423],\n",
       " ['2호선', '한양대', 12721, 13848],\n",
       " ['2호선', '뚝섬', 22608, 23885]]"
      ]
     },
     "execution_count": 20,
     "metadata": {},
     "output_type": "execute_result"
    }
   ],
   "source": [
    "#리스트\n",
    "[\n",
    "    [\n",
    "        row['LINE_NUM'],\n",
    "        row['SUB_STA_NM'],\n",
    "        int(row['RIDE_PASGR_NUM']),\n",
    "        int(row['ALIGHT_PASGR_NUM']),\n",
    "    ]\n",
    "    for row in rows\n",
    "]"
   ]
  },
  {
   "cell_type": "code",
   "execution_count": 23,
   "id": "62763f1a",
   "metadata": {},
   "outputs": [
    {
     "data": {
      "text/plain": [
       "[{'호선명': '1호선', '역명': '서울역', '탑승인원': 43089, '하차인원': 43731},\n",
       " {'호선명': '1호선', '역명': '시청', '탑승인원': 20773, '하차인원': 21177},\n",
       " {'호선명': '1호선', '역명': '종각', '탑승인원': 31866, '하차인원': 30795},\n",
       " {'호선명': '1호선', '역명': '종로3가', '탑승인원': 24279, '하차인원': 22331},\n",
       " {'호선명': '1호선', '역명': '종로5가', '탑승인원': 22217, '하차인원': 22157},\n",
       " {'호선명': '1호선', '역명': '동대문', '탑승인원': 10776, '하차인원': 9652},\n",
       " {'호선명': '1호선', '역명': '신설동', '탑승인원': 13637, '하차인원': 13185},\n",
       " {'호선명': '1호선', '역명': '제기동', '탑승인원': 17133, '하차인원': 17426},\n",
       " {'호선명': '1호선', '역명': '청량리(서울시립대입구)', '탑승인원': 19844, '하차인원': 19618},\n",
       " {'호선명': '1호선', '역명': '동묘앞', '탑승인원': 8297, '하차인원': 8644},\n",
       " {'호선명': '2호선', '역명': '시청', '탑승인원': 21848, '하차인원': 21331},\n",
       " {'호선명': '2호선', '역명': '을지로입구', '탑승인원': 36620, '하차인원': 37857},\n",
       " {'호선명': '2호선', '역명': '을지로3가', '탑승인원': 21663, '하차인원': 22050},\n",
       " {'호선명': '2호선', '역명': '을지로4가', '탑승인원': 12527, '하차인원': 12724},\n",
       " {'호선명': '2호선', '역명': '동대문역사문화공원(DDP)', '탑승인원': 12146, '하차인원': 13895},\n",
       " {'호선명': '2호선', '역명': '신당', '탑승인원': 13793, '하차인원': 14238},\n",
       " {'호선명': '2호선', '역명': '상왕십리', '탑승인원': 13993, '하차인원': 13510},\n",
       " {'호선명': '2호선', '역명': '왕십리(성동구청)', '탑승인원': 17569, '하차인원': 14423},\n",
       " {'호선명': '2호선', '역명': '한양대', '탑승인원': 12721, '하차인원': 13848},\n",
       " {'호선명': '2호선', '역명': '뚝섬', '탑승인원': 22608, '하차인원': 23885}]"
      ]
     },
     "execution_count": 23,
     "metadata": {},
     "output_type": "execute_result"
    }
   ],
   "source": [
    "#딕셔너리\n",
    "[\n",
    "    {\n",
    "        '호선명' : row['LINE_NUM'],\n",
    "        '역명' : row['SUB_STA_NM'],\n",
    "        '탑승인원' : int(row['RIDE_PASGR_NUM']),\n",
    "        '하차인원' : int(row['ALIGHT_PASGR_NUM']),\n",
    "    }\n",
    "    for row in rows\n",
    "]"
   ]
  },
  {
   "cell_type": "markdown",
   "id": "218e4475",
   "metadata": {},
   "source": [
    "# XML"
   ]
  },
  {
   "cell_type": "code",
   "execution_count": 24,
   "id": "866edeef",
   "metadata": {},
   "outputs": [
    {
     "data": {
      "text/plain": [
       "'http://openapi.seoul.go.kr:8088/4d46796d7366726f3833774a774955/xml/CardSubwayStatsNew/1/20/20220401'"
      ]
     },
     "execution_count": 24,
     "metadata": {},
     "output_type": "execute_result"
    }
   ],
   "source": [
    "req_type = \"xml\"\n",
    "url = f'http://openapi.seoul.go.kr:8088/{key}/{req_type}/CardSubwayStatsNew/1/{end_index}/{date}'\n",
    "url"
   ]
  },
  {
   "cell_type": "code",
   "execution_count": 25,
   "id": "8c6f9a4f",
   "metadata": {},
   "outputs": [
    {
     "data": {
      "text/plain": [
       "<Response [200]>"
      ]
     },
     "execution_count": 25,
     "metadata": {},
     "output_type": "execute_result"
    }
   ],
   "source": [
    "response = requests.get(url)\n",
    "response"
   ]
  },
  {
   "cell_type": "code",
   "execution_count": 26,
   "id": "d537fa78",
   "metadata": {},
   "outputs": [
    {
     "data": {
      "text/plain": [
       "<?xml version=\"1.0\" encoding=\"utf-8\"?>\n",
       "<CardSubwayStatsNew>\n",
       "<list_total_count>594</list_total_count>\n",
       "<RESULT>\n",
       "<CODE>INFO-000</CODE>\n",
       "<MESSAGE>정상 처리되었습니다</MESSAGE>\n",
       "</RESULT>\n",
       "<row>\n",
       "<USE_DT>20220401</USE_DT>\n",
       "<LINE_NUM>1호선</LINE_NUM>\n",
       "<SUB_STA_NM>서울역</SUB_STA_NM>\n",
       "<RIDE_PASGR_NUM>43089</RIDE_PASGR_NUM>\n",
       "<ALIGHT_PASGR_NUM>43731</ALIGHT_PASGR_NUM>\n",
       "<WORK_DT>20220404</WORK_DT>\n",
       "</row>\n",
       "<row>\n",
       "<USE_DT>20220401</USE_DT>\n",
       "<LINE_NUM>1호선</LINE_NUM>\n",
       "<SUB_STA_NM>시청</SUB_STA_NM>\n",
       "<RIDE_PASGR_NUM>20773</RIDE_PASGR_NUM>\n",
       "<ALIGHT_PASGR_NUM>21177</ALIGHT_PASGR_NUM>\n",
       "<WORK_DT>20220404</WORK_DT>\n",
       "</row>\n",
       "<row>\n",
       "<USE_DT>20220401</USE_DT>\n",
       "<LINE_NUM>1호선</LINE_NUM>\n",
       "<SUB_STA_NM>종각</SUB_STA_NM>\n",
       "<RIDE_PASGR_NUM>31866</RIDE_PASGR_NUM>\n",
       "<ALIGHT_PASGR_NUM>30795</ALIGHT_PASGR_NUM>\n",
       "<WORK_DT>20220404</WORK_DT>\n",
       "</row>\n",
       "<row>\n",
       "<USE_DT>20220401</USE_DT>\n",
       "<LINE_NUM>1호선</LINE_NUM>\n",
       "<SUB_STA_NM>종로3가</SUB_STA_NM>\n",
       "<RIDE_PASGR_NUM>24279</RIDE_PASGR_NUM>\n",
       "<ALIGHT_PASGR_NUM>22331</ALIGHT_PASGR_NUM>\n",
       "<WORK_DT>20220404</WORK_DT>\n",
       "</row>\n",
       "<row>\n",
       "<USE_DT>20220401</USE_DT>\n",
       "<LINE_NUM>1호선</LINE_NUM>\n",
       "<SUB_STA_NM>종로5가</SUB_STA_NM>\n",
       "<RIDE_PASGR_NUM>22217</RIDE_PASGR_NUM>\n",
       "<ALIGHT_PASGR_NUM>22157</ALIGHT_PASGR_NUM>\n",
       "<WORK_DT>20220404</WORK_DT>\n",
       "</row>\n",
       "<row>\n",
       "<USE_DT>20220401</USE_DT>\n",
       "<LINE_NUM>1호선</LINE_NUM>\n",
       "<SUB_STA_NM>동대문</SUB_STA_NM>\n",
       "<RIDE_PASGR_NUM>10776</RIDE_PASGR_NUM>\n",
       "<ALIGHT_PASGR_NUM>9652</ALIGHT_PASGR_NUM>\n",
       "<WORK_DT>20220404</WORK_DT>\n",
       "</row>\n",
       "<row>\n",
       "<USE_DT>20220401</USE_DT>\n",
       "<LINE_NUM>1호선</LINE_NUM>\n",
       "<SUB_STA_NM>신설동</SUB_STA_NM>\n",
       "<RIDE_PASGR_NUM>13637</RIDE_PASGR_NUM>\n",
       "<ALIGHT_PASGR_NUM>13185</ALIGHT_PASGR_NUM>\n",
       "<WORK_DT>20220404</WORK_DT>\n",
       "</row>\n",
       "<row>\n",
       "<USE_DT>20220401</USE_DT>\n",
       "<LINE_NUM>1호선</LINE_NUM>\n",
       "<SUB_STA_NM>제기동</SUB_STA_NM>\n",
       "<RIDE_PASGR_NUM>17133</RIDE_PASGR_NUM>\n",
       "<ALIGHT_PASGR_NUM>17426</ALIGHT_PASGR_NUM>\n",
       "<WORK_DT>20220404</WORK_DT>\n",
       "</row>\n",
       "<row>\n",
       "<USE_DT>20220401</USE_DT>\n",
       "<LINE_NUM>1호선</LINE_NUM>\n",
       "<SUB_STA_NM>청량리(서울시립대입구)</SUB_STA_NM>\n",
       "<RIDE_PASGR_NUM>19844</RIDE_PASGR_NUM>\n",
       "<ALIGHT_PASGR_NUM>19618</ALIGHT_PASGR_NUM>\n",
       "<WORK_DT>20220404</WORK_DT>\n",
       "</row>\n",
       "<row>\n",
       "<USE_DT>20220401</USE_DT>\n",
       "<LINE_NUM>1호선</LINE_NUM>\n",
       "<SUB_STA_NM>동묘앞</SUB_STA_NM>\n",
       "<RIDE_PASGR_NUM>8297</RIDE_PASGR_NUM>\n",
       "<ALIGHT_PASGR_NUM>8644</ALIGHT_PASGR_NUM>\n",
       "<WORK_DT>20220404</WORK_DT>\n",
       "</row>\n",
       "<row>\n",
       "<USE_DT>20220401</USE_DT>\n",
       "<LINE_NUM>2호선</LINE_NUM>\n",
       "<SUB_STA_NM>시청</SUB_STA_NM>\n",
       "<RIDE_PASGR_NUM>21848</RIDE_PASGR_NUM>\n",
       "<ALIGHT_PASGR_NUM>21331</ALIGHT_PASGR_NUM>\n",
       "<WORK_DT>20220404</WORK_DT>\n",
       "</row>\n",
       "<row>\n",
       "<USE_DT>20220401</USE_DT>\n",
       "<LINE_NUM>2호선</LINE_NUM>\n",
       "<SUB_STA_NM>을지로입구</SUB_STA_NM>\n",
       "<RIDE_PASGR_NUM>36620</RIDE_PASGR_NUM>\n",
       "<ALIGHT_PASGR_NUM>37857</ALIGHT_PASGR_NUM>\n",
       "<WORK_DT>20220404</WORK_DT>\n",
       "</row>\n",
       "<row>\n",
       "<USE_DT>20220401</USE_DT>\n",
       "<LINE_NUM>2호선</LINE_NUM>\n",
       "<SUB_STA_NM>을지로3가</SUB_STA_NM>\n",
       "<RIDE_PASGR_NUM>21663</RIDE_PASGR_NUM>\n",
       "<ALIGHT_PASGR_NUM>22050</ALIGHT_PASGR_NUM>\n",
       "<WORK_DT>20220404</WORK_DT>\n",
       "</row>\n",
       "<row>\n",
       "<USE_DT>20220401</USE_DT>\n",
       "<LINE_NUM>2호선</LINE_NUM>\n",
       "<SUB_STA_NM>을지로4가</SUB_STA_NM>\n",
       "<RIDE_PASGR_NUM>12527</RIDE_PASGR_NUM>\n",
       "<ALIGHT_PASGR_NUM>12724</ALIGHT_PASGR_NUM>\n",
       "<WORK_DT>20220404</WORK_DT>\n",
       "</row>\n",
       "<row>\n",
       "<USE_DT>20220401</USE_DT>\n",
       "<LINE_NUM>2호선</LINE_NUM>\n",
       "<SUB_STA_NM>동대문역사문화공원(DDP)</SUB_STA_NM>\n",
       "<RIDE_PASGR_NUM>12146</RIDE_PASGR_NUM>\n",
       "<ALIGHT_PASGR_NUM>13895</ALIGHT_PASGR_NUM>\n",
       "<WORK_DT>20220404</WORK_DT>\n",
       "</row>\n",
       "<row>\n",
       "<USE_DT>20220401</USE_DT>\n",
       "<LINE_NUM>2호선</LINE_NUM>\n",
       "<SUB_STA_NM>신당</SUB_STA_NM>\n",
       "<RIDE_PASGR_NUM>13793</RIDE_PASGR_NUM>\n",
       "<ALIGHT_PASGR_NUM>14238</ALIGHT_PASGR_NUM>\n",
       "<WORK_DT>20220404</WORK_DT>\n",
       "</row>\n",
       "<row>\n",
       "<USE_DT>20220401</USE_DT>\n",
       "<LINE_NUM>2호선</LINE_NUM>\n",
       "<SUB_STA_NM>상왕십리</SUB_STA_NM>\n",
       "<RIDE_PASGR_NUM>13993</RIDE_PASGR_NUM>\n",
       "<ALIGHT_PASGR_NUM>13510</ALIGHT_PASGR_NUM>\n",
       "<WORK_DT>20220404</WORK_DT>\n",
       "</row>\n",
       "<row>\n",
       "<USE_DT>20220401</USE_DT>\n",
       "<LINE_NUM>2호선</LINE_NUM>\n",
       "<SUB_STA_NM>왕십리(성동구청)</SUB_STA_NM>\n",
       "<RIDE_PASGR_NUM>17569</RIDE_PASGR_NUM>\n",
       "<ALIGHT_PASGR_NUM>14423</ALIGHT_PASGR_NUM>\n",
       "<WORK_DT>20220404</WORK_DT>\n",
       "</row>\n",
       "<row>\n",
       "<USE_DT>20220401</USE_DT>\n",
       "<LINE_NUM>2호선</LINE_NUM>\n",
       "<SUB_STA_NM>한양대</SUB_STA_NM>\n",
       "<RIDE_PASGR_NUM>12721</RIDE_PASGR_NUM>\n",
       "<ALIGHT_PASGR_NUM>13848</ALIGHT_PASGR_NUM>\n",
       "<WORK_DT>20220404</WORK_DT>\n",
       "</row>\n",
       "<row>\n",
       "<USE_DT>20220401</USE_DT>\n",
       "<LINE_NUM>2호선</LINE_NUM>\n",
       "<SUB_STA_NM>뚝섬</SUB_STA_NM>\n",
       "<RIDE_PASGR_NUM>22608</RIDE_PASGR_NUM>\n",
       "<ALIGHT_PASGR_NUM>23885</ALIGHT_PASGR_NUM>\n",
       "<WORK_DT>20220404</WORK_DT>\n",
       "</row>\n",
       "</CardSubwayStatsNew>"
      ]
     },
     "execution_count": 26,
     "metadata": {},
     "output_type": "execute_result"
    }
   ],
   "source": [
    "data = BeautifulSoup(response.text, 'lxml-xml' )  #xml 은 뒤에 'lxml-xml' 붙인다\n",
    "data"
   ]
  },
  {
   "cell_type": "code",
   "execution_count": 27,
   "id": "feb3ec58",
   "metadata": {},
   "outputs": [
    {
     "data": {
      "text/plain": [
       "20"
      ]
     },
     "execution_count": 27,
     "metadata": {},
     "output_type": "execute_result"
    }
   ],
   "source": [
    "items = data.select('row')  # 태그명 대소문자 주의!\n",
    "len(items)"
   ]
  },
  {
   "cell_type": "code",
   "execution_count": 28,
   "id": "a9e46a0e",
   "metadata": {},
   "outputs": [
    {
     "data": {
      "text/plain": [
       "[<row>\n",
       " <USE_DT>20220401</USE_DT>\n",
       " <LINE_NUM>1호선</LINE_NUM>\n",
       " <SUB_STA_NM>서울역</SUB_STA_NM>\n",
       " <RIDE_PASGR_NUM>43089</RIDE_PASGR_NUM>\n",
       " <ALIGHT_PASGR_NUM>43731</ALIGHT_PASGR_NUM>\n",
       " <WORK_DT>20220404</WORK_DT>\n",
       " </row>,\n",
       " <row>\n",
       " <USE_DT>20220401</USE_DT>\n",
       " <LINE_NUM>1호선</LINE_NUM>\n",
       " <SUB_STA_NM>시청</SUB_STA_NM>\n",
       " <RIDE_PASGR_NUM>20773</RIDE_PASGR_NUM>\n",
       " <ALIGHT_PASGR_NUM>21177</ALIGHT_PASGR_NUM>\n",
       " <WORK_DT>20220404</WORK_DT>\n",
       " </row>,\n",
       " <row>\n",
       " <USE_DT>20220401</USE_DT>\n",
       " <LINE_NUM>1호선</LINE_NUM>\n",
       " <SUB_STA_NM>종각</SUB_STA_NM>\n",
       " <RIDE_PASGR_NUM>31866</RIDE_PASGR_NUM>\n",
       " <ALIGHT_PASGR_NUM>30795</ALIGHT_PASGR_NUM>\n",
       " <WORK_DT>20220404</WORK_DT>\n",
       " </row>,\n",
       " <row>\n",
       " <USE_DT>20220401</USE_DT>\n",
       " <LINE_NUM>1호선</LINE_NUM>\n",
       " <SUB_STA_NM>종로3가</SUB_STA_NM>\n",
       " <RIDE_PASGR_NUM>24279</RIDE_PASGR_NUM>\n",
       " <ALIGHT_PASGR_NUM>22331</ALIGHT_PASGR_NUM>\n",
       " <WORK_DT>20220404</WORK_DT>\n",
       " </row>,\n",
       " <row>\n",
       " <USE_DT>20220401</USE_DT>\n",
       " <LINE_NUM>1호선</LINE_NUM>\n",
       " <SUB_STA_NM>종로5가</SUB_STA_NM>\n",
       " <RIDE_PASGR_NUM>22217</RIDE_PASGR_NUM>\n",
       " <ALIGHT_PASGR_NUM>22157</ALIGHT_PASGR_NUM>\n",
       " <WORK_DT>20220404</WORK_DT>\n",
       " </row>,\n",
       " <row>\n",
       " <USE_DT>20220401</USE_DT>\n",
       " <LINE_NUM>1호선</LINE_NUM>\n",
       " <SUB_STA_NM>동대문</SUB_STA_NM>\n",
       " <RIDE_PASGR_NUM>10776</RIDE_PASGR_NUM>\n",
       " <ALIGHT_PASGR_NUM>9652</ALIGHT_PASGR_NUM>\n",
       " <WORK_DT>20220404</WORK_DT>\n",
       " </row>,\n",
       " <row>\n",
       " <USE_DT>20220401</USE_DT>\n",
       " <LINE_NUM>1호선</LINE_NUM>\n",
       " <SUB_STA_NM>신설동</SUB_STA_NM>\n",
       " <RIDE_PASGR_NUM>13637</RIDE_PASGR_NUM>\n",
       " <ALIGHT_PASGR_NUM>13185</ALIGHT_PASGR_NUM>\n",
       " <WORK_DT>20220404</WORK_DT>\n",
       " </row>,\n",
       " <row>\n",
       " <USE_DT>20220401</USE_DT>\n",
       " <LINE_NUM>1호선</LINE_NUM>\n",
       " <SUB_STA_NM>제기동</SUB_STA_NM>\n",
       " <RIDE_PASGR_NUM>17133</RIDE_PASGR_NUM>\n",
       " <ALIGHT_PASGR_NUM>17426</ALIGHT_PASGR_NUM>\n",
       " <WORK_DT>20220404</WORK_DT>\n",
       " </row>,\n",
       " <row>\n",
       " <USE_DT>20220401</USE_DT>\n",
       " <LINE_NUM>1호선</LINE_NUM>\n",
       " <SUB_STA_NM>청량리(서울시립대입구)</SUB_STA_NM>\n",
       " <RIDE_PASGR_NUM>19844</RIDE_PASGR_NUM>\n",
       " <ALIGHT_PASGR_NUM>19618</ALIGHT_PASGR_NUM>\n",
       " <WORK_DT>20220404</WORK_DT>\n",
       " </row>,\n",
       " <row>\n",
       " <USE_DT>20220401</USE_DT>\n",
       " <LINE_NUM>1호선</LINE_NUM>\n",
       " <SUB_STA_NM>동묘앞</SUB_STA_NM>\n",
       " <RIDE_PASGR_NUM>8297</RIDE_PASGR_NUM>\n",
       " <ALIGHT_PASGR_NUM>8644</ALIGHT_PASGR_NUM>\n",
       " <WORK_DT>20220404</WORK_DT>\n",
       " </row>,\n",
       " <row>\n",
       " <USE_DT>20220401</USE_DT>\n",
       " <LINE_NUM>2호선</LINE_NUM>\n",
       " <SUB_STA_NM>시청</SUB_STA_NM>\n",
       " <RIDE_PASGR_NUM>21848</RIDE_PASGR_NUM>\n",
       " <ALIGHT_PASGR_NUM>21331</ALIGHT_PASGR_NUM>\n",
       " <WORK_DT>20220404</WORK_DT>\n",
       " </row>,\n",
       " <row>\n",
       " <USE_DT>20220401</USE_DT>\n",
       " <LINE_NUM>2호선</LINE_NUM>\n",
       " <SUB_STA_NM>을지로입구</SUB_STA_NM>\n",
       " <RIDE_PASGR_NUM>36620</RIDE_PASGR_NUM>\n",
       " <ALIGHT_PASGR_NUM>37857</ALIGHT_PASGR_NUM>\n",
       " <WORK_DT>20220404</WORK_DT>\n",
       " </row>,\n",
       " <row>\n",
       " <USE_DT>20220401</USE_DT>\n",
       " <LINE_NUM>2호선</LINE_NUM>\n",
       " <SUB_STA_NM>을지로3가</SUB_STA_NM>\n",
       " <RIDE_PASGR_NUM>21663</RIDE_PASGR_NUM>\n",
       " <ALIGHT_PASGR_NUM>22050</ALIGHT_PASGR_NUM>\n",
       " <WORK_DT>20220404</WORK_DT>\n",
       " </row>,\n",
       " <row>\n",
       " <USE_DT>20220401</USE_DT>\n",
       " <LINE_NUM>2호선</LINE_NUM>\n",
       " <SUB_STA_NM>을지로4가</SUB_STA_NM>\n",
       " <RIDE_PASGR_NUM>12527</RIDE_PASGR_NUM>\n",
       " <ALIGHT_PASGR_NUM>12724</ALIGHT_PASGR_NUM>\n",
       " <WORK_DT>20220404</WORK_DT>\n",
       " </row>,\n",
       " <row>\n",
       " <USE_DT>20220401</USE_DT>\n",
       " <LINE_NUM>2호선</LINE_NUM>\n",
       " <SUB_STA_NM>동대문역사문화공원(DDP)</SUB_STA_NM>\n",
       " <RIDE_PASGR_NUM>12146</RIDE_PASGR_NUM>\n",
       " <ALIGHT_PASGR_NUM>13895</ALIGHT_PASGR_NUM>\n",
       " <WORK_DT>20220404</WORK_DT>\n",
       " </row>,\n",
       " <row>\n",
       " <USE_DT>20220401</USE_DT>\n",
       " <LINE_NUM>2호선</LINE_NUM>\n",
       " <SUB_STA_NM>신당</SUB_STA_NM>\n",
       " <RIDE_PASGR_NUM>13793</RIDE_PASGR_NUM>\n",
       " <ALIGHT_PASGR_NUM>14238</ALIGHT_PASGR_NUM>\n",
       " <WORK_DT>20220404</WORK_DT>\n",
       " </row>,\n",
       " <row>\n",
       " <USE_DT>20220401</USE_DT>\n",
       " <LINE_NUM>2호선</LINE_NUM>\n",
       " <SUB_STA_NM>상왕십리</SUB_STA_NM>\n",
       " <RIDE_PASGR_NUM>13993</RIDE_PASGR_NUM>\n",
       " <ALIGHT_PASGR_NUM>13510</ALIGHT_PASGR_NUM>\n",
       " <WORK_DT>20220404</WORK_DT>\n",
       " </row>,\n",
       " <row>\n",
       " <USE_DT>20220401</USE_DT>\n",
       " <LINE_NUM>2호선</LINE_NUM>\n",
       " <SUB_STA_NM>왕십리(성동구청)</SUB_STA_NM>\n",
       " <RIDE_PASGR_NUM>17569</RIDE_PASGR_NUM>\n",
       " <ALIGHT_PASGR_NUM>14423</ALIGHT_PASGR_NUM>\n",
       " <WORK_DT>20220404</WORK_DT>\n",
       " </row>,\n",
       " <row>\n",
       " <USE_DT>20220401</USE_DT>\n",
       " <LINE_NUM>2호선</LINE_NUM>\n",
       " <SUB_STA_NM>한양대</SUB_STA_NM>\n",
       " <RIDE_PASGR_NUM>12721</RIDE_PASGR_NUM>\n",
       " <ALIGHT_PASGR_NUM>13848</ALIGHT_PASGR_NUM>\n",
       " <WORK_DT>20220404</WORK_DT>\n",
       " </row>,\n",
       " <row>\n",
       " <USE_DT>20220401</USE_DT>\n",
       " <LINE_NUM>2호선</LINE_NUM>\n",
       " <SUB_STA_NM>뚝섬</SUB_STA_NM>\n",
       " <RIDE_PASGR_NUM>22608</RIDE_PASGR_NUM>\n",
       " <ALIGHT_PASGR_NUM>23885</ALIGHT_PASGR_NUM>\n",
       " <WORK_DT>20220404</WORK_DT>\n",
       " </row>]"
      ]
     },
     "execution_count": 28,
     "metadata": {},
     "output_type": "execute_result"
    }
   ],
   "source": [
    "items"
   ]
  },
  {
   "cell_type": "code",
   "execution_count": 29,
   "id": "f19b7d6c",
   "metadata": {},
   "outputs": [
    {
     "data": {
      "text/plain": [
       "<row>\n",
       "<USE_DT>20220401</USE_DT>\n",
       "<LINE_NUM>1호선</LINE_NUM>\n",
       "<SUB_STA_NM>서울역</SUB_STA_NM>\n",
       "<RIDE_PASGR_NUM>43089</RIDE_PASGR_NUM>\n",
       "<ALIGHT_PASGR_NUM>43731</ALIGHT_PASGR_NUM>\n",
       "<WORK_DT>20220404</WORK_DT>\n",
       "</row>"
      ]
     },
     "execution_count": 29,
     "metadata": {},
     "output_type": "execute_result"
    }
   ],
   "source": [
    "items[0]"
   ]
  },
  {
   "cell_type": "code",
   "execution_count": 33,
   "id": "e8b1ec2f",
   "metadata": {},
   "outputs": [
    {
     "data": {
      "text/plain": [
       "<LINE_NUM>1호선</LINE_NUM>"
      ]
     },
     "execution_count": 33,
     "metadata": {},
     "output_type": "execute_result"
    }
   ],
   "source": [
    "items[0].select_one('LINE_NUM')\n",
    "# xml 로 크롤링 하면 리스트가 아닌 Nonetype으로 불러오기 때문에 \n",
    "#특정 변수를 select로 읽어 들여야한다."
   ]
  },
  {
   "cell_type": "code",
   "execution_count": 35,
   "id": "d2b390db",
   "metadata": {},
   "outputs": [
    {
     "data": {
      "text/plain": [
       "'1호선'"
      ]
     },
     "execution_count": 35,
     "metadata": {},
     "output_type": "execute_result"
    }
   ],
   "source": [
    "items[0].select_one('LINE_NUM').text.strip()"
   ]
  },
  {
   "cell_type": "code",
   "execution_count": 38,
   "id": "d261aa1d",
   "metadata": {},
   "outputs": [
    {
     "data": {
      "text/plain": [
       "[['1호선', '서울역', '43089', '43731'],\n",
       " ['1호선', '시청', '20773', '21177'],\n",
       " ['1호선', '종각', '31866', '30795'],\n",
       " ['1호선', '종로3가', '24279', '22331'],\n",
       " ['1호선', '종로5가', '22217', '22157'],\n",
       " ['1호선', '동대문', '10776', '9652'],\n",
       " ['1호선', '신설동', '13637', '13185'],\n",
       " ['1호선', '제기동', '17133', '17426'],\n",
       " ['1호선', '청량리(서울시립대입구)', '19844', '19618'],\n",
       " ['1호선', '동묘앞', '8297', '8644'],\n",
       " ['2호선', '시청', '21848', '21331'],\n",
       " ['2호선', '을지로입구', '36620', '37857'],\n",
       " ['2호선', '을지로3가', '21663', '22050'],\n",
       " ['2호선', '을지로4가', '12527', '12724'],\n",
       " ['2호선', '동대문역사문화공원(DDP)', '12146', '13895'],\n",
       " ['2호선', '신당', '13793', '14238'],\n",
       " ['2호선', '상왕십리', '13993', '13510'],\n",
       " ['2호선', '왕십리(성동구청)', '17569', '14423'],\n",
       " ['2호선', '한양대', '12721', '13848'],\n",
       " ['2호선', '뚝섬', '22608', '23885']]"
      ]
     },
     "execution_count": 38,
     "metadata": {},
     "output_type": "execute_result"
    }
   ],
   "source": [
    "#리스트\n",
    "[\n",
    "    [\n",
    "        item.select_one('LINE_NUM').text.strip(),\n",
    "        item.select_one('SUB_STA_NM').text.strip(),\n",
    "        item.select_one('RIDE_PASGR_NUM').text.strip(),\n",
    "        item.select_one('ALIGHT_PASGR_NUM').text.strip(),\n",
    "    ]\n",
    "    for item in items\n",
    "]"
   ]
  },
  {
   "cell_type": "code",
   "execution_count": 41,
   "id": "6277c279",
   "metadata": {},
   "outputs": [
    {
     "data": {
      "text/plain": [
       "[{'호선명': '1호선', '역명': '서울역', '탑승인원': 43089, '하차인원': 43731},\n",
       " {'호선명': '1호선', '역명': '시청', '탑승인원': 20773, '하차인원': 21177},\n",
       " {'호선명': '1호선', '역명': '종각', '탑승인원': 31866, '하차인원': 30795},\n",
       " {'호선명': '1호선', '역명': '종로3가', '탑승인원': 24279, '하차인원': 22331},\n",
       " {'호선명': '1호선', '역명': '종로5가', '탑승인원': 22217, '하차인원': 22157},\n",
       " {'호선명': '1호선', '역명': '동대문', '탑승인원': 10776, '하차인원': 9652},\n",
       " {'호선명': '1호선', '역명': '신설동', '탑승인원': 13637, '하차인원': 13185},\n",
       " {'호선명': '1호선', '역명': '제기동', '탑승인원': 17133, '하차인원': 17426},\n",
       " {'호선명': '1호선', '역명': '청량리(서울시립대입구)', '탑승인원': 19844, '하차인원': 19618},\n",
       " {'호선명': '1호선', '역명': '동묘앞', '탑승인원': 8297, '하차인원': 8644},\n",
       " {'호선명': '2호선', '역명': '시청', '탑승인원': 21848, '하차인원': 21331},\n",
       " {'호선명': '2호선', '역명': '을지로입구', '탑승인원': 36620, '하차인원': 37857},\n",
       " {'호선명': '2호선', '역명': '을지로3가', '탑승인원': 21663, '하차인원': 22050},\n",
       " {'호선명': '2호선', '역명': '을지로4가', '탑승인원': 12527, '하차인원': 12724},\n",
       " {'호선명': '2호선', '역명': '동대문역사문화공원(DDP)', '탑승인원': 12146, '하차인원': 13895},\n",
       " {'호선명': '2호선', '역명': '신당', '탑승인원': 13793, '하차인원': 14238},\n",
       " {'호선명': '2호선', '역명': '상왕십리', '탑승인원': 13993, '하차인원': 13510},\n",
       " {'호선명': '2호선', '역명': '왕십리(성동구청)', '탑승인원': 17569, '하차인원': 14423},\n",
       " {'호선명': '2호선', '역명': '한양대', '탑승인원': 12721, '하차인원': 13848},\n",
       " {'호선명': '2호선', '역명': '뚝섬', '탑승인원': 22608, '하차인원': 23885}]"
      ]
     },
     "execution_count": 41,
     "metadata": {},
     "output_type": "execute_result"
    }
   ],
   "source": [
    "#딕셔너리\n",
    "[\n",
    "    {\n",
    "        '호선명' : item.select_one('LINE_NUM').text.strip(),\n",
    "        '역명' : item.select_one('SUB_STA_NM').text.strip(),\n",
    "        '탑승인원' : int(item.select_one('RIDE_PASGR_NUM').text.strip()),\n",
    "        '하차인원' : int(item.select_one('ALIGHT_PASGR_NUM').text.strip()),\n",
    "    }\n",
    "    for item in items\n",
    "]"
   ]
  },
  {
   "cell_type": "code",
   "execution_count": 43,
   "id": "1e0989e4",
   "metadata": {},
   "outputs": [
    {
     "name": "stdout",
     "output_type": "stream",
     "text": [
      "[['1호선', '서울역', 43089, 43731],\n",
      " ['1호선', '시청', 20773, 21177],\n",
      " ['1호선', '종각', 31866, 30795],\n",
      " ['1호선', '종로3가', 24279, 22331],\n",
      " ['1호선', '종로5가', 22217, 22157],\n",
      " ['1호선', '동대문', 10776, 9652],\n",
      " ['1호선', '신설동', 13637, 13185],\n",
      " ['1호선', '제기동', 17133, 17426],\n",
      " ['1호선', '청량리(서울시립대입구)', 19844, 19618],\n",
      " ['1호선', '동묘앞', 8297, 8644],\n",
      " ['2호선', '시청', 21848, 21331],\n",
      " ['2호선', '을지로입구', 36620, 37857],\n",
      " ['2호선', '을지로3가', 21663, 22050],\n",
      " ['2호선', '을지로4가', 12527, 12724],\n",
      " ['2호선', '동대문역사문화공원(DDP)', 12146, 13895],\n",
      " ['2호선', '신당', 13793, 14238],\n",
      " ['2호선', '상왕십리', 13993, 13510],\n",
      " ['2호선', '왕십리(성동구청)', 17569, 14423],\n",
      " ['2호선', '한양대', 12721, 13848],\n",
      " ['2호선', '뚝섬', 22608, 23885]]\n",
      "[['1호선', '서울역', 43089, 43731],\n",
      " ['1호선', '시청', 20773, 21177],\n",
      " ['1호선', '종각', 31866, 30795],\n",
      " ['1호선', '종로3가', 24279, 22331],\n",
      " ['1호선', '종로5가', 22217, 22157],\n",
      " ['1호선', '동대문', 10776, 9652],\n",
      " ['1호선', '신설동', 13637, 13185],\n",
      " ['1호선', '제기동', 17133, 17426],\n",
      " ['1호선', '청량리(서울시립대입구)', 19844, 19618],\n",
      " ['1호선', '동묘앞', 8297, 8644],\n",
      " ['2호선', '시청', 21848, 21331],\n",
      " ['2호선', '을지로입구', 36620, 37857],\n",
      " ['2호선', '을지로3가', 21663, 22050],\n",
      " ['2호선', '을지로4가', 12527, 12724],\n",
      " ['2호선', '동대문역사문화공원(DDP)', 12146, 13895],\n",
      " ['2호선', '신당', 13793, 14238],\n",
      " ['2호선', '상왕십리', 13993, 13510],\n",
      " ['2호선', '왕십리(성동구청)', 17569, 14423],\n",
      " ['2호선', '한양대', 12721, 13848],\n",
      " ['2호선', '뚝섬', 22608, 23885]]\n"
     ]
    }
   ],
   "source": [
    "#완성\n",
    "import requests\n",
    "from bs4 import BeautifulSoup\n",
    "import pprint\n",
    "\n",
    "key = \"4d46796d7366726f3833774a774955\"\n",
    "date = \"20220401\"\n",
    "end_index = 20\n",
    "\n",
    "#JSON\n",
    "req_type = \"json\"\n",
    "url = f'http://openapi.seoul.go.kr:8088/{key}/{req_type}/CardSubwayStatsNew/1/{end_index}/{date}'\n",
    "response = requests.get(url)\n",
    "data = response.json()\n",
    "result = [\n",
    "    [\n",
    "        row['LINE_NUM'],\n",
    "        row['SUB_STA_NM'],\n",
    "        int(row['RIDE_PASGR_NUM']),\n",
    "        int(row['ALIGHT_PASGR_NUM']),\n",
    "    ]\n",
    "    for row in data['CardSubwayStatsNew']['row']\n",
    "]\n",
    "pprint.pprint(result)\n",
    "\n",
    "#xml\n",
    "req_type = 'xml'\n",
    "url = f'http://openapi.seoul.go.kr:8088/{key}/{req_type}/CardSubwayStatsNew/1/{end_index}/{date}'\n",
    "\n",
    "response = requests.get(url)\n",
    "data = BeautifulSoup(response.text, \"lxml-xml\")\n",
    "\n",
    "result = [\n",
    "    [\n",
    "        item.select_one(\"LINE_NUM\").text.strip(),\n",
    "        item.select_one(\"SUB_STA_NM\").text.strip(),\n",
    "        int(item.select_one(\"RIDE_PASGR_NUM\").text.strip()),\n",
    "        int(item.select_one(\"ALIGHT_PASGR_NUM\").text.strip()),\n",
    "    ]\n",
    "    for item in data.select(\"row\")\n",
    "]\n",
    "\n",
    "pprint.pprint(result)"
   ]
  },
  {
   "cell_type": "code",
   "execution_count": null,
   "id": "b7c88c85",
   "metadata": {},
   "outputs": [],
   "source": []
  },
  {
   "cell_type": "code",
   "execution_count": null,
   "id": "8a5a4192",
   "metadata": {},
   "outputs": [],
   "source": []
  },
  {
   "cell_type": "code",
   "execution_count": null,
   "id": "e42d9364",
   "metadata": {},
   "outputs": [],
   "source": []
  },
  {
   "cell_type": "code",
   "execution_count": null,
   "id": "b13ef4fa",
   "metadata": {},
   "outputs": [],
   "source": []
  },
  {
   "cell_type": "code",
   "execution_count": null,
   "id": "386421bb",
   "metadata": {},
   "outputs": [],
   "source": []
  },
  {
   "cell_type": "code",
   "execution_count": null,
   "id": "d1e7bbc7",
   "metadata": {},
   "outputs": [],
   "source": []
  },
  {
   "cell_type": "code",
   "execution_count": null,
   "id": "eb9cccf3",
   "metadata": {},
   "outputs": [],
   "source": []
  },
  {
   "cell_type": "code",
   "execution_count": null,
   "id": "eb534188",
   "metadata": {},
   "outputs": [],
   "source": []
  },
  {
   "cell_type": "code",
   "execution_count": null,
   "id": "89929c11",
   "metadata": {},
   "outputs": [],
   "source": []
  },
  {
   "cell_type": "code",
   "execution_count": null,
   "id": "0c46693a",
   "metadata": {},
   "outputs": [],
   "source": []
  },
  {
   "cell_type": "code",
   "execution_count": null,
   "id": "b7638630",
   "metadata": {},
   "outputs": [],
   "source": []
  },
  {
   "cell_type": "code",
   "execution_count": null,
   "id": "fc3ef4dd",
   "metadata": {},
   "outputs": [],
   "source": []
  },
  {
   "cell_type": "code",
   "execution_count": null,
   "id": "62cd56b2",
   "metadata": {},
   "outputs": [],
   "source": []
  },
  {
   "cell_type": "code",
   "execution_count": null,
   "id": "d8f9abf3",
   "metadata": {},
   "outputs": [],
   "source": []
  },
  {
   "cell_type": "code",
   "execution_count": null,
   "id": "22b07dd8",
   "metadata": {},
   "outputs": [],
   "source": []
  },
  {
   "cell_type": "code",
   "execution_count": null,
   "id": "bdf56fb0",
   "metadata": {},
   "outputs": [],
   "source": []
  },
  {
   "cell_type": "code",
   "execution_count": null,
   "id": "4dd5571f",
   "metadata": {},
   "outputs": [],
   "source": []
  },
  {
   "cell_type": "code",
   "execution_count": null,
   "id": "34f0499c",
   "metadata": {},
   "outputs": [],
   "source": []
  },
  {
   "cell_type": "code",
   "execution_count": null,
   "id": "03f3e877",
   "metadata": {},
   "outputs": [],
   "source": []
  },
  {
   "cell_type": "code",
   "execution_count": null,
   "id": "7595dc0f",
   "metadata": {},
   "outputs": [],
   "source": []
  },
  {
   "cell_type": "code",
   "execution_count": null,
   "id": "47291c95",
   "metadata": {},
   "outputs": [],
   "source": []
  },
  {
   "cell_type": "code",
   "execution_count": null,
   "id": "ab1fc76b",
   "metadata": {},
   "outputs": [],
   "source": []
  },
  {
   "cell_type": "code",
   "execution_count": null,
   "id": "6edf0c53",
   "metadata": {},
   "outputs": [],
   "source": []
  },
  {
   "cell_type": "code",
   "execution_count": null,
   "id": "b6eebfb1",
   "metadata": {},
   "outputs": [],
   "source": []
  },
  {
   "cell_type": "code",
   "execution_count": null,
   "id": "01d6e2d7",
   "metadata": {},
   "outputs": [],
   "source": []
  },
  {
   "cell_type": "code",
   "execution_count": null,
   "id": "8d32cae8",
   "metadata": {},
   "outputs": [],
   "source": []
  },
  {
   "cell_type": "code",
   "execution_count": null,
   "id": "4b9e4fcc",
   "metadata": {},
   "outputs": [],
   "source": []
  },
  {
   "cell_type": "code",
   "execution_count": null,
   "id": "6a658f9c",
   "metadata": {},
   "outputs": [],
   "source": []
  },
  {
   "cell_type": "code",
   "execution_count": null,
   "id": "0fc10470",
   "metadata": {},
   "outputs": [],
   "source": []
  },
  {
   "cell_type": "code",
   "execution_count": null,
   "id": "42ba5081",
   "metadata": {},
   "outputs": [],
   "source": []
  },
  {
   "cell_type": "code",
   "execution_count": null,
   "id": "d23cdecb",
   "metadata": {},
   "outputs": [],
   "source": []
  },
  {
   "cell_type": "code",
   "execution_count": null,
   "id": "cd26ba3c",
   "metadata": {},
   "outputs": [],
   "source": []
  },
  {
   "cell_type": "code",
   "execution_count": null,
   "id": "c052ddf8",
   "metadata": {},
   "outputs": [],
   "source": []
  },
  {
   "cell_type": "code",
   "execution_count": null,
   "id": "5e9b9b38",
   "metadata": {},
   "outputs": [],
   "source": []
  },
  {
   "cell_type": "code",
   "execution_count": null,
   "id": "bf3c6a5f",
   "metadata": {},
   "outputs": [],
   "source": []
  },
  {
   "cell_type": "code",
   "execution_count": null,
   "id": "c3e60d74",
   "metadata": {},
   "outputs": [],
   "source": []
  },
  {
   "cell_type": "code",
   "execution_count": null,
   "id": "eecba0c8",
   "metadata": {},
   "outputs": [],
   "source": []
  },
  {
   "cell_type": "code",
   "execution_count": null,
   "id": "479b0896",
   "metadata": {},
   "outputs": [],
   "source": []
  },
  {
   "cell_type": "code",
   "execution_count": null,
   "id": "b2efec8d",
   "metadata": {},
   "outputs": [],
   "source": []
  },
  {
   "cell_type": "code",
   "execution_count": null,
   "id": "7fb39561",
   "metadata": {},
   "outputs": [],
   "source": []
  },
  {
   "cell_type": "code",
   "execution_count": null,
   "id": "5c3dc2d6",
   "metadata": {},
   "outputs": [],
   "source": []
  },
  {
   "cell_type": "code",
   "execution_count": null,
   "id": "1f792b84",
   "metadata": {},
   "outputs": [],
   "source": []
  },
  {
   "cell_type": "code",
   "execution_count": null,
   "id": "910941ea",
   "metadata": {},
   "outputs": [],
   "source": []
  },
  {
   "cell_type": "code",
   "execution_count": null,
   "id": "f9837136",
   "metadata": {},
   "outputs": [],
   "source": []
  },
  {
   "cell_type": "code",
   "execution_count": null,
   "id": "1fa41c44",
   "metadata": {},
   "outputs": [],
   "source": []
  },
  {
   "cell_type": "code",
   "execution_count": null,
   "id": "27a85956",
   "metadata": {},
   "outputs": [],
   "source": []
  },
  {
   "cell_type": "code",
   "execution_count": null,
   "id": "c6b98fca",
   "metadata": {},
   "outputs": [],
   "source": []
  },
  {
   "cell_type": "code",
   "execution_count": null,
   "id": "62cc8a46",
   "metadata": {},
   "outputs": [],
   "source": []
  },
  {
   "cell_type": "code",
   "execution_count": null,
   "id": "b68fd06d",
   "metadata": {},
   "outputs": [],
   "source": []
  },
  {
   "cell_type": "code",
   "execution_count": null,
   "id": "3b799a95",
   "metadata": {},
   "outputs": [],
   "source": []
  },
  {
   "cell_type": "code",
   "execution_count": null,
   "id": "a5abfaf2",
   "metadata": {},
   "outputs": [],
   "source": []
  },
  {
   "cell_type": "code",
   "execution_count": null,
   "id": "f286307c",
   "metadata": {},
   "outputs": [],
   "source": []
  },
  {
   "cell_type": "code",
   "execution_count": null,
   "id": "b3650ec6",
   "metadata": {},
   "outputs": [],
   "source": []
  },
  {
   "cell_type": "code",
   "execution_count": null,
   "id": "dc81b40a",
   "metadata": {},
   "outputs": [],
   "source": []
  },
  {
   "cell_type": "code",
   "execution_count": null,
   "id": "78982ba0",
   "metadata": {},
   "outputs": [],
   "source": []
  },
  {
   "cell_type": "code",
   "execution_count": null,
   "id": "46065ef5",
   "metadata": {},
   "outputs": [],
   "source": []
  },
  {
   "cell_type": "code",
   "execution_count": null,
   "id": "79f1d272",
   "metadata": {},
   "outputs": [],
   "source": []
  },
  {
   "cell_type": "code",
   "execution_count": null,
   "id": "03bd2cbb",
   "metadata": {},
   "outputs": [],
   "source": []
  },
  {
   "cell_type": "code",
   "execution_count": null,
   "id": "48c2ec0f",
   "metadata": {},
   "outputs": [],
   "source": []
  },
  {
   "cell_type": "code",
   "execution_count": null,
   "id": "94cec444",
   "metadata": {},
   "outputs": [],
   "source": []
  },
  {
   "cell_type": "code",
   "execution_count": null,
   "id": "7337b94e",
   "metadata": {},
   "outputs": [],
   "source": []
  },
  {
   "cell_type": "code",
   "execution_count": null,
   "id": "127da10d",
   "metadata": {},
   "outputs": [],
   "source": []
  },
  {
   "cell_type": "code",
   "execution_count": null,
   "id": "a9415b36",
   "metadata": {},
   "outputs": [],
   "source": []
  },
  {
   "cell_type": "code",
   "execution_count": null,
   "id": "e5be6994",
   "metadata": {},
   "outputs": [],
   "source": []
  },
  {
   "cell_type": "code",
   "execution_count": null,
   "id": "c7f4e185",
   "metadata": {},
   "outputs": [],
   "source": []
  },
  {
   "cell_type": "code",
   "execution_count": null,
   "id": "92518426",
   "metadata": {},
   "outputs": [],
   "source": []
  },
  {
   "cell_type": "code",
   "execution_count": null,
   "id": "e9600728",
   "metadata": {},
   "outputs": [],
   "source": []
  },
  {
   "cell_type": "code",
   "execution_count": null,
   "id": "b1281f5f",
   "metadata": {},
   "outputs": [],
   "source": []
  },
  {
   "cell_type": "code",
   "execution_count": null,
   "id": "c3829b1c",
   "metadata": {},
   "outputs": [],
   "source": []
  },
  {
   "cell_type": "code",
   "execution_count": null,
   "id": "bece0cdb",
   "metadata": {},
   "outputs": [],
   "source": []
  },
  {
   "cell_type": "code",
   "execution_count": null,
   "id": "2ec597f6",
   "metadata": {},
   "outputs": [],
   "source": []
  },
  {
   "cell_type": "code",
   "execution_count": null,
   "id": "11407f3d",
   "metadata": {},
   "outputs": [],
   "source": []
  },
  {
   "cell_type": "code",
   "execution_count": null,
   "id": "34de4798",
   "metadata": {},
   "outputs": [],
   "source": []
  },
  {
   "cell_type": "code",
   "execution_count": null,
   "id": "dbcb4453",
   "metadata": {},
   "outputs": [],
   "source": []
  },
  {
   "cell_type": "code",
   "execution_count": null,
   "id": "88d27693",
   "metadata": {},
   "outputs": [],
   "source": []
  },
  {
   "cell_type": "code",
   "execution_count": null,
   "id": "44109c41",
   "metadata": {},
   "outputs": [],
   "source": []
  },
  {
   "cell_type": "code",
   "execution_count": null,
   "id": "a63d797a",
   "metadata": {},
   "outputs": [],
   "source": []
  },
  {
   "cell_type": "code",
   "execution_count": null,
   "id": "93e21ac5",
   "metadata": {},
   "outputs": [],
   "source": []
  },
  {
   "cell_type": "code",
   "execution_count": null,
   "id": "be3fb95c",
   "metadata": {},
   "outputs": [],
   "source": []
  },
  {
   "cell_type": "code",
   "execution_count": null,
   "id": "8bbbbbc0",
   "metadata": {},
   "outputs": [],
   "source": []
  },
  {
   "cell_type": "code",
   "execution_count": null,
   "id": "aa14b46e",
   "metadata": {},
   "outputs": [],
   "source": []
  },
  {
   "cell_type": "code",
   "execution_count": null,
   "id": "392a6d3c",
   "metadata": {},
   "outputs": [],
   "source": []
  },
  {
   "cell_type": "code",
   "execution_count": null,
   "id": "bffa8003",
   "metadata": {},
   "outputs": [],
   "source": []
  }
 ],
 "metadata": {
  "kernelspec": {
   "display_name": "Python 3 (ipykernel)",
   "language": "python",
   "name": "python3"
  },
  "language_info": {
   "codemirror_mode": {
    "name": "ipython",
    "version": 3
   },
   "file_extension": ".py",
   "mimetype": "text/x-python",
   "name": "python",
   "nbconvert_exporter": "python",
   "pygments_lexer": "ipython3",
   "version": "3.9.12"
  }
 },
 "nbformat": 4,
 "nbformat_minor": 5
}
