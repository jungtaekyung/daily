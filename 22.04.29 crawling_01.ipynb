{
 "cells": [
  {
   "cell_type": "code",
   "execution_count": 3,
   "id": "5ac2bced",
   "metadata": {},
   "outputs": [],
   "source": [
    "from bs4 import BeautifulSoup"
   ]
  },
  {
   "cell_type": "code",
   "execution_count": 4,
   "id": "341769c0",
   "metadata": {},
   "outputs": [],
   "source": [
    "fp = open(r'C:\\DevRoot\\Dropbox\\Py30\\07_crawl\\data\\simple.html', 'r',encoding='utf8') #html 불러오기\n",
    "html = fp.read()\n",
    "fp.close()"
   ]
  },
  {
   "cell_type": "code",
   "execution_count": 5,
   "id": "82b26cad",
   "metadata": {},
   "outputs": [
    {
     "data": {
      "text/plain": [
       "'<!DOCTYPE html>\\n\\n<html lang=\"ko\">\\n<head>\\n<meta charset=\"utf-8\"/>\\n    <title>간단한 html</title>\\n<style>\\n\\th1 { color: red; }\\n\\tp {color: green; }\\n\\t/* ul li {color: blue; } */\\n\\n\\t/* class  */\\n\\t.animal {color: blue; }\\n\\t.fruit {color: orange; }\\n\\n\\t/* id  */\\n\\t#cat {color:brown;}\\n    \\n    table, th, td {\\n        border : 1px solid black;\\n        border-collapse : collapse;\\n    }\\n    \\n    #books b {\\n        background-color: cyan;\\n    }\\n\\n</style>\\n</head>\\n<body>\\n    <h1>header</h1>\\n    <p>This is a paragraph</p>\\n    <div>이것은 <br> div 입니다</div>\\n    <ul>\\n        <li class=\"animal\">dog</li>\\n        <li class=\"animal\" id=\"cat\">cat</li>\\n        <li class=\"animal\">frog</li>\\n        <li class=\"animal\">this</li>\\n    </ul>\\n    <ul>\\n        <li class=\"fruit\">apple  </li>  <!-- 일부러 공백 띄었다 -->\\n        <li class=\"fruit\">ba<b>nana</b></li>\\n        \\n    </ul>\\n    <ol>\\n        <li><a href=\"https://www.naver.com\" title=\"최고포탈\">네이버</a></li>\\n        <li><a href=\"https://www.daum.net\">daum</a></li>\\n        <li class=\"animal\">fish</li>  <!-- 일부러 여기도 animal 을 넣었다 -->\\n             <!-- 일부러 a 가 없는 li 를 넣어보았다 -->\\n    </ol>\\n    \\n    <hr>\\n    <table id=\"books\">\\n        <thead>\\n        <tr>\\n            <th>제목</th>\\n            <th>가격</th>\\n        </tr>  \\n        </thead>\\n        <tbody>\\n        <tr>\\n            <td>1.이것이 파이썬이다</td>\\n            <td><b>[도서]</b> 19,200원</td>\\n        </tr>    \\n        <tr>\\n            <td>2.저것도 파이썬이다</td>\\n            <td><b>[할인]</b> 12,800원</td>\\n        </tr>    \\n        <tr>\\n            <td>3.그래도 파이썬인가?</td>\\n            <td><b>[중고]</b> 6,500원</td>\\n        </tr>  \\n        </tbody>    \\n    </table>\\n    \\n</body>\\n</html>\\n\\n\\n'"
      ]
     },
     "execution_count": 5,
     "metadata": {},
     "output_type": "execute_result"
    }
   ],
   "source": [
    "html"
   ]
  },
  {
   "cell_type": "code",
   "execution_count": 6,
   "id": "24646481",
   "metadata": {},
   "outputs": [
    {
     "data": {
      "text/plain": [
       "<!DOCTYPE html>\n",
       "\n",
       "<html lang=\"ko\">\n",
       "<head>\n",
       "<meta charset=\"utf-8\"/>\n",
       "<title>간단한 html</title>\n",
       "<style>\n",
       "\th1 { color: red; }\n",
       "\tp {color: green; }\n",
       "\t/* ul li {color: blue; } */\n",
       "\n",
       "\t/* class  */\n",
       "\t.animal {color: blue; }\n",
       "\t.fruit {color: orange; }\n",
       "\n",
       "\t/* id  */\n",
       "\t#cat {color:brown;}\n",
       "    \n",
       "    table, th, td {\n",
       "        border : 1px solid black;\n",
       "        border-collapse : collapse;\n",
       "    }\n",
       "    \n",
       "    #books b {\n",
       "        background-color: cyan;\n",
       "    }\n",
       "\n",
       "</style>\n",
       "</head>\n",
       "<body>\n",
       "<h1>header</h1>\n",
       "<p>This is a paragraph</p>\n",
       "<div>이것은 <br/> div 입니다</div>\n",
       "<ul>\n",
       "<li class=\"animal\">dog</li>\n",
       "<li class=\"animal\" id=\"cat\">cat</li>\n",
       "<li class=\"animal\">frog</li>\n",
       "<li class=\"animal\">this</li>\n",
       "</ul>\n",
       "<ul>\n",
       "<li class=\"fruit\">apple  </li> <!-- 일부러 공백 띄었다 -->\n",
       "<li class=\"fruit\">ba<b>nana</b></li>\n",
       "</ul>\n",
       "<ol>\n",
       "<li><a href=\"https://www.naver.com\" title=\"최고포탈\">네이버</a></li>\n",
       "<li><a href=\"https://www.daum.net\">daum</a></li>\n",
       "<li class=\"animal\">fish</li> <!-- 일부러 여기도 animal 을 넣었다 -->\n",
       "<!-- 일부러 a 가 없는 li 를 넣어보았다 -->\n",
       "</ol>\n",
       "<hr/>\n",
       "<table id=\"books\">\n",
       "<thead>\n",
       "<tr>\n",
       "<th>제목</th>\n",
       "<th>가격</th>\n",
       "</tr>\n",
       "</thead>\n",
       "<tbody>\n",
       "<tr>\n",
       "<td>1.이것이 파이썬이다</td>\n",
       "<td><b>[도서]</b> 19,200원</td>\n",
       "</tr>\n",
       "<tr>\n",
       "<td>2.저것도 파이썬이다</td>\n",
       "<td><b>[할인]</b> 12,800원</td>\n",
       "</tr>\n",
       "<tr>\n",
       "<td>3.그래도 파이썬인가?</td>\n",
       "<td><b>[중고]</b> 6,500원</td>\n",
       "</tr>\n",
       "</tbody>\n",
       "</table>\n",
       "</body>\n",
       "</html>"
      ]
     },
     "execution_count": 6,
     "metadata": {},
     "output_type": "execute_result"
    }
   ],
   "source": [
    "data =BeautifulSoup(html,'html.parser') #html 불러온것을 BeautifulSoup 사용해서 예쁘게 정리\n",
    "data"
   ]
  },
  {
   "cell_type": "code",
   "execution_count": 7,
   "id": "f065f929",
   "metadata": {},
   "outputs": [
    {
     "data": {
      "text/plain": [
       "bs4.BeautifulSoup"
      ]
     },
     "execution_count": 7,
     "metadata": {},
     "output_type": "execute_result"
    }
   ],
   "source": [
    "type(data) # 타입도 Beautifuldoup로 바뀐다"
   ]
  },
  {
   "cell_type": "code",
   "execution_count": 8,
   "id": "778dec9d",
   "metadata": {},
   "outputs": [
    {
     "data": {
      "text/plain": [
       "<h1>header</h1>"
      ]
     },
     "execution_count": 8,
     "metadata": {},
     "output_type": "execute_result"
    }
   ],
   "source": [
    "data.select_one('h1') # h1태그가 붙은 것 하나"
   ]
  },
  {
   "cell_type": "code",
   "execution_count": 9,
   "id": "03bb1e78",
   "metadata": {},
   "outputs": [
    {
     "data": {
      "text/plain": [
       "<li class=\"animal\">dog</li>"
      ]
     },
     "execution_count": 9,
     "metadata": {},
     "output_type": "execute_result"
    }
   ],
   "source": [
    "data.select_one('li') # li 태그가 여러개 있을 시 가장 처음의 element만 리턴"
   ]
  },
  {
   "cell_type": "code",
   "execution_count": 10,
   "id": "d73dde23",
   "metadata": {},
   "outputs": [],
   "source": [
    "data.select_one('.xxx') # 해당 selector 의 element 가 존재하지 않으면 None 리턴\n",
    "#오류는 발생하지 않는다"
   ]
  },
  {
   "cell_type": "code",
   "execution_count": 11,
   "id": "8126b9e5",
   "metadata": {},
   "outputs": [
    {
     "data": {
      "text/plain": [
       "[<li class=\"fruit\">apple  </li>, <li class=\"fruit\">ba<b>nana</b></li>]"
      ]
     },
     "execution_count": 11,
     "metadata": {},
     "output_type": "execute_result"
    }
   ],
   "source": [
    "data.select('.fruit') #class가 fruit인것들의 리스트 리턴\n",
    "#결과가 element(들)의 list 다."
   ]
  },
  {
   "cell_type": "code",
   "execution_count": 12,
   "id": "817b7fee",
   "metadata": {},
   "outputs": [
    {
     "data": {
      "text/plain": [
       "2"
      ]
     },
     "execution_count": 12,
     "metadata": {},
     "output_type": "execute_result"
    }
   ],
   "source": [
    "len(data.select('.fruit')) #len을 써서 해당 class가 몇개인지 확인 가능"
   ]
  },
  {
   "cell_type": "code",
   "execution_count": 13,
   "id": "6a8fdb62",
   "metadata": {},
   "outputs": [
    {
     "data": {
      "text/plain": [
       "<li class=\"fruit\">apple  </li>"
      ]
     },
     "execution_count": 13,
     "metadata": {},
     "output_type": "execute_result"
    }
   ],
   "source": [
    "data.select('.fruit')[0] # 리스트이니까 인덱싱을 통해 특정  element로 접근가능"
   ]
  },
  {
   "cell_type": "code",
   "execution_count": 14,
   "id": "689313a9",
   "metadata": {},
   "outputs": [
    {
     "data": {
      "text/plain": [
       "<li class=\"fruit\">ba<b>nana</b></li>"
      ]
     },
     "execution_count": 14,
     "metadata": {},
     "output_type": "execute_result"
    }
   ],
   "source": [
    "data.select('.fruit')[1] # 해당 element의 태그부터 text, 사이에 선언한 태그까지 모두 리턴"
   ]
  },
  {
   "cell_type": "code",
   "execution_count": 15,
   "id": "12172c2d",
   "metadata": {},
   "outputs": [
    {
     "data": {
      "text/plain": [
       "'apple  '"
      ]
     },
     "execution_count": 15,
     "metadata": {},
     "output_type": "execute_result"
    }
   ],
   "source": [
    "data.select('.fruit')[0].text #text만 불러오기 가능 하지만, 입력되어있는 공백도 같이 리턴"
   ]
  },
  {
   "cell_type": "code",
   "execution_count": 16,
   "id": "9ec44f5a",
   "metadata": {},
   "outputs": [
    {
     "data": {
      "text/plain": [
       "'apple'"
      ]
     },
     "execution_count": 16,
     "metadata": {},
     "output_type": "execute_result"
    }
   ],
   "source": [
    "data.select('.fruit')[0].text.strip() \n",
    "# 따라서, 일반적으로 웹 텍스트 데이터를 크롤링할때는 좌우 공백을 제거하는 것이 좋다"
   ]
  },
  {
   "cell_type": "code",
   "execution_count": 17,
   "id": "316381d6",
   "metadata": {},
   "outputs": [
    {
     "data": {
      "text/plain": [
       "'banana'"
      ]
     },
     "execution_count": 17,
     "metadata": {},
     "output_type": "execute_result"
    }
   ],
   "source": [
    "data.select('.fruit')[1].text \n",
    "#text를 크롤링하면 공백은 그대로 나왔지만 사이에 작성된 태그는 리턴하지 않음"
   ]
  },
  {
   "cell_type": "code",
   "execution_count": 18,
   "id": "d44b1960",
   "metadata": {},
   "outputs": [
    {
     "data": {
      "text/plain": [
       "'\\ndog\\ncat\\nfrog\\nthis\\n'"
      ]
     },
     "execution_count": 18,
     "metadata": {},
     "output_type": "execute_result"
    }
   ],
   "source": [
    "data.select_one('ul').text \n",
    "# 여러 엘리먼트가 포함된 ul의 텍스트만 크롤링하면 ul작성간 생략되어있는 \\n까지 전부\n",
    "# text에 드러난다."
   ]
  },
  {
   "cell_type": "code",
   "execution_count": 19,
   "id": "8d58f6c7",
   "metadata": {},
   "outputs": [
    {
     "data": {
      "text/plain": [
       "['apple', 'banana']"
      ]
     },
     "execution_count": 19,
     "metadata": {},
     "output_type": "execute_result"
    }
   ],
   "source": [
    "result=[]\n",
    "for element in data.select('.fruit'):\n",
    "    result.append(element.text.strip())  \n",
    "    \n",
    "    #fruit의 text를 보는데 태그는 보기싫고 좌우 공백을 동시에 날리고 싶으면\n",
    "    #반복문을 사용하여 fruit을 선택하고 처리하는 것을 처리하는 반복문을 사용\n",
    "    \n",
    "result"
   ]
  },
  {
   "cell_type": "code",
   "execution_count": 20,
   "id": "36e2b337",
   "metadata": {},
   "outputs": [
    {
     "data": {
      "text/plain": [
       "['apple', 'banana']"
      ]
     },
     "execution_count": 20,
     "metadata": {},
     "output_type": "execute_result"
    }
   ],
   "source": [
    "[element.text.strip() for element in data.select('.fruit')]\n",
    "#위와 동일 "
   ]
  },
  {
   "cell_type": "code",
   "execution_count": 21,
   "id": "7d29ec18",
   "metadata": {},
   "outputs": [],
   "source": [
    "# 연습: 도전!\n",
    "# animal 에 대한 리스트도 뽑아보세요\n",
    "# 결과 --> ['dog', 'cat', 'frog', 'this']"
   ]
  },
  {
   "cell_type": "code",
   "execution_count": 22,
   "id": "468e5ae3",
   "metadata": {},
   "outputs": [
    {
     "data": {
      "text/plain": [
       "['dog', 'cat', 'frog', 'this']"
      ]
     },
     "execution_count": 22,
     "metadata": {},
     "output_type": "execute_result"
    }
   ],
   "source": [
    "[element.text.strip() for element in data.select('ul > .animal ')]\n",
    "#html을 보면 내가 출력하고자 하는 리스트에는 'fish'가없는 4가지 값으로 이루어져 있다.\n",
    "#fish는 밑의 ol 의 li 에서 같은 class=animal 값을 가지고 있는데\n",
    "#select문 안에 .animal만 집어 넣을 경유 모든 animal을 리스트로 불러오기 때문에\n",
    "#ul 안의 animal만 불러오게 따로 지정해주어야 한다.\n",
    "#이를 위하여 (ul > .animal) or( ul .animal) 을 select문안에 집어 넣는다."
   ]
  },
  {
   "cell_type": "code",
   "execution_count": 23,
   "id": "45bd973b",
   "metadata": {},
   "outputs": [],
   "source": [
    "# 결과예)\n",
    "\n",
    "# [\n",
    "#     {\n",
    "#         url: \"http://www.naver.com\",\n",
    "#         link: \"네이버\"\n",
    "#     },\n",
    "#     {\n",
    "#         url: \"http://www.daum.net\",\n",
    "#         link: \"daum\"\n",
    "#     },\n",
    "# ]"
   ]
  },
  {
   "cell_type": "code",
   "execution_count": 24,
   "id": "3be7cf94",
   "metadata": {},
   "outputs": [
    {
     "data": {
      "text/plain": [
       "['네이버', 'daum']"
      ]
     },
     "execution_count": 24,
     "metadata": {},
     "output_type": "execute_result"
    }
   ],
   "source": [
    "[element.text.strip() for element in data.select('ol > li > a ')]"
   ]
  },
  {
   "cell_type": "code",
   "execution_count": 25,
   "id": "9b87c4e5",
   "metadata": {},
   "outputs": [
    {
     "data": {
      "text/plain": [
       "[{'url': 'https://www.naver.com', 'link': '네이버'},\n",
       " {'url': 'https://www.daum.net', 'link': 'daum'}]"
      ]
     },
     "execution_count": 25,
     "metadata": {},
     "output_type": "execute_result"
    }
   ],
   "source": [
    "[\n",
    "    {\n",
    "        'url': element.attrs['href'].strip(),\n",
    "        'link': element.text.strip()\n",
    "    }\n",
    "    for element in data.select('ol > li > a ')\n",
    "]"
   ]
  },
  {
   "cell_type": "code",
   "execution_count": 26,
   "id": "8df3f2d4",
   "metadata": {},
   "outputs": [],
   "source": [
    "#위의 경우에는 리스트안의 내용을 딧셔너리로 받아와야한다.\n",
    "#그래서 딕셔너리 변수이름을 선언해주고 각각 text와 href를 선언해준다.\n",
    "#href는 a 태그 안에 href로 선언되어 있기 때문에 attrs에 'href'로 인덱싱 해준다."
   ]
  },
  {
   "cell_type": "code",
   "execution_count": 27,
   "id": "63b845c8",
   "metadata": {},
   "outputs": [
    {
     "data": {
      "text/plain": [
       "\"\\n<결과 예시>\\n[{'제목': '이것이 파이썬이다', '가격': '[도서] 19,200원'},\\n {'제목': '저것도 파이썬이다', '가격': '[할인] 12,800원'},\\n {'제목': '그래도 파이썬인가?', '가격': '[중고] 6,500원'}]\\n\""
      ]
     },
     "execution_count": 27,
     "metadata": {},
     "output_type": "execute_result"
    }
   ],
   "source": [
    "\"\"\"\n",
    "<결과 예시>\n",
    "[{'제목': '이것이 파이썬이다', '가격': '[도서] 19,200원'},\n",
    " {'제목': '저것도 파이썬이다', '가격': '[할인] 12,800원'},\n",
    " {'제목': '그래도 파이썬인가?', '가격': '[중고] 6,500원'}]\n",
    "\"\"\""
   ]
  },
  {
   "cell_type": "code",
   "execution_count": 28,
   "id": "31032280",
   "metadata": {},
   "outputs": [],
   "source": [
    "#내가 한거"
   ]
  },
  {
   "cell_type": "code",
   "execution_count": 29,
   "id": "ca1d93c8",
   "metadata": {},
   "outputs": [
    {
     "data": {
      "text/plain": [
       "[{'제목': '제목\\n가격', '가격': ''},\n",
       " {'제목': '1.이것이 파이썬이다', '가격': '[도서] 19,200원'},\n",
       " {'제목': '2.저것도 파이썬이다', '가격': '[할인] 12,800원'},\n",
       " {'제목': '3.그래도 파이썬인가?', '가격': '[중고] 6,500원'}]"
      ]
     },
     "execution_count": 29,
     "metadata": {},
     "output_type": "execute_result"
    }
   ],
   "source": [
    "[\n",
    "    {\n",
    "        '제목':item.text[:13].strip(),\n",
    "        '가격':item.text[13:].strip(),\n",
    "    }\n",
    "    for item in data.select(\"tr\")\n",
    "]"
   ]
  },
  {
   "cell_type": "code",
   "execution_count": null,
   "id": "b5745cd1",
   "metadata": {},
   "outputs": [],
   "source": [
    "#올바른 정답"
   ]
  },
  {
   "cell_type": "code",
   "execution_count": null,
   "id": "2fcd5316",
   "metadata": {},
   "outputs": [],
   "source": [
    "[\n",
    "    {\n",
    "        \"제목\": element.select(\"td\")[0].text.strip(),\n",
    "        \"가격\": element.select(\"td\")[1].text.strip()\n",
    "    }\n",
    "    for element in row_elements\n",
    "    if element.select_one(\"td\")\n",
    "]"
   ]
  },
  {
   "cell_type": "code",
   "execution_count": null,
   "id": "63fb29b7",
   "metadata": {},
   "outputs": [],
   "source": [
    "# 첫번째 td 두번째 td를 반복하기 떄문에 td를 불러서 인덱싱을 확인해야한다"
   ]
  },
  {
   "cell_type": "code",
   "execution_count": null,
   "id": "50d3a210",
   "metadata": {},
   "outputs": [],
   "source": [
    "# 가격 앞의 [도서], [할인]... 제거하려면?"
   ]
  },
  {
   "cell_type": "code",
   "execution_count": 31,
   "id": "00629888",
   "metadata": {},
   "outputs": [
    {
     "data": {
      "text/plain": [
       "[{'제목': '1.이것이 파이썬이다', '가격': 19200},\n",
       " {'제목': '2.저것도 파이썬이다', '가격': 12800},\n",
       " {'제목': '3.그래도 파이썬인가?', '가격': 6500}]"
      ]
     },
     "execution_count": 31,
     "metadata": {},
     "output_type": "execute_result"
    }
   ],
   "source": [
    "data= BeautifulSoup(html,'html.parser')\n",
    "row_elements =data.select_one('#books').select('tr') #book class의 tr 선택\n",
    "\n",
    "result=[]\n",
    "\n",
    "for row in row_elements:\n",
    "    if row.select_one('td'): \n",
    "        \n",
    "        price_element = row.select_one('td:nth-child(2)') #td의 두번쩨 chiled element\n",
    "        price_element.select_one('b').decompose()  # <b> element 삭제됨\n",
    "        \n",
    "        item= {\n",
    "            '제목' : row.select_one('td:first-child').text.strip(),\n",
    "            '가격' : int(price_element.text.strip().replace(',','')[:-1])  #,과 ''를 지우고 처음부터 끝까지 공백제거 하고 정수 반환\n",
    "        }\n",
    "        \n",
    "        result.append(item)\n",
    "        \n",
    "result"
   ]
  },
  {
   "cell_type": "code",
   "execution_count": 32,
   "id": "fd883589",
   "metadata": {},
   "outputs": [
    {
     "data": {
      "text/html": [
       "<div>\n",
       "<style scoped>\n",
       "    .dataframe tbody tr th:only-of-type {\n",
       "        vertical-align: middle;\n",
       "    }\n",
       "\n",
       "    .dataframe tbody tr th {\n",
       "        vertical-align: top;\n",
       "    }\n",
       "\n",
       "    .dataframe thead th {\n",
       "        text-align: right;\n",
       "    }\n",
       "</style>\n",
       "<table border=\"1\" class=\"dataframe\">\n",
       "  <thead>\n",
       "    <tr style=\"text-align: right;\">\n",
       "      <th></th>\n",
       "      <th>제목</th>\n",
       "      <th>가격</th>\n",
       "    </tr>\n",
       "  </thead>\n",
       "  <tbody>\n",
       "    <tr>\n",
       "      <th>0</th>\n",
       "      <td>1.이것이 파이썬이다</td>\n",
       "      <td>19200</td>\n",
       "    </tr>\n",
       "    <tr>\n",
       "      <th>1</th>\n",
       "      <td>2.저것도 파이썬이다</td>\n",
       "      <td>12800</td>\n",
       "    </tr>\n",
       "    <tr>\n",
       "      <th>2</th>\n",
       "      <td>3.그래도 파이썬인가?</td>\n",
       "      <td>6500</td>\n",
       "    </tr>\n",
       "  </tbody>\n",
       "</table>\n",
       "</div>"
      ],
      "text/plain": [
       "             제목     가격\n",
       "0   1.이것이 파이썬이다  19200\n",
       "1   2.저것도 파이썬이다  12800\n",
       "2  3.그래도 파이썬인가?   6500"
      ]
     },
     "execution_count": 32,
     "metadata": {},
     "output_type": "execute_result"
    }
   ],
   "source": [
    "import pandas as pd\n",
    "pd.DataFrame(result)"
   ]
  },
  {
   "cell_type": "code",
   "execution_count": null,
   "id": "2dea67b4",
   "metadata": {},
   "outputs": [],
   "source": [
    "# 데이터 프레임으로도 만들 수 있다."
   ]
  },
  {
   "cell_type": "code",
   "execution_count": null,
   "id": "f89c090e",
   "metadata": {},
   "outputs": [],
   "source": []
  },
  {
   "cell_type": "code",
   "execution_count": null,
   "id": "d2b9250f",
   "metadata": {},
   "outputs": [],
   "source": []
  },
  {
   "cell_type": "code",
   "execution_count": null,
   "id": "655a9def",
   "metadata": {},
   "outputs": [],
   "source": []
  },
  {
   "cell_type": "code",
   "execution_count": null,
   "id": "8f2d0fde",
   "metadata": {},
   "outputs": [],
   "source": []
  },
  {
   "cell_type": "code",
   "execution_count": null,
   "id": "8a436997",
   "metadata": {},
   "outputs": [],
   "source": []
  },
  {
   "cell_type": "code",
   "execution_count": null,
   "id": "c6f9da35",
   "metadata": {},
   "outputs": [],
   "source": []
  },
  {
   "cell_type": "code",
   "execution_count": null,
   "id": "c41482e5",
   "metadata": {},
   "outputs": [],
   "source": []
  },
  {
   "cell_type": "code",
   "execution_count": null,
   "id": "a9bd8949",
   "metadata": {},
   "outputs": [],
   "source": []
  },
  {
   "cell_type": "code",
   "execution_count": null,
   "id": "0e45e45a",
   "metadata": {},
   "outputs": [],
   "source": []
  },
  {
   "cell_type": "code",
   "execution_count": null,
   "id": "05b51ea7",
   "metadata": {},
   "outputs": [],
   "source": []
  },
  {
   "cell_type": "code",
   "execution_count": null,
   "id": "c5386738",
   "metadata": {},
   "outputs": [],
   "source": []
  },
  {
   "cell_type": "code",
   "execution_count": null,
   "id": "c96ee4b7",
   "metadata": {},
   "outputs": [],
   "source": []
  },
  {
   "cell_type": "code",
   "execution_count": null,
   "id": "5cc4ae83",
   "metadata": {},
   "outputs": [],
   "source": []
  },
  {
   "cell_type": "code",
   "execution_count": null,
   "id": "1b3c83d2",
   "metadata": {},
   "outputs": [],
   "source": []
  },
  {
   "cell_type": "code",
   "execution_count": null,
   "id": "fc3dfc0a",
   "metadata": {},
   "outputs": [],
   "source": []
  },
  {
   "cell_type": "code",
   "execution_count": null,
   "id": "7c5d052a",
   "metadata": {},
   "outputs": [],
   "source": []
  },
  {
   "cell_type": "code",
   "execution_count": null,
   "id": "9ea50541",
   "metadata": {},
   "outputs": [],
   "source": []
  },
  {
   "cell_type": "code",
   "execution_count": null,
   "id": "bdf6bbef",
   "metadata": {},
   "outputs": [],
   "source": []
  },
  {
   "cell_type": "code",
   "execution_count": null,
   "id": "38579164",
   "metadata": {},
   "outputs": [],
   "source": []
  },
  {
   "cell_type": "code",
   "execution_count": null,
   "id": "a419a8d8",
   "metadata": {},
   "outputs": [],
   "source": []
  },
  {
   "cell_type": "code",
   "execution_count": null,
   "id": "3b578847",
   "metadata": {},
   "outputs": [],
   "source": []
  },
  {
   "cell_type": "code",
   "execution_count": null,
   "id": "6f20825f",
   "metadata": {},
   "outputs": [],
   "source": []
  },
  {
   "cell_type": "code",
   "execution_count": null,
   "id": "b4b16264",
   "metadata": {},
   "outputs": [],
   "source": []
  },
  {
   "cell_type": "code",
   "execution_count": null,
   "id": "df8d7369",
   "metadata": {},
   "outputs": [],
   "source": []
  },
  {
   "cell_type": "code",
   "execution_count": null,
   "id": "039da499",
   "metadata": {},
   "outputs": [],
   "source": []
  },
  {
   "cell_type": "code",
   "execution_count": null,
   "id": "13d72b5b",
   "metadata": {},
   "outputs": [],
   "source": []
  },
  {
   "cell_type": "code",
   "execution_count": null,
   "id": "5cc126c3",
   "metadata": {},
   "outputs": [],
   "source": []
  },
  {
   "cell_type": "code",
   "execution_count": null,
   "id": "66dad89f",
   "metadata": {},
   "outputs": [],
   "source": []
  },
  {
   "cell_type": "code",
   "execution_count": null,
   "id": "b43d2911",
   "metadata": {},
   "outputs": [],
   "source": []
  },
  {
   "cell_type": "code",
   "execution_count": null,
   "id": "a7b749fd",
   "metadata": {},
   "outputs": [],
   "source": []
  }
 ],
 "metadata": {
  "kernelspec": {
   "display_name": "Python 3 (ipykernel)",
   "language": "python",
   "name": "python3"
  },
  "language_info": {
   "codemirror_mode": {
    "name": "ipython",
    "version": 3
   },
   "file_extension": ".py",
   "mimetype": "text/x-python",
   "name": "python",
   "nbconvert_exporter": "python",
   "pygments_lexer": "ipython3",
   "version": "3.9.12"
  }
 },
 "nbformat": 4,
 "nbformat_minor": 5
}
