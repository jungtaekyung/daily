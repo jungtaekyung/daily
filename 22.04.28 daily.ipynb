{
 "cells": [
  {
   "cell_type": "markdown",
   "id": "66e295a5",
   "metadata": {},
   "source": [
    "# bank client data:  은행고객 데이터\n",
    "\n",
    "나이, 직업, 결혼여부, 교육수준, 파산여부, 주택대출여부, 개인대출여부\n",
    "\n",
    "1 - age (numeric)<br>\n",
    "2 - job : type of job (categorical: 'admin.','blue-collar','entrepreneur','housemaid','management','retired','self-employed','services','student','technician','unemployed','unknown')<br>\n",
    "3 - marital : marital status (categorical: 'divorced','married','single','unknown'; note: 'divorced' means divorced or widowed)<br>\n",
    "4 - education (categorical: 'basic.4y','basic.6y','basic.9y','high.school','illiterate','professional.course','university.degree','unknown')<br>\n",
    "5 - default: has credit in default? (categorical: 'no','yes','unknown')<br>\n",
    "6 - housing: has housing loan? (categorical: 'no','yes','unknown')<br>\n",
    "7 - loan: has personal loan? (categorical: 'no','yes','unknown')<br>\n",
    "\n",
    "# related with the last contact of the current campaign:\n",
    "\n",
    "캠페인의 마지막 컨택 관련 데이터\n",
    "\n",
    "컨택한기기 타입 / 컨택한 월 / 컨택한 요일 / 통화시간\n",
    "\n",
    "\n",
    "8 - contact: contact communication type (categorical: 'cellular','telephone') <br>\n",
    "9 - month: last contact month of year (categorical: 'jan', 'feb', 'mar', ..., 'nov', 'dec')<br>\n",
    "10 - day_of_week: last contact day of the week (categorical: 'mon','tue','wed','thu','fri')<br>\n",
    "11 - duration: last contact duration, in seconds (numeric). <br>\n",
    "# other attributes:\n",
    "\n",
    "이번 캠페인에서 몇번이나 컨택 되었는지 / 이후 몇일 지났는지 / 이전 캠페인에서 몇번이나 컨택되었는지 / \n",
    "\n",
    "\n",
    "12 - campaign: number of contacts performed during this campaign and for this client (numeric, includes last contact)<br>\n",
    "13 - pdays: number of days that passed by after the client was last contacted from a previous campaign (numeric; 999 means client was not previously contacted)<br>\n",
    "14 - previous: number of contacts performed before this campaign and for this client (numeric)<br>\n",
    "15 - poutcome: outcome of the previous marketing campaign (categorical: 'failure','nonexistent','success')<br>\n",
    "# social and economic context attributes\n",
    "\n",
    "사회 경제적 속성 데이터\n",
    "\n",
    "고용변동률 , 소비자물가지수, 소비자신뢰지수, 유리보3개월금리, 취업자수\n",
    "\n",
    "\n",
    "16 - emp.var.rate: employment variation rate - quarterly indicator (numeric)<br>\n",
    "17 - cons.price.idx: consumer price index - monthly indicator (numeric) <br>\n",
    "18 - cons.conf.idx: consumer confidence index - monthly indicator (numeric) <br>\n",
    "19 - euribor3m: euribor 3 month rate - daily indicator (numeric)<br>\n",
    "20 - nr.employed: number of employees - quarterly indicator (numeric)<br>\n",
    "\n",
    "# Output variable:\n",
    "\n",
    "은행상품 가입여부\n",
    "\n",
    "21 - y - has the client subscribed a term deposit? (binary: 'yes','no')<br>\n",
    "\n"
   ]
  },
  {
   "cell_type": "code",
   "execution_count": 35,
   "id": "46a6f045",
   "metadata": {},
   "outputs": [],
   "source": [
    "import pandas as pd\n",
    "from pandas import Series\n",
    "from pandas import DataFrame\n",
    "import matplotlib.pyplot as plt\n",
    "import os\n",
    "import seaborn as sns"
   ]
  },
  {
   "cell_type": "code",
   "execution_count": 36,
   "id": "bed313b5",
   "metadata": {},
   "outputs": [],
   "source": [
    "# matplotlib 한글 폰트 출력코드\n",
    "# 출처 : 데이터공방( https://kiddwannabe.blog.me)\n",
    "\n",
    "import matplotlib\n",
    "from matplotlib import font_manager, rc\n",
    "import platform\n",
    "\n",
    "try : \n",
    "    if platform.system() == 'Windows':\n",
    "    # 윈도우인 경우\n",
    "        font_name = font_manager.FontProperties(fname=\"c:/Windows/Fonts/malgun.ttf\").get_name()\n",
    "        rc('font', family=font_name)\n",
    "    else:    \n",
    "    # Mac 인 경우\n",
    "        rc('font', family='AppleGothic')\n",
    "except : \n",
    "    pass\n",
    "matplotlib.rcParams['axes.unicode_minus'] = False   "
   ]
  },
  {
   "cell_type": "code",
   "execution_count": 37,
   "id": "5e339f7a",
   "metadata": {},
   "outputs": [
    {
     "data": {
      "text/html": [
       "<div>\n",
       "<style scoped>\n",
       "    .dataframe tbody tr th:only-of-type {\n",
       "        vertical-align: middle;\n",
       "    }\n",
       "\n",
       "    .dataframe tbody tr th {\n",
       "        vertical-align: top;\n",
       "    }\n",
       "\n",
       "    .dataframe thead th {\n",
       "        text-align: right;\n",
       "    }\n",
       "</style>\n",
       "<table border=\"1\" class=\"dataframe\">\n",
       "  <thead>\n",
       "    <tr style=\"text-align: right;\">\n",
       "      <th></th>\n",
       "      <th>age</th>\n",
       "      <th>job</th>\n",
       "      <th>marital</th>\n",
       "      <th>education</th>\n",
       "      <th>default</th>\n",
       "      <th>housing</th>\n",
       "      <th>loan</th>\n",
       "      <th>contact</th>\n",
       "      <th>month</th>\n",
       "      <th>day_of_week</th>\n",
       "      <th>...</th>\n",
       "      <th>campaign</th>\n",
       "      <th>pdays</th>\n",
       "      <th>previous</th>\n",
       "      <th>poutcome</th>\n",
       "      <th>emp.var.rate</th>\n",
       "      <th>cons.price.idx</th>\n",
       "      <th>cons.conf.idx</th>\n",
       "      <th>euribor3m</th>\n",
       "      <th>nr.employed</th>\n",
       "      <th>y</th>\n",
       "    </tr>\n",
       "  </thead>\n",
       "  <tbody>\n",
       "    <tr>\n",
       "      <th>0</th>\n",
       "      <td>56</td>\n",
       "      <td>housemaid</td>\n",
       "      <td>married</td>\n",
       "      <td>basic.4y</td>\n",
       "      <td>no</td>\n",
       "      <td>no</td>\n",
       "      <td>no</td>\n",
       "      <td>telephone</td>\n",
       "      <td>may</td>\n",
       "      <td>mon</td>\n",
       "      <td>...</td>\n",
       "      <td>1</td>\n",
       "      <td>999</td>\n",
       "      <td>0</td>\n",
       "      <td>nonexistent</td>\n",
       "      <td>1.1</td>\n",
       "      <td>93.994</td>\n",
       "      <td>-36.4</td>\n",
       "      <td>4.857</td>\n",
       "      <td>5191.0</td>\n",
       "      <td>no</td>\n",
       "    </tr>\n",
       "    <tr>\n",
       "      <th>1</th>\n",
       "      <td>57</td>\n",
       "      <td>services</td>\n",
       "      <td>married</td>\n",
       "      <td>high.school</td>\n",
       "      <td>unknown</td>\n",
       "      <td>no</td>\n",
       "      <td>no</td>\n",
       "      <td>telephone</td>\n",
       "      <td>may</td>\n",
       "      <td>mon</td>\n",
       "      <td>...</td>\n",
       "      <td>1</td>\n",
       "      <td>999</td>\n",
       "      <td>0</td>\n",
       "      <td>nonexistent</td>\n",
       "      <td>1.1</td>\n",
       "      <td>93.994</td>\n",
       "      <td>-36.4</td>\n",
       "      <td>4.857</td>\n",
       "      <td>5191.0</td>\n",
       "      <td>no</td>\n",
       "    </tr>\n",
       "    <tr>\n",
       "      <th>2</th>\n",
       "      <td>37</td>\n",
       "      <td>services</td>\n",
       "      <td>married</td>\n",
       "      <td>high.school</td>\n",
       "      <td>no</td>\n",
       "      <td>yes</td>\n",
       "      <td>no</td>\n",
       "      <td>telephone</td>\n",
       "      <td>may</td>\n",
       "      <td>mon</td>\n",
       "      <td>...</td>\n",
       "      <td>1</td>\n",
       "      <td>999</td>\n",
       "      <td>0</td>\n",
       "      <td>nonexistent</td>\n",
       "      <td>1.1</td>\n",
       "      <td>93.994</td>\n",
       "      <td>-36.4</td>\n",
       "      <td>4.857</td>\n",
       "      <td>5191.0</td>\n",
       "      <td>no</td>\n",
       "    </tr>\n",
       "    <tr>\n",
       "      <th>3</th>\n",
       "      <td>40</td>\n",
       "      <td>admin.</td>\n",
       "      <td>married</td>\n",
       "      <td>basic.6y</td>\n",
       "      <td>no</td>\n",
       "      <td>no</td>\n",
       "      <td>no</td>\n",
       "      <td>telephone</td>\n",
       "      <td>may</td>\n",
       "      <td>mon</td>\n",
       "      <td>...</td>\n",
       "      <td>1</td>\n",
       "      <td>999</td>\n",
       "      <td>0</td>\n",
       "      <td>nonexistent</td>\n",
       "      <td>1.1</td>\n",
       "      <td>93.994</td>\n",
       "      <td>-36.4</td>\n",
       "      <td>4.857</td>\n",
       "      <td>5191.0</td>\n",
       "      <td>no</td>\n",
       "    </tr>\n",
       "    <tr>\n",
       "      <th>4</th>\n",
       "      <td>56</td>\n",
       "      <td>services</td>\n",
       "      <td>married</td>\n",
       "      <td>high.school</td>\n",
       "      <td>no</td>\n",
       "      <td>no</td>\n",
       "      <td>yes</td>\n",
       "      <td>telephone</td>\n",
       "      <td>may</td>\n",
       "      <td>mon</td>\n",
       "      <td>...</td>\n",
       "      <td>1</td>\n",
       "      <td>999</td>\n",
       "      <td>0</td>\n",
       "      <td>nonexistent</td>\n",
       "      <td>1.1</td>\n",
       "      <td>93.994</td>\n",
       "      <td>-36.4</td>\n",
       "      <td>4.857</td>\n",
       "      <td>5191.0</td>\n",
       "      <td>no</td>\n",
       "    </tr>\n",
       "  </tbody>\n",
       "</table>\n",
       "<p>5 rows × 21 columns</p>\n",
       "</div>"
      ],
      "text/plain": [
       "   age        job  marital    education  default housing loan    contact  \\\n",
       "0   56  housemaid  married     basic.4y       no      no   no  telephone   \n",
       "1   57   services  married  high.school  unknown      no   no  telephone   \n",
       "2   37   services  married  high.school       no     yes   no  telephone   \n",
       "3   40     admin.  married     basic.6y       no      no   no  telephone   \n",
       "4   56   services  married  high.school       no      no  yes  telephone   \n",
       "\n",
       "  month day_of_week  ...  campaign  pdays  previous     poutcome emp.var.rate  \\\n",
       "0   may         mon  ...         1    999         0  nonexistent          1.1   \n",
       "1   may         mon  ...         1    999         0  nonexistent          1.1   \n",
       "2   may         mon  ...         1    999         0  nonexistent          1.1   \n",
       "3   may         mon  ...         1    999         0  nonexistent          1.1   \n",
       "4   may         mon  ...         1    999         0  nonexistent          1.1   \n",
       "\n",
       "   cons.price.idx  cons.conf.idx  euribor3m  nr.employed   y  \n",
       "0          93.994          -36.4      4.857       5191.0  no  \n",
       "1          93.994          -36.4      4.857       5191.0  no  \n",
       "2          93.994          -36.4      4.857       5191.0  no  \n",
       "3          93.994          -36.4      4.857       5191.0  no  \n",
       "4          93.994          -36.4      4.857       5191.0  no  \n",
       "\n",
       "[5 rows x 21 columns]"
      ]
     },
     "execution_count": 37,
     "metadata": {},
     "output_type": "execute_result"
    }
   ],
   "source": [
    "filepath = os.path.join(r'C:\\DevRoot\\dataset','bank-additional-full.csv')\n",
    "df = pd.read_csv(filepath,sep=';')\n",
    "df.head()"
   ]
  },
  {
   "cell_type": "markdown",
   "id": "3b3f88a7",
   "metadata": {},
   "source": [
    "# 3_2. 나이(age) 구간별, 분포형태 시각화하기\n",
    "- 나이대별 히스토그램을 시각화하기"
   ]
  },
  {
   "cell_type": "code",
   "execution_count": 39,
   "id": "d43c891c",
   "metadata": {},
   "outputs": [],
   "source": [
    "#내가 한거"
   ]
  },
  {
   "cell_type": "code",
   "execution_count": 40,
   "id": "3c7b6016",
   "metadata": {},
   "outputs": [
    {
     "data": {
      "text/plain": [
       "<BarContainer object of 9 artists>"
      ]
     },
     "execution_count": 40,
     "metadata": {},
     "output_type": "execute_result"
    },
    {
     "data": {
      "image/png": "[encoded data removed]",
      "text/plain": [
       "<Figure size 432x288 with 1 Axes>"
      ]
     },
     "metadata": {
      "needs_background": "light"
     },
     "output_type": "display_data"
    }
   ],
   "source": [
    "def age_slice(age):\n",
    "    if age < 20:\n",
    "        return 10\n",
    "    elif age <30:\n",
    "        return 20\n",
    "    elif age <40:\n",
    "        return 30\n",
    "    elif age <50:\n",
    "        return 40\n",
    "    elif age <60:\n",
    "        return 50\n",
    "    elif age <70:\n",
    "        return 60\n",
    "    elif age <80:\n",
    "        return 70\n",
    "    elif age <90:\n",
    "        return 80\n",
    "    else:\n",
    "        return 90\n",
    "slice_age = df['age'].apply(age_slice)\n",
    "slice_age\n",
    "slice_age_ct = slice_age.value_counts()\n",
    "plt.bar(slice_age_ct.index,slice_age_ct)"
   ]
  },
  {
   "cell_type": "code",
   "execution_count": 41,
   "id": "11cbdd30",
   "metadata": {},
   "outputs": [],
   "source": [
    "# 강사님이 한거"
   ]
  },
  {
   "cell_type": "code",
   "execution_count": 42,
   "id": "41de6538",
   "metadata": {},
   "outputs": [
    {
     "data": {
      "text/plain": [
       "Text(0.5, 0, 'age')"
      ]
     },
     "execution_count": 42,
     "metadata": {},
     "output_type": "execute_result"
    },
    {
     "data": {
      "image/png": "[encoded data removed]",
      "text/plain": [
       "<Figure size 432x288 with 1 Axes>"
      ]
     },
     "metadata": {
      "needs_background": "light"
     },
     "output_type": "display_data"
    }
   ],
   "source": [
    "df['age'].plot.hist()\n",
    "plt.title('Histogram of df.age',fontsize=12)\n",
    "plt.xlabel(\"age\")\n",
    "# df['age'].plot.hist(bins=range(10, 101, 10), figsize=[15, 8])\n",
    "# plt.title('Histogram of df.age',fontsize=12)\n",
    "# plt.xlabel(\"age\")"
   ]
  },
  {
   "cell_type": "code",
   "execution_count": 43,
   "id": "e0dcfd55",
   "metadata": {},
   "outputs": [],
   "source": [
    "# 내가한거는 함수만들어서 나이대 나누고 (새로운 변수 추가시도)\n",
    "# 그에대한 카운트 값과 인덱스로\n",
    "# 강사님은 'age'변수에 대한 plot.hist를 써서 바로"
   ]
  },
  {
   "cell_type": "markdown",
   "id": "612e62c6",
   "metadata": {},
   "source": [
    "-----------------"
   ]
  },
  {
   "cell_type": "markdown",
   "id": "d51d0f10",
   "metadata": {},
   "source": [
    "# 3_3. 통화시간(duration) 분포 확인하기\n",
    "- 통화시간(duration) 을 histogram 시각화 하여 분포 확인하기\n",
    "- 오름차순 정렬\n",
    "- duration 의 범위값을 반영하여 histogram 의 bins 옵션을 주기 (100 단위로 구간 설정)"
   ]
  },
  {
   "cell_type": "code",
   "execution_count": 44,
   "id": "ae3578d6",
   "metadata": {},
   "outputs": [],
   "source": [
    "#내가한거"
   ]
  },
  {
   "cell_type": "code",
   "execution_count": 45,
   "id": "435b0f2e",
   "metadata": {},
   "outputs": [
    {
     "data": {
      "text/plain": [
       "<AxesSubplot:xlabel='duration', ylabel='Count'>"
      ]
     },
     "execution_count": 45,
     "metadata": {},
     "output_type": "execute_result"
    },
    {
     "data": {
      "image/png": "[encoded data removed]",
      "text/plain": [
       "<Figure size 432x288 with 1 Axes>"
      ]
     },
     "metadata": {
      "needs_background": "light"
     },
     "output_type": "display_data"
    }
   ],
   "source": [
    "sns.histplot(x='duration',data=df,bins=100)"
   ]
  },
  {
   "cell_type": "code",
   "execution_count": 46,
   "id": "0d43fcff",
   "metadata": {},
   "outputs": [],
   "source": [
    "#강사님이 한거"
   ]
  },
  {
   "cell_type": "code",
   "execution_count": 47,
   "id": "e179aa8c",
   "metadata": {},
   "outputs": [
    {
     "data": {
      "text/plain": [
       "Text(0.5, 0, '통화시간(duration)')"
      ]
     },
     "execution_count": 47,
     "metadata": {},
     "output_type": "execute_result"
    },
    {
     "data": {
      "image/png": "[encoded data removed]",
      "text/plain": [
       "<Figure size 720x432 with 1 Axes>"
      ]
     },
     "metadata": {
      "needs_background": "light"
     },
     "output_type": "display_data"
    }
   ],
   "source": [
    "df['duration'].plot.hist(bins=range(0, 5001, 100), figsize=[10, 6])\n",
    "plt.xticks(fontsize=15)\n",
    "plt.yticks(fontsize=15)\n",
    "plt.title('Histogram of df.duration',fontsize=16)\n",
    "plt.xlabel('통화시간(duration)', fontsize=16)"
   ]
  },
  {
   "cell_type": "code",
   "execution_count": 48,
   "id": "df38cfdb",
   "metadata": {},
   "outputs": [],
   "source": [
    "#디테일 하게 강사님은 들어갔다 bins로 좀더 완만하게 만들고 크기도 지정\n",
    "# label과 눈금 크기도 봐두자"
   ]
  },
  {
   "cell_type": "markdown",
   "id": "f82d5b4f",
   "metadata": {},
   "source": [
    "---------------------------------"
   ]
  },
  {
   "cell_type": "code",
   "execution_count": 49,
   "id": "582b99d8",
   "metadata": {},
   "outputs": [
    {
     "data": {
      "text/plain": [
       "<AxesSubplot:xlabel='marital', ylabel='Count'>"
      ]
     },
     "execution_count": 49,
     "metadata": {},
     "output_type": "execute_result"
    },
    {
     "data": {
      "image/png": "[encoded data removed]",
      "text/plain": [
       "<Figure size 432x288 with 1 Axes>"
      ]
     },
     "metadata": {
      "needs_background": "light"
     },
     "output_type": "display_data"
    }
   ],
   "source": [
    "sns.histplot(x='marital',data=df,bins=100)"
   ]
  },
  {
   "cell_type": "code",
   "execution_count": 50,
   "id": "ce693d83",
   "metadata": {},
   "outputs": [
    {
     "data": {
      "image/png": "[encoded data removed]",
      "text/plain": [
       "<Figure size 432x288 with 1 Axes>"
      ]
     },
     "metadata": {
      "needs_background": "light"
     },
     "output_type": "display_data"
    }
   ],
   "source": [
    "marital = df['marital'].value_counts()\n",
    "marital.plot.bar()\n",
    "plt.show()"
   ]
  },
  {
   "cell_type": "code",
   "execution_count": 51,
   "id": "00e780d8",
   "metadata": {},
   "outputs": [],
   "source": [
    "#나는 seaborn으로 강사님은 plt 로 "
   ]
  },
  {
   "cell_type": "markdown",
   "id": "57f54267",
   "metadata": {},
   "source": [
    "---------"
   ]
  },
  {
   "cell_type": "markdown",
   "id": "cd4f57e4",
   "metadata": {},
   "source": [
    "# 4_2. 교육수준에 따른 통계\n",
    "- 교육수준 (education) 에 따른 분포 시각화 하기\n",
    "- 오름차순"
   ]
  },
  {
   "cell_type": "code",
   "execution_count": 52,
   "id": "4f10be18",
   "metadata": {},
   "outputs": [],
   "source": [
    "#내가한거"
   ]
  },
  {
   "cell_type": "code",
   "execution_count": 53,
   "id": "63069e1c",
   "metadata": {},
   "outputs": [
    {
     "data": {
      "text/plain": [
       "<BarContainer object of 8 artists>"
      ]
     },
     "execution_count": 53,
     "metadata": {},
     "output_type": "execute_result"
    },
    {
     "data": {
      "image/png": "[encoded data removed]",
      "text/plain": [
       "<Figure size 432x288 with 1 Axes>"
      ]
     },
     "metadata": {
      "needs_background": "light"
     },
     "output_type": "display_data"
    }
   ],
   "source": [
    "edu = df['education'].sort_values().value_counts()\n",
    "edu.values\n",
    "plt.barh(edu.index,edu)"
   ]
  },
  {
   "cell_type": "code",
   "execution_count": 54,
   "id": "5eb852c3",
   "metadata": {},
   "outputs": [],
   "source": [
    "#강사님이한거"
   ]
  },
  {
   "cell_type": "code",
   "execution_count": 55,
   "id": "a134a91c",
   "metadata": {},
   "outputs": [
    {
     "data": {
      "text/plain": [
       "<AxesSubplot:>"
      ]
     },
     "execution_count": 55,
     "metadata": {},
     "output_type": "execute_result"
    },
    {
     "data": {
      "image/png": "[encoded data removed]",
      "text/plain": [
       "<Figure size 432x288 with 1 Axes>"
      ]
     },
     "metadata": {
      "needs_background": "light"
     },
     "output_type": "display_data"
    }
   ],
   "source": [
    "df['education'].value_counts().plot.barh()"
   ]
  },
  {
   "cell_type": "code",
   "execution_count": 56,
   "id": "017e7e8a",
   "metadata": {},
   "outputs": [],
   "source": [
    "#나는 education value를 sort시켜서 새로운 변수에 할당시킨다음 그리고\n",
    "#강사님은 value_counts를 바로 그림 \n",
    "# 그림 그릴때 sort가 자동으로 되는지? 확인?"
   ]
  },
  {
   "cell_type": "markdown",
   "id": "a4d704c8",
   "metadata": {},
   "source": [
    "---"
   ]
  },
  {
   "cell_type": "code",
   "execution_count": 57,
   "id": "51a9c16e",
   "metadata": {},
   "outputs": [],
   "source": [
    "### 가설 : \"대출이 있는 사람이라면 은행 상품에 잘 가입하지 않을 것이다.\""
   ]
  },
  {
   "cell_type": "markdown",
   "id": "f7465802",
   "metadata": {},
   "source": [
    "# 5_1. 가입여부('y') 에 따라 그룹 나누기\n",
    "- 가입한 그룹은 yes_group 에 저장하고 확인하기\n",
    "- 가입하지 않은 그룹은 no_group에 저장하고 확인하기"
   ]
  },
  {
   "cell_type": "markdown",
   "id": "36ae34bc",
   "metadata": {},
   "source": [
    "# 5_2 가설 검증하기\n",
    "- 위에서 나뉜 은행상품가입자 와 은행상품 비가입자 의 대출여부 (loan) 의 '비율'을 분석하여 결과를 예시와 같은 DataFrame 으로 작성하세요\n",
    "- 위 분석 결과에 따라 가설검증을 별도의 셀에 작성하세요 (주석으로 남기세요)"
   ]
  },
  {
   "cell_type": "code",
   "execution_count": 59,
   "id": "03e17a6d",
   "metadata": {},
   "outputs": [],
   "source": [
    "#내가 한거"
   ]
  },
  {
   "cell_type": "code",
   "execution_count": 60,
   "id": "8509b0e3",
   "metadata": {},
   "outputs": [],
   "source": [
    "yes_group = df[df['y']=='yes']\n",
    "no_group = df[df['y']=='no']"
   ]
  },
  {
   "cell_type": "code",
   "execution_count": 61,
   "id": "e163ded8",
   "metadata": {},
   "outputs": [],
   "source": [
    "yes_group_loan = yes_group.groupby('loan').count()['y']/yes_group.groupby('loan').count()['y'].sum()\n",
    "yes_group_loan = yes_group_loan.sort_values(ascending=False)"
   ]
  },
  {
   "cell_type": "code",
   "execution_count": 62,
   "id": "11dddc37",
   "metadata": {},
   "outputs": [],
   "source": [
    "no_group_loan = no_group.groupby('loan').count()['y'] / no_group.groupby('loan').count()['y'].sum()\n",
    "no_group_loan = no_group_loan.sort_values(ascending=False)"
   ]
  },
  {
   "cell_type": "code",
   "execution_count": 63,
   "id": "9bec7bcc",
   "metadata": {},
   "outputs": [
    {
     "data": {
      "text/html": [
       "<div>\n",
       "<style scoped>\n",
       "    .dataframe tbody tr th:only-of-type {\n",
       "        vertical-align: middle;\n",
       "    }\n",
       "\n",
       "    .dataframe tbody tr th {\n",
       "        vertical-align: top;\n",
       "    }\n",
       "\n",
       "    .dataframe thead th {\n",
       "        text-align: right;\n",
       "    }\n",
       "</style>\n",
       "<table border=\"1\" class=\"dataframe\">\n",
       "  <thead>\n",
       "    <tr style=\"text-align: right;\">\n",
       "      <th></th>\n",
       "      <th>은행상품가입자</th>\n",
       "      <th>은행상품 비가입자</th>\n",
       "    </tr>\n",
       "  </thead>\n",
       "  <tbody>\n",
       "    <tr>\n",
       "      <th>대출없음</th>\n",
       "      <td>0.829741</td>\n",
       "      <td>0.823574</td>\n",
       "    </tr>\n",
       "    <tr>\n",
       "      <th>대출있음</th>\n",
       "      <td>0.147198</td>\n",
       "      <td>0.152266</td>\n",
       "    </tr>\n",
       "    <tr>\n",
       "      <th>미확인</th>\n",
       "      <td>0.023060</td>\n",
       "      <td>0.024160</td>\n",
       "    </tr>\n",
       "  </tbody>\n",
       "</table>\n",
       "</div>"
      ],
      "text/plain": [
       "       은행상품가입자  은행상품 비가입자\n",
       "대출없음  0.829741   0.823574\n",
       "대출있음  0.147198   0.152266\n",
       "미확인   0.023060   0.024160"
      ]
     },
     "execution_count": 63,
     "metadata": {},
     "output_type": "execute_result"
    }
   ],
   "source": [
    "cc = pd.concat([yes_group_loan,no_group_loan],axis=1)\n",
    "cc.columns = ['은행상품가입자','은행상품 비가입자']\n",
    "cc.index = ['대출없음','대출있음','미확인']\n",
    "cc"
   ]
  },
  {
   "cell_type": "code",
   "execution_count": 64,
   "id": "f3a74d2e",
   "metadata": {},
   "outputs": [],
   "source": [
    "#강사님이 한거"
   ]
  },
  {
   "cell_type": "code",
   "execution_count": 65,
   "id": "e62c644a",
   "metadata": {},
   "outputs": [
    {
     "data": {
      "text/plain": [
       "y\n",
       "no     36548\n",
       "yes     4640\n",
       "dtype: int64"
      ]
     },
     "execution_count": 65,
     "metadata": {},
     "output_type": "execute_result"
    }
   ],
   "source": [
    "grouped = df.groupby('y')\n",
    "grouped.size()"
   ]
  },
  {
   "cell_type": "code",
   "execution_count": 66,
   "id": "05054e0a",
   "metadata": {},
   "outputs": [],
   "source": [
    "yes_group = grouped.get_group('yes')\n",
    "no_group = grouped.get_group('no')"
   ]
  },
  {
   "cell_type": "code",
   "execution_count": 67,
   "id": "99cf9ec7",
   "metadata": {},
   "outputs": [
    {
     "data": {
      "text/plain": [
       "no         3850\n",
       "yes         683\n",
       "unknown     107\n",
       "Name: loan, dtype: int64"
      ]
     },
     "execution_count": 67,
     "metadata": {},
     "output_type": "execute_result"
    }
   ],
   "source": [
    "yes = yes_group['loan'].value_counts()\n",
    "yes"
   ]
  },
  {
   "cell_type": "code",
   "execution_count": 68,
   "id": "5c8d4df2",
   "metadata": {},
   "outputs": [
    {
     "data": {
      "text/plain": [
       "no         30100\n",
       "yes         5565\n",
       "unknown      883\n",
       "Name: loan, dtype: int64"
      ]
     },
     "execution_count": 68,
     "metadata": {},
     "output_type": "execute_result"
    }
   ],
   "source": [
    "no = no_group['loan'].value_counts()\n",
    "no"
   ]
  },
  {
   "cell_type": "code",
   "execution_count": 69,
   "id": "2f67a756",
   "metadata": {},
   "outputs": [
    {
     "data": {
      "text/plain": [
       "no         0.829741\n",
       "yes        0.147198\n",
       "unknown    0.023060\n",
       "Name: loan, dtype: float64"
      ]
     },
     "execution_count": 69,
     "metadata": {},
     "output_type": "execute_result"
    }
   ],
   "source": [
    "yes = yes / yes.sum()\n",
    "yes"
   ]
  },
  {
   "cell_type": "code",
   "execution_count": 70,
   "id": "902812fe",
   "metadata": {},
   "outputs": [
    {
     "data": {
      "text/plain": [
       "no         0.823574\n",
       "yes        0.152266\n",
       "unknown    0.024160\n",
       "Name: loan, dtype: float64"
      ]
     },
     "execution_count": 70,
     "metadata": {},
     "output_type": "execute_result"
    }
   ],
   "source": [
    "no = no / no.sum()\n",
    "no"
   ]
  },
  {
   "cell_type": "code",
   "execution_count": 71,
   "id": "327802e9",
   "metadata": {},
   "outputs": [
    {
     "data": {
      "text/html": [
       "<div>\n",
       "<style scoped>\n",
       "    .dataframe tbody tr th:only-of-type {\n",
       "        vertical-align: middle;\n",
       "    }\n",
       "\n",
       "    .dataframe tbody tr th {\n",
       "        vertical-align: top;\n",
       "    }\n",
       "\n",
       "    .dataframe thead th {\n",
       "        text-align: right;\n",
       "    }\n",
       "</style>\n",
       "<table border=\"1\" class=\"dataframe\">\n",
       "  <thead>\n",
       "    <tr style=\"text-align: right;\">\n",
       "      <th></th>\n",
       "      <th>loan</th>\n",
       "      <th>loan</th>\n",
       "    </tr>\n",
       "  </thead>\n",
       "  <tbody>\n",
       "    <tr>\n",
       "      <th>no</th>\n",
       "      <td>0.829741</td>\n",
       "      <td>0.823574</td>\n",
       "    </tr>\n",
       "    <tr>\n",
       "      <th>yes</th>\n",
       "      <td>0.147198</td>\n",
       "      <td>0.152266</td>\n",
       "    </tr>\n",
       "    <tr>\n",
       "      <th>unknown</th>\n",
       "      <td>0.023060</td>\n",
       "      <td>0.024160</td>\n",
       "    </tr>\n",
       "  </tbody>\n",
       "</table>\n",
       "</div>"
      ],
      "text/plain": [
       "             loan      loan\n",
       "no       0.829741  0.823574\n",
       "yes      0.147198  0.152266\n",
       "unknown  0.023060  0.024160"
      ]
     },
     "execution_count": 71,
     "metadata": {},
     "output_type": "execute_result"
    }
   ],
   "source": [
    "pd.concat([yes, no], axis=1)"
   ]
  },
  {
   "cell_type": "code",
   "execution_count": 72,
   "id": "1d9be1fb",
   "metadata": {},
   "outputs": [
    {
     "data": {
      "text/html": [
       "<div>\n",
       "<style scoped>\n",
       "    .dataframe tbody tr th:only-of-type {\n",
       "        vertical-align: middle;\n",
       "    }\n",
       "\n",
       "    .dataframe tbody tr th {\n",
       "        vertical-align: top;\n",
       "    }\n",
       "\n",
       "    .dataframe thead th {\n",
       "        text-align: right;\n",
       "    }\n",
       "</style>\n",
       "<table border=\"1\" class=\"dataframe\">\n",
       "  <thead>\n",
       "    <tr style=\"text-align: right;\">\n",
       "      <th></th>\n",
       "      <th>은행상품가입자</th>\n",
       "      <th>은행상품 비가입자</th>\n",
       "    </tr>\n",
       "  </thead>\n",
       "  <tbody>\n",
       "    <tr>\n",
       "      <th>대출없슴</th>\n",
       "      <td>0.829741</td>\n",
       "      <td>0.823574</td>\n",
       "    </tr>\n",
       "    <tr>\n",
       "      <th>대출있슴</th>\n",
       "      <td>0.147198</td>\n",
       "      <td>0.152266</td>\n",
       "    </tr>\n",
       "    <tr>\n",
       "      <th>미확인</th>\n",
       "      <td>0.023060</td>\n",
       "      <td>0.024160</td>\n",
       "    </tr>\n",
       "  </tbody>\n",
       "</table>\n",
       "</div>"
      ],
      "text/plain": [
       "       은행상품가입자  은행상품 비가입자\n",
       "대출없슴  0.829741   0.823574\n",
       "대출있슴  0.147198   0.152266\n",
       "미확인   0.023060   0.024160"
      ]
     },
     "execution_count": 72,
     "metadata": {},
     "output_type": "execute_result"
    }
   ],
   "source": [
    "yes.name = '은행상품가입자'\n",
    "no.name = '은행상품 비가입자'\n",
    "\n",
    "result_df = pd.concat([yes, no], axis=1)\n",
    "\n",
    "result_df.index = ['대출없슴', '대출있슴', '미확인']\n",
    "\n",
    "result_df"
   ]
  },
  {
   "cell_type": "code",
   "execution_count": 73,
   "id": "5aed7b0c",
   "metadata": {},
   "outputs": [],
   "source": [
    "#나는 yes no를 마스크를 씌워서 구별 지은 후\n",
    "#각 groupby(['loan']데이터프레임의 count값에 \n",
    "#전체 sum을 나누어 비율을 만들고\n",
    "#concat으로 연결시킨다음 각 컬럼과 인덱스의 명을 바꾸어줌"
   ]
  },
  {
   "cell_type": "code",
   "execution_count": 74,
   "id": "4e3157b1",
   "metadata": {},
   "outputs": [],
   "source": [
    "#강사님은 'y'로 그룹 지은 다음 get_groups를 한것을 각 데이터 프레임으로만들고\n",
    "#value counts를 새로 또 할당하여\n",
    "# 복잡한게 안보이게 만들고 sum으로 나우어 비율 구함\n",
    "#그리고 각 비율이 들어간 데이터 프레임에 name 지정하여 열이름 만들고 \n",
    "#concat후 나랑 동일하게 index이름 변경"
   ]
  },
  {
   "cell_type": "markdown",
   "id": "dd30647d",
   "metadata": {},
   "source": [
    "----------------------------------------------------------"
   ]
  },
  {
   "cell_type": "markdown",
   "id": "d301a6af",
   "metadata": {},
   "source": [
    "# 6_1. 은행상품 가입여부 (‘y’) 에 따른 직업(job)별  ‘평균’ 나이(age) 를 pivot table 로 작성해보세요\n",
    "- 작성한 pivot table (은) pivot 이라는 변수에 담아두세요"
   ]
  },
  {
   "cell_type": "markdown",
   "id": "cfd17c52",
   "metadata": {},
   "source": [
    "# 6_2. 평균연령의 차이 분석해보기\n",
    "1. 위 결과 (pivot) 에서 \n",
    "    - **평균연령차 : 은행상품 가입자 평균연령 - 비가입자 평균연령**\n",
    "    - 위 평균연령 차를 계산하여 새로운 row 추가하기 (새 인덱스 : **diff**)\n",
    "1. diff 순으로 내림차순 정렬하기\n",
    "1. 분석결과를 result 변수에 담기 (DataFrame)\n",
    "1. 분석결과에 기반하여 마케팅 을 집중해야 할 그룹에 대한 견해를 별도의 셀에 남겨보세요"
   ]
  },
  {
   "cell_type": "code",
   "execution_count": 75,
   "id": "c2147473",
   "metadata": {},
   "outputs": [],
   "source": [
    "#내가한거`"
   ]
  },
  {
   "cell_type": "code",
   "execution_count": 76,
   "id": "e474963d",
   "metadata": {},
   "outputs": [
    {
     "data": {
      "text/html": [
       "<div>\n",
       "<style scoped>\n",
       "    .dataframe tbody tr th:only-of-type {\n",
       "        vertical-align: middle;\n",
       "    }\n",
       "\n",
       "    .dataframe tbody tr th {\n",
       "        vertical-align: top;\n",
       "    }\n",
       "\n",
       "    .dataframe thead th {\n",
       "        text-align: right;\n",
       "    }\n",
       "</style>\n",
       "<table border=\"1\" class=\"dataframe\">\n",
       "  <thead>\n",
       "    <tr style=\"text-align: right;\">\n",
       "      <th>job</th>\n",
       "      <th>admin.</th>\n",
       "      <th>blue-collar</th>\n",
       "      <th>entrepreneur</th>\n",
       "      <th>housemaid</th>\n",
       "      <th>management</th>\n",
       "      <th>retired</th>\n",
       "      <th>self-employed</th>\n",
       "      <th>services</th>\n",
       "      <th>student</th>\n",
       "      <th>technician</th>\n",
       "      <th>unemployed</th>\n",
       "      <th>unknown</th>\n",
       "    </tr>\n",
       "    <tr>\n",
       "      <th>y</th>\n",
       "      <th></th>\n",
       "      <th></th>\n",
       "      <th></th>\n",
       "      <th></th>\n",
       "      <th></th>\n",
       "      <th></th>\n",
       "      <th></th>\n",
       "      <th></th>\n",
       "      <th></th>\n",
       "      <th></th>\n",
       "      <th></th>\n",
       "      <th></th>\n",
       "    </tr>\n",
       "  </thead>\n",
       "  <tbody>\n",
       "    <tr>\n",
       "      <th>no</th>\n",
       "      <td>38.219846</td>\n",
       "      <td>39.582057</td>\n",
       "      <td>41.703453</td>\n",
       "      <td>44.705451</td>\n",
       "      <td>42.309707</td>\n",
       "      <td>59.926128</td>\n",
       "      <td>40.176887</td>\n",
       "      <td>38.090236</td>\n",
       "      <td>26.396667</td>\n",
       "      <td>38.600033</td>\n",
       "      <td>39.844828</td>\n",
       "      <td>45.375427</td>\n",
       "    </tr>\n",
       "    <tr>\n",
       "      <th>yes</th>\n",
       "      <td>37.968935</td>\n",
       "      <td>39.200627</td>\n",
       "      <td>41.935484</td>\n",
       "      <td>52.650943</td>\n",
       "      <td>42.783537</td>\n",
       "      <td>68.253456</td>\n",
       "      <td>38.006711</td>\n",
       "      <td>36.077399</td>\n",
       "      <td>24.800000</td>\n",
       "      <td>37.746575</td>\n",
       "      <td>39.062500</td>\n",
       "      <td>47.054054</td>\n",
       "    </tr>\n",
       "  </tbody>\n",
       "</table>\n",
       "</div>"
      ],
      "text/plain": [
       "job     admin.  blue-collar  entrepreneur  housemaid  management    retired  \\\n",
       "y                                                                             \n",
       "no   38.219846    39.582057     41.703453  44.705451   42.309707  59.926128   \n",
       "yes  37.968935    39.200627     41.935484  52.650943   42.783537  68.253456   \n",
       "\n",
       "job  self-employed   services    student  technician  unemployed    unknown  \n",
       "y                                                                            \n",
       "no       40.176887  38.090236  26.396667   38.600033   39.844828  45.375427  \n",
       "yes      38.006711  36.077399  24.800000   37.746575   39.062500  47.054054  "
      ]
     },
     "execution_count": 76,
     "metadata": {},
     "output_type": "execute_result"
    }
   ],
   "source": [
    "pivot = pd.pivot_table(df,values='age',index='y',columns='job',aggfunc='mean')\n",
    "pivot"
   ]
  },
  {
   "cell_type": "code",
   "execution_count": 77,
   "id": "1bcf1d4c",
   "metadata": {},
   "outputs": [
    {
     "data": {
      "text/html": [
       "<div>\n",
       "<style scoped>\n",
       "    .dataframe tbody tr th:only-of-type {\n",
       "        vertical-align: middle;\n",
       "    }\n",
       "\n",
       "    .dataframe tbody tr th {\n",
       "        vertical-align: top;\n",
       "    }\n",
       "\n",
       "    .dataframe thead th {\n",
       "        text-align: right;\n",
       "    }\n",
       "</style>\n",
       "<table border=\"1\" class=\"dataframe\">\n",
       "  <thead>\n",
       "    <tr style=\"text-align: right;\">\n",
       "      <th>job</th>\n",
       "      <th>retired</th>\n",
       "      <th>housemaid</th>\n",
       "      <th>unknown</th>\n",
       "      <th>management</th>\n",
       "      <th>entrepreneur</th>\n",
       "      <th>admin.</th>\n",
       "      <th>blue-collar</th>\n",
       "      <th>unemployed</th>\n",
       "      <th>technician</th>\n",
       "      <th>student</th>\n",
       "      <th>services</th>\n",
       "      <th>self-employed</th>\n",
       "    </tr>\n",
       "    <tr>\n",
       "      <th>y</th>\n",
       "      <th></th>\n",
       "      <th></th>\n",
       "      <th></th>\n",
       "      <th></th>\n",
       "      <th></th>\n",
       "      <th></th>\n",
       "      <th></th>\n",
       "      <th></th>\n",
       "      <th></th>\n",
       "      <th></th>\n",
       "      <th></th>\n",
       "      <th></th>\n",
       "    </tr>\n",
       "  </thead>\n",
       "  <tbody>\n",
       "    <tr>\n",
       "      <th>no</th>\n",
       "      <td>59.926128</td>\n",
       "      <td>44.705451</td>\n",
       "      <td>45.375427</td>\n",
       "      <td>42.309707</td>\n",
       "      <td>41.703453</td>\n",
       "      <td>38.219846</td>\n",
       "      <td>39.582057</td>\n",
       "      <td>39.844828</td>\n",
       "      <td>38.600033</td>\n",
       "      <td>26.396667</td>\n",
       "      <td>38.090236</td>\n",
       "      <td>40.176887</td>\n",
       "    </tr>\n",
       "    <tr>\n",
       "      <th>yes</th>\n",
       "      <td>68.253456</td>\n",
       "      <td>52.650943</td>\n",
       "      <td>47.054054</td>\n",
       "      <td>42.783537</td>\n",
       "      <td>41.935484</td>\n",
       "      <td>37.968935</td>\n",
       "      <td>39.200627</td>\n",
       "      <td>39.062500</td>\n",
       "      <td>37.746575</td>\n",
       "      <td>24.800000</td>\n",
       "      <td>36.077399</td>\n",
       "      <td>38.006711</td>\n",
       "    </tr>\n",
       "    <tr>\n",
       "      <th>diff</th>\n",
       "      <td>8.327329</td>\n",
       "      <td>7.945493</td>\n",
       "      <td>1.678627</td>\n",
       "      <td>0.473829</td>\n",
       "      <td>0.232030</td>\n",
       "      <td>-0.250911</td>\n",
       "      <td>-0.381430</td>\n",
       "      <td>-0.782328</td>\n",
       "      <td>-0.853458</td>\n",
       "      <td>-1.596667</td>\n",
       "      <td>-2.012836</td>\n",
       "      <td>-2.170175</td>\n",
       "    </tr>\n",
       "  </tbody>\n",
       "</table>\n",
       "</div>"
      ],
      "text/plain": [
       "job     retired  housemaid    unknown  management  entrepreneur     admin.  \\\n",
       "y                                                                            \n",
       "no    59.926128  44.705451  45.375427   42.309707     41.703453  38.219846   \n",
       "yes   68.253456  52.650943  47.054054   42.783537     41.935484  37.968935   \n",
       "diff   8.327329   7.945493   1.678627    0.473829      0.232030  -0.250911   \n",
       "\n",
       "job   blue-collar  unemployed  technician    student   services  self-employed  \n",
       "y                                                                               \n",
       "no      39.582057   39.844828   38.600033  26.396667  38.090236      40.176887  \n",
       "yes     39.200627   39.062500   37.746575  24.800000  36.077399      38.006711  \n",
       "diff    -0.381430   -0.782328   -0.853458  -1.596667  -2.012836      -2.170175  "
      ]
     },
     "execution_count": 77,
     "metadata": {},
     "output_type": "execute_result"
    }
   ],
   "source": [
    "import copy\n",
    "result = copy.deepcopy(pivot)\n",
    "result.loc['diff'] = pivot.loc['yes']-pivot.loc['no']\n",
    "result = result.T.sort_values(by=['diff'],ascending=False)\n",
    "result = result.T\n",
    "result"
   ]
  },
  {
   "cell_type": "code",
   "execution_count": 82,
   "id": "118944f5",
   "metadata": {},
   "outputs": [
    {
     "data": {
      "image/png": "[encoded data removed]",
      "text/plain": [
       "<Figure size 720x360 with 1 Axes>"
      ]
     },
     "metadata": {
      "needs_background": "light"
     },
     "output_type": "display_data"
    }
   ],
   "source": [
    "plt.figure(figsize=(10,5))\n",
    "plt.bar(result.loc['diff'].index,result.loc['diff'])\n",
    "plt.xticks(rotation=45)\n",
    "plt.show()"
   ]
  },
  {
   "cell_type": "code",
   "execution_count": 83,
   "id": "152188ca",
   "metadata": {},
   "outputs": [],
   "source": [
    "#강사님이 한거"
   ]
  },
  {
   "cell_type": "code",
   "execution_count": 84,
   "id": "c44b3078",
   "metadata": {},
   "outputs": [
    {
     "data": {
      "text/html": [
       "<div>\n",
       "<style scoped>\n",
       "    .dataframe tbody tr th:only-of-type {\n",
       "        vertical-align: middle;\n",
       "    }\n",
       "\n",
       "    .dataframe tbody tr th {\n",
       "        vertical-align: top;\n",
       "    }\n",
       "\n",
       "    .dataframe thead th {\n",
       "        text-align: right;\n",
       "    }\n",
       "</style>\n",
       "<table border=\"1\" class=\"dataframe\">\n",
       "  <thead>\n",
       "    <tr style=\"text-align: right;\">\n",
       "      <th>job</th>\n",
       "      <th>admin.</th>\n",
       "      <th>blue-collar</th>\n",
       "      <th>entrepreneur</th>\n",
       "      <th>housemaid</th>\n",
       "      <th>management</th>\n",
       "      <th>retired</th>\n",
       "      <th>self-employed</th>\n",
       "      <th>services</th>\n",
       "      <th>student</th>\n",
       "      <th>technician</th>\n",
       "      <th>unemployed</th>\n",
       "      <th>unknown</th>\n",
       "    </tr>\n",
       "    <tr>\n",
       "      <th>y</th>\n",
       "      <th></th>\n",
       "      <th></th>\n",
       "      <th></th>\n",
       "      <th></th>\n",
       "      <th></th>\n",
       "      <th></th>\n",
       "      <th></th>\n",
       "      <th></th>\n",
       "      <th></th>\n",
       "      <th></th>\n",
       "      <th></th>\n",
       "      <th></th>\n",
       "    </tr>\n",
       "  </thead>\n",
       "  <tbody>\n",
       "    <tr>\n",
       "      <th>no</th>\n",
       "      <td>38.219846</td>\n",
       "      <td>39.582057</td>\n",
       "      <td>41.703453</td>\n",
       "      <td>44.705451</td>\n",
       "      <td>42.309707</td>\n",
       "      <td>59.926128</td>\n",
       "      <td>40.176887</td>\n",
       "      <td>38.090236</td>\n",
       "      <td>26.396667</td>\n",
       "      <td>38.600033</td>\n",
       "      <td>39.844828</td>\n",
       "      <td>45.375427</td>\n",
       "    </tr>\n",
       "    <tr>\n",
       "      <th>yes</th>\n",
       "      <td>37.968935</td>\n",
       "      <td>39.200627</td>\n",
       "      <td>41.935484</td>\n",
       "      <td>52.650943</td>\n",
       "      <td>42.783537</td>\n",
       "      <td>68.253456</td>\n",
       "      <td>38.006711</td>\n",
       "      <td>36.077399</td>\n",
       "      <td>24.800000</td>\n",
       "      <td>37.746575</td>\n",
       "      <td>39.062500</td>\n",
       "      <td>47.054054</td>\n",
       "    </tr>\n",
       "  </tbody>\n",
       "</table>\n",
       "</div>"
      ],
      "text/plain": [
       "job     admin.  blue-collar  entrepreneur  housemaid  management    retired  \\\n",
       "y                                                                             \n",
       "no   38.219846    39.582057     41.703453  44.705451   42.309707  59.926128   \n",
       "yes  37.968935    39.200627     41.935484  52.650943   42.783537  68.253456   \n",
       "\n",
       "job  self-employed   services    student  technician  unemployed    unknown  \n",
       "y                                                                            \n",
       "no       40.176887  38.090236  26.396667   38.600033   39.844828  45.375427  \n",
       "yes      38.006711  36.077399  24.800000   37.746575   39.062500  47.054054  "
      ]
     },
     "execution_count": 84,
     "metadata": {},
     "output_type": "execute_result"
    }
   ],
   "source": [
    "# TODO\n",
    "pivot = pd.pivot_table(df, values='age', index='y', columns='job', aggfunc='mean')\n",
    "\n",
    "pivot"
   ]
  },
  {
   "cell_type": "code",
   "execution_count": 85,
   "id": "dd6e3e89",
   "metadata": {},
   "outputs": [
    {
     "data": {
      "text/html": [
       "<div>\n",
       "<style scoped>\n",
       "    .dataframe tbody tr th:only-of-type {\n",
       "        vertical-align: middle;\n",
       "    }\n",
       "\n",
       "    .dataframe tbody tr th {\n",
       "        vertical-align: top;\n",
       "    }\n",
       "\n",
       "    .dataframe thead th {\n",
       "        text-align: right;\n",
       "    }\n",
       "</style>\n",
       "<table border=\"1\" class=\"dataframe\">\n",
       "  <thead>\n",
       "    <tr style=\"text-align: right;\">\n",
       "      <th>job</th>\n",
       "      <th>admin.</th>\n",
       "      <th>blue-collar</th>\n",
       "      <th>entrepreneur</th>\n",
       "      <th>housemaid</th>\n",
       "      <th>management</th>\n",
       "      <th>retired</th>\n",
       "      <th>self-employed</th>\n",
       "      <th>services</th>\n",
       "      <th>student</th>\n",
       "      <th>technician</th>\n",
       "      <th>unemployed</th>\n",
       "      <th>unknown</th>\n",
       "    </tr>\n",
       "    <tr>\n",
       "      <th>y</th>\n",
       "      <th></th>\n",
       "      <th></th>\n",
       "      <th></th>\n",
       "      <th></th>\n",
       "      <th></th>\n",
       "      <th></th>\n",
       "      <th></th>\n",
       "      <th></th>\n",
       "      <th></th>\n",
       "      <th></th>\n",
       "      <th></th>\n",
       "      <th></th>\n",
       "    </tr>\n",
       "  </thead>\n",
       "  <tbody>\n",
       "    <tr>\n",
       "      <th>no</th>\n",
       "      <td>38.219846</td>\n",
       "      <td>39.582057</td>\n",
       "      <td>41.703453</td>\n",
       "      <td>44.705451</td>\n",
       "      <td>42.309707</td>\n",
       "      <td>59.926128</td>\n",
       "      <td>40.176887</td>\n",
       "      <td>38.090236</td>\n",
       "      <td>26.396667</td>\n",
       "      <td>38.600033</td>\n",
       "      <td>39.844828</td>\n",
       "      <td>45.375427</td>\n",
       "    </tr>\n",
       "    <tr>\n",
       "      <th>yes</th>\n",
       "      <td>37.968935</td>\n",
       "      <td>39.200627</td>\n",
       "      <td>41.935484</td>\n",
       "      <td>52.650943</td>\n",
       "      <td>42.783537</td>\n",
       "      <td>68.253456</td>\n",
       "      <td>38.006711</td>\n",
       "      <td>36.077399</td>\n",
       "      <td>24.800000</td>\n",
       "      <td>37.746575</td>\n",
       "      <td>39.062500</td>\n",
       "      <td>47.054054</td>\n",
       "    </tr>\n",
       "    <tr>\n",
       "      <th>diff</th>\n",
       "      <td>-0.250911</td>\n",
       "      <td>-0.381430</td>\n",
       "      <td>0.232030</td>\n",
       "      <td>7.945493</td>\n",
       "      <td>0.473829</td>\n",
       "      <td>8.327329</td>\n",
       "      <td>-2.170175</td>\n",
       "      <td>-2.012836</td>\n",
       "      <td>-1.596667</td>\n",
       "      <td>-0.853458</td>\n",
       "      <td>-0.782328</td>\n",
       "      <td>1.678627</td>\n",
       "    </tr>\n",
       "  </tbody>\n",
       "</table>\n",
       "</div>"
      ],
      "text/plain": [
       "job      admin.  blue-collar  entrepreneur  housemaid  management    retired  \\\n",
       "y                                                                              \n",
       "no    38.219846    39.582057     41.703453  44.705451   42.309707  59.926128   \n",
       "yes   37.968935    39.200627     41.935484  52.650943   42.783537  68.253456   \n",
       "diff  -0.250911    -0.381430      0.232030   7.945493    0.473829   8.327329   \n",
       "\n",
       "job   self-employed   services    student  technician  unemployed    unknown  \n",
       "y                                                                             \n",
       "no        40.176887  38.090236  26.396667   38.600033   39.844828  45.375427  \n",
       "yes       38.006711  36.077399  24.800000   37.746575   39.062500  47.054054  \n",
       "diff      -2.170175  -2.012836  -1.596667   -0.853458   -0.782328   1.678627  "
      ]
     },
     "execution_count": 85,
     "metadata": {},
     "output_type": "execute_result"
    }
   ],
   "source": [
    "pivot.loc['diff'] = pivot.loc['yes'] - pivot.loc['no']\n",
    "\n",
    "pivot"
   ]
  },
  {
   "cell_type": "code",
   "execution_count": 86,
   "id": "ac57d924",
   "metadata": {},
   "outputs": [
    {
     "data": {
      "text/html": [
       "<div>\n",
       "<style scoped>\n",
       "    .dataframe tbody tr th:only-of-type {\n",
       "        vertical-align: middle;\n",
       "    }\n",
       "\n",
       "    .dataframe tbody tr th {\n",
       "        vertical-align: top;\n",
       "    }\n",
       "\n",
       "    .dataframe thead th {\n",
       "        text-align: right;\n",
       "    }\n",
       "</style>\n",
       "<table border=\"1\" class=\"dataframe\">\n",
       "  <thead>\n",
       "    <tr style=\"text-align: right;\">\n",
       "      <th>job</th>\n",
       "      <th>retired</th>\n",
       "      <th>housemaid</th>\n",
       "      <th>unknown</th>\n",
       "      <th>management</th>\n",
       "      <th>entrepreneur</th>\n",
       "      <th>admin.</th>\n",
       "      <th>blue-collar</th>\n",
       "      <th>unemployed</th>\n",
       "      <th>technician</th>\n",
       "      <th>student</th>\n",
       "      <th>services</th>\n",
       "      <th>self-employed</th>\n",
       "    </tr>\n",
       "    <tr>\n",
       "      <th>y</th>\n",
       "      <th></th>\n",
       "      <th></th>\n",
       "      <th></th>\n",
       "      <th></th>\n",
       "      <th></th>\n",
       "      <th></th>\n",
       "      <th></th>\n",
       "      <th></th>\n",
       "      <th></th>\n",
       "      <th></th>\n",
       "      <th></th>\n",
       "      <th></th>\n",
       "    </tr>\n",
       "  </thead>\n",
       "  <tbody>\n",
       "    <tr>\n",
       "      <th>no</th>\n",
       "      <td>59.926128</td>\n",
       "      <td>44.705451</td>\n",
       "      <td>45.375427</td>\n",
       "      <td>42.309707</td>\n",
       "      <td>41.703453</td>\n",
       "      <td>38.219846</td>\n",
       "      <td>39.582057</td>\n",
       "      <td>39.844828</td>\n",
       "      <td>38.600033</td>\n",
       "      <td>26.396667</td>\n",
       "      <td>38.090236</td>\n",
       "      <td>40.176887</td>\n",
       "    </tr>\n",
       "    <tr>\n",
       "      <th>yes</th>\n",
       "      <td>68.253456</td>\n",
       "      <td>52.650943</td>\n",
       "      <td>47.054054</td>\n",
       "      <td>42.783537</td>\n",
       "      <td>41.935484</td>\n",
       "      <td>37.968935</td>\n",
       "      <td>39.200627</td>\n",
       "      <td>39.062500</td>\n",
       "      <td>37.746575</td>\n",
       "      <td>24.800000</td>\n",
       "      <td>36.077399</td>\n",
       "      <td>38.006711</td>\n",
       "    </tr>\n",
       "    <tr>\n",
       "      <th>diff</th>\n",
       "      <td>8.327329</td>\n",
       "      <td>7.945493</td>\n",
       "      <td>1.678627</td>\n",
       "      <td>0.473829</td>\n",
       "      <td>0.232030</td>\n",
       "      <td>-0.250911</td>\n",
       "      <td>-0.381430</td>\n",
       "      <td>-0.782328</td>\n",
       "      <td>-0.853458</td>\n",
       "      <td>-1.596667</td>\n",
       "      <td>-2.012836</td>\n",
       "      <td>-2.170175</td>\n",
       "    </tr>\n",
       "  </tbody>\n",
       "</table>\n",
       "</div>"
      ],
      "text/plain": [
       "job     retired  housemaid    unknown  management  entrepreneur     admin.  \\\n",
       "y                                                                            \n",
       "no    59.926128  44.705451  45.375427   42.309707     41.703453  38.219846   \n",
       "yes   68.253456  52.650943  47.054054   42.783537     41.935484  37.968935   \n",
       "diff   8.327329   7.945493   1.678627    0.473829      0.232030  -0.250911   \n",
       "\n",
       "job   blue-collar  unemployed  technician    student   services  self-employed  \n",
       "y                                                                               \n",
       "no      39.582057   39.844828   38.600033  26.396667  38.090236      40.176887  \n",
       "yes     39.200627   39.062500   37.746575  24.800000  36.077399      38.006711  \n",
       "diff    -0.381430   -0.782328   -0.853458  -1.596667  -2.012836      -2.170175  "
      ]
     },
     "execution_count": 86,
     "metadata": {},
     "output_type": "execute_result"
    }
   ],
   "source": [
    "result = pivot.sort_values('diff', axis=1, ascending=False)\n",
    "\n",
    "result"
   ]
  },
  {
   "cell_type": "code",
   "execution_count": 87,
   "id": "f74a863e",
   "metadata": {},
   "outputs": [
    {
     "data": {
      "text/plain": [
       "<AxesSubplot:xlabel='job'>"
      ]
     },
     "execution_count": 87,
     "metadata": {},
     "output_type": "execute_result"
    },
    {
     "data": {
      "image/png": "[encoded data removed]",
      "text/plain": [
       "<Figure size 432x288 with 1 Axes>"
      ]
     },
     "metadata": {
      "needs_background": "light"
     },
     "output_type": "display_data"
    }
   ],
   "source": [
    "result.loc['diff'].plot.bar()"
   ]
  },
  {
   "cell_type": "code",
   "execution_count": 88,
   "id": "030fb50b",
   "metadata": {},
   "outputs": [],
   "source": [
    "#내가한거 \n",
    "#pivot과 동일한 result를 deep copy로만들어 pivot과 result를 동일하지만 \n",
    "#내용 변경에 따른 영향이안가게 만들고 diff 인덱스 생성후\n",
    "#행열 전환후 sort시킨다음 다시 전환시킴"
   ]
  },
  {
   "cell_type": "code",
   "execution_count": 89,
   "id": "30fa11d1",
   "metadata": {},
   "outputs": [],
   "source": [
    "#강사님이한거\n",
    "#pivot에 diff 인덱스 생성후\n",
    "#result에 diff value가 sort된거를 할당 sort_values에 axis를 넣는게 포인트"
   ]
  },
  {
   "cell_type": "code",
   "execution_count": null,
   "id": "3ada15a5",
   "metadata": {},
   "outputs": [],
   "source": []
  },
  {
   "cell_type": "code",
   "execution_count": null,
   "id": "e4e43826",
   "metadata": {},
   "outputs": [],
   "source": []
  },
  {
   "cell_type": "code",
   "execution_count": null,
   "id": "cbfc39e4",
   "metadata": {},
   "outputs": [],
   "source": []
  },
  {
   "cell_type": "code",
   "execution_count": null,
   "id": "8500b77d",
   "metadata": {},
   "outputs": [],
   "source": []
  },
  {
   "cell_type": "code",
   "execution_count": null,
   "id": "aa5bd840",
   "metadata": {},
   "outputs": [],
   "source": []
  },
  {
   "cell_type": "code",
   "execution_count": null,
   "id": "854221a1",
   "metadata": {},
   "outputs": [],
   "source": []
  },
  {
   "cell_type": "code",
   "execution_count": null,
   "id": "5282d8dc",
   "metadata": {},
   "outputs": [],
   "source": []
  },
  {
   "cell_type": "code",
   "execution_count": null,
   "id": "d6c650b8",
   "metadata": {},
   "outputs": [],
   "source": []
  },
  {
   "cell_type": "code",
   "execution_count": null,
   "id": "3cdfc412",
   "metadata": {},
   "outputs": [],
   "source": []
  },
  {
   "cell_type": "code",
   "execution_count": null,
   "id": "34fe7fe2",
   "metadata": {},
   "outputs": [],
   "source": []
  },
  {
   "cell_type": "code",
   "execution_count": null,
   "id": "1be9541d",
   "metadata": {},
   "outputs": [],
   "source": []
  },
  {
   "cell_type": "code",
   "execution_count": null,
   "id": "79b085e1",
   "metadata": {},
   "outputs": [],
   "source": []
  },
  {
   "cell_type": "code",
   "execution_count": null,
   "id": "90bea81e",
   "metadata": {},
   "outputs": [],
   "source": []
  },
  {
   "cell_type": "code",
   "execution_count": null,
   "id": "16cb49a4",
   "metadata": {},
   "outputs": [],
   "source": []
  },
  {
   "cell_type": "code",
   "execution_count": null,
   "id": "03397fbe",
   "metadata": {},
   "outputs": [],
   "source": []
  },
  {
   "cell_type": "code",
   "execution_count": null,
   "id": "3c1051b1",
   "metadata": {},
   "outputs": [],
   "source": []
  },
  {
   "cell_type": "code",
   "execution_count": null,
   "id": "7dc24797",
   "metadata": {},
   "outputs": [],
   "source": []
  },
  {
   "cell_type": "code",
   "execution_count": null,
   "id": "e6b5b55f",
   "metadata": {},
   "outputs": [],
   "source": []
  },
  {
   "cell_type": "code",
   "execution_count": null,
   "id": "4331b9ec",
   "metadata": {},
   "outputs": [],
   "source": []
  },
  {
   "cell_type": "code",
   "execution_count": null,
   "id": "820f7156",
   "metadata": {},
   "outputs": [],
   "source": []
  },
  {
   "cell_type": "code",
   "execution_count": null,
   "id": "84009eba",
   "metadata": {},
   "outputs": [],
   "source": []
  },
  {
   "cell_type": "code",
   "execution_count": null,
   "id": "eca7ee41",
   "metadata": {},
   "outputs": [],
   "source": []
  },
  {
   "cell_type": "code",
   "execution_count": null,
   "id": "b93994ea",
   "metadata": {},
   "outputs": [],
   "source": []
  },
  {
   "cell_type": "code",
   "execution_count": null,
   "id": "100f5456",
   "metadata": {},
   "outputs": [],
   "source": []
  },
  {
   "cell_type": "code",
   "execution_count": null,
   "id": "9442104c",
   "metadata": {},
   "outputs": [],
   "source": []
  },
  {
   "cell_type": "code",
   "execution_count": null,
   "id": "0e939ae1",
   "metadata": {},
   "outputs": [],
   "source": []
  },
  {
   "cell_type": "code",
   "execution_count": null,
   "id": "bc2ea12d",
   "metadata": {},
   "outputs": [],
   "source": []
  },
  {
   "cell_type": "code",
   "execution_count": null,
   "id": "8a7afa54",
   "metadata": {},
   "outputs": [],
   "source": []
  },
  {
   "cell_type": "code",
   "execution_count": null,
   "id": "51f088b7",
   "metadata": {},
   "outputs": [],
   "source": []
  },
  {
   "cell_type": "code",
   "execution_count": null,
   "id": "4f2f15f9",
   "metadata": {},
   "outputs": [],
   "source": []
  },
  {
   "cell_type": "code",
   "execution_count": null,
   "id": "f4791323",
   "metadata": {},
   "outputs": [],
   "source": []
  },
  {
   "cell_type": "code",
   "execution_count": null,
   "id": "198534c7",
   "metadata": {},
   "outputs": [],
   "source": []
  },
  {
   "cell_type": "code",
   "execution_count": null,
   "id": "50bc3a72",
   "metadata": {},
   "outputs": [],
   "source": []
  },
  {
   "cell_type": "code",
   "execution_count": null,
   "id": "0c19e680",
   "metadata": {},
   "outputs": [],
   "source": []
  },
  {
   "cell_type": "code",
   "execution_count": null,
   "id": "e30e13c1",
   "metadata": {},
   "outputs": [],
   "source": []
  },
  {
   "cell_type": "code",
   "execution_count": null,
   "id": "28207b3b",
   "metadata": {},
   "outputs": [],
   "source": []
  },
  {
   "cell_type": "code",
   "execution_count": null,
   "id": "675a8bcb",
   "metadata": {},
   "outputs": [],
   "source": []
  },
  {
   "cell_type": "code",
   "execution_count": null,
   "id": "d650b284",
   "metadata": {},
   "outputs": [],
   "source": []
  },
  {
   "cell_type": "code",
   "execution_count": null,
   "id": "8e2d2577",
   "metadata": {},
   "outputs": [],
   "source": []
  },
  {
   "cell_type": "code",
   "execution_count": null,
   "id": "fe20ec4b",
   "metadata": {},
   "outputs": [],
   "source": []
  }
 ],
 "metadata": {
  "kernelspec": {
   "display_name": "Python 3 (ipykernel)",
   "language": "python",
   "name": "python3"
  },
  "language_info": {
   "codemirror_mode": {
    "name": "ipython",
    "version": 3
   },
   "file_extension": ".py",
   "mimetype": "text/x-python",
   "name": "python",
   "nbconvert_exporter": "python",
   "pygments_lexer": "ipython3",
   "version": "3.9.12"
  }
 },
 "nbformat": 4,
 "nbformat_minor": 5
}
